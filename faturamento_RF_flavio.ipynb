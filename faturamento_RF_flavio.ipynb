{
  "nbformat": 4,
  "nbformat_minor": 0,
  "metadata": {
    "colab": {
      "name": "faturamento_RF-flavio.ipynb",
      "provenance": [],
      "collapsed_sections": [],
      "include_colab_link": true
    },
    "kernelspec": {
      "name": "python3",
      "display_name": "Python 3"
    }
  },
  "cells": [
    {
      "cell_type": "markdown",
      "metadata": {
        "id": "view-in-github",
        "colab_type": "text"
      },
      "source": [
        "<a href=\"https://colab.research.google.com/github/flamorim/BI-Master-2021.1/blob/main/faturamento_RF_flavio.ipynb\" target=\"_parent\"><img src=\"https://colab.research.google.com/assets/colab-badge.svg\" alt=\"Open In Colab\"/></a>"
      ]
    },
    {
      "cell_type": "markdown",
      "metadata": {
        "id": "LeamvpPVXuS_"
      },
      "source": [
        "# Random Forest - Previsão de Séries Temporais"
      ]
    },
    {
      "cell_type": "markdown",
      "metadata": {
        "id": "O2wvZ7SKXzVC"
      },
      "source": [
        "## Importar as bibliotecas"
      ]
    },
    {
      "cell_type": "code",
      "metadata": {
        "id": "PVmESEFZX4Ig"
      },
      "source": [
        "import numpy as np\n",
        "import matplotlib.pyplot as plt\n",
        "import pandas as pd"
      ],
      "execution_count": null,
      "outputs": []
    },
    {
      "cell_type": "markdown",
      "metadata": {
        "id": "zgbK_F8-X7em"
      },
      "source": [
        "## Importar a base de dados"
      ]
    },
    {
      "cell_type": "code",
      "metadata": {
        "id": "adBE4tjQX_Bh",
        "colab": {
          "base_uri": "https://localhost:8080/",
          "height": 205
        },
        "outputId": "cd0ef639-ae9d-41cc-edd2-756cb65b049b"
      },
      "source": [
        "dataset = pd.read_csv('fatvarejo.csv', sep=';')\n",
        "dataset.head()"
      ],
      "execution_count": null,
      "outputs": [
        {
          "output_type": "execute_result",
          "data": {
            "text/html": [
              "<div>\n",
              "<style scoped>\n",
              "    .dataframe tbody tr th:only-of-type {\n",
              "        vertical-align: middle;\n",
              "    }\n",
              "\n",
              "    .dataframe tbody tr th {\n",
              "        vertical-align: top;\n",
              "    }\n",
              "\n",
              "    .dataframe thead th {\n",
              "        text-align: right;\n",
              "    }\n",
              "</style>\n",
              "<table border=\"1\" class=\"dataframe\">\n",
              "  <thead>\n",
              "    <tr style=\"text-align: right;\">\n",
              "      <th></th>\n",
              "      <th>MS</th>\n",
              "      <th>ANO</th>\n",
              "      <th>FAT</th>\n",
              "    </tr>\n",
              "  </thead>\n",
              "  <tbody>\n",
              "    <tr>\n",
              "      <th>0</th>\n",
              "      <td>Jan</td>\n",
              "      <td>2003</td>\n",
              "      <td>4899</td>\n",
              "    </tr>\n",
              "    <tr>\n",
              "      <th>1</th>\n",
              "      <td>Fev</td>\n",
              "      <td>2003</td>\n",
              "      <td>4734</td>\n",
              "    </tr>\n",
              "    <tr>\n",
              "      <th>2</th>\n",
              "      <td>Mar</td>\n",
              "      <td>2003</td>\n",
              "      <td>4759</td>\n",
              "    </tr>\n",
              "    <tr>\n",
              "      <th>3</th>\n",
              "      <td>Abr</td>\n",
              "      <td>2003</td>\n",
              "      <td>4874</td>\n",
              "    </tr>\n",
              "    <tr>\n",
              "      <th>4</th>\n",
              "      <td>Mai</td>\n",
              "      <td>2003</td>\n",
              "      <td>5721</td>\n",
              "    </tr>\n",
              "  </tbody>\n",
              "</table>\n",
              "</div>"
            ],
            "text/plain": [
              "    MS   ANO   FAT\n",
              "0  Jan  2003  4899\n",
              "1  Fev  2003  4734\n",
              "2  Mar  2003  4759\n",
              "3  Abr  2003  4874\n",
              "4  Mai  2003  5721"
            ]
          },
          "metadata": {
            "tags": []
          },
          "execution_count": 4
        }
      ]
    },
    {
      "cell_type": "code",
      "metadata": {
        "id": "F21JIhe0ZT00",
        "colab": {
          "base_uri": "https://localhost:8080/",
          "height": 205
        },
        "outputId": "2f7794ea-2624-4d30-b694-2f05cb198d1c"
      },
      "source": [
        "dataset[\"data\"] = dataset[\"MS\"] + dataset[\"ANO\"].astype(str)\n",
        "## tem repetição das colunas mes e ano, assim cria-se a chave primaria\n",
        "dataset.head()"
      ],
      "execution_count": null,
      "outputs": [
        {
          "output_type": "execute_result",
          "data": {
            "text/html": [
              "<div>\n",
              "<style scoped>\n",
              "    .dataframe tbody tr th:only-of-type {\n",
              "        vertical-align: middle;\n",
              "    }\n",
              "\n",
              "    .dataframe tbody tr th {\n",
              "        vertical-align: top;\n",
              "    }\n",
              "\n",
              "    .dataframe thead th {\n",
              "        text-align: right;\n",
              "    }\n",
              "</style>\n",
              "<table border=\"1\" class=\"dataframe\">\n",
              "  <thead>\n",
              "    <tr style=\"text-align: right;\">\n",
              "      <th></th>\n",
              "      <th>MS</th>\n",
              "      <th>ANO</th>\n",
              "      <th>FAT</th>\n",
              "      <th>data</th>\n",
              "    </tr>\n",
              "  </thead>\n",
              "  <tbody>\n",
              "    <tr>\n",
              "      <th>0</th>\n",
              "      <td>Jan</td>\n",
              "      <td>2003</td>\n",
              "      <td>4899</td>\n",
              "      <td>Jan2003</td>\n",
              "    </tr>\n",
              "    <tr>\n",
              "      <th>1</th>\n",
              "      <td>Fev</td>\n",
              "      <td>2003</td>\n",
              "      <td>4734</td>\n",
              "      <td>Fev2003</td>\n",
              "    </tr>\n",
              "    <tr>\n",
              "      <th>2</th>\n",
              "      <td>Mar</td>\n",
              "      <td>2003</td>\n",
              "      <td>4759</td>\n",
              "      <td>Mar2003</td>\n",
              "    </tr>\n",
              "    <tr>\n",
              "      <th>3</th>\n",
              "      <td>Abr</td>\n",
              "      <td>2003</td>\n",
              "      <td>4874</td>\n",
              "      <td>Abr2003</td>\n",
              "    </tr>\n",
              "    <tr>\n",
              "      <th>4</th>\n",
              "      <td>Mai</td>\n",
              "      <td>2003</td>\n",
              "      <td>5721</td>\n",
              "      <td>Mai2003</td>\n",
              "    </tr>\n",
              "  </tbody>\n",
              "</table>\n",
              "</div>"
            ],
            "text/plain": [
              "    MS   ANO   FAT     data\n",
              "0  Jan  2003  4899  Jan2003\n",
              "1  Fev  2003  4734  Fev2003\n",
              "2  Mar  2003  4759  Mar2003\n",
              "3  Abr  2003  4874  Abr2003\n",
              "4  Mai  2003  5721  Mai2003"
            ]
          },
          "metadata": {
            "tags": []
          },
          "execution_count": 5
        }
      ]
    },
    {
      "cell_type": "code",
      "metadata": {
        "id": "zL1UJWkNZjMc",
        "colab": {
          "base_uri": "https://localhost:8080/",
          "height": 236
        },
        "outputId": "01ee78be-4dfc-49bc-946e-99fdb4bf97c0"
      },
      "source": [
        "dataset.index = dataset['data']\n",
        "dataset = dataset.drop(columns=['ANO', 'MS', 'data'])\n",
        "dataset.head()"
      ],
      "execution_count": null,
      "outputs": [
        {
          "output_type": "execute_result",
          "data": {
            "text/html": [
              "<div>\n",
              "<style scoped>\n",
              "    .dataframe tbody tr th:only-of-type {\n",
              "        vertical-align: middle;\n",
              "    }\n",
              "\n",
              "    .dataframe tbody tr th {\n",
              "        vertical-align: top;\n",
              "    }\n",
              "\n",
              "    .dataframe thead th {\n",
              "        text-align: right;\n",
              "    }\n",
              "</style>\n",
              "<table border=\"1\" class=\"dataframe\">\n",
              "  <thead>\n",
              "    <tr style=\"text-align: right;\">\n",
              "      <th></th>\n",
              "      <th>FAT</th>\n",
              "    </tr>\n",
              "    <tr>\n",
              "      <th>data</th>\n",
              "      <th></th>\n",
              "    </tr>\n",
              "  </thead>\n",
              "  <tbody>\n",
              "    <tr>\n",
              "      <th>Jan2003</th>\n",
              "      <td>4899</td>\n",
              "    </tr>\n",
              "    <tr>\n",
              "      <th>Fev2003</th>\n",
              "      <td>4734</td>\n",
              "    </tr>\n",
              "    <tr>\n",
              "      <th>Mar2003</th>\n",
              "      <td>4759</td>\n",
              "    </tr>\n",
              "    <tr>\n",
              "      <th>Abr2003</th>\n",
              "      <td>4874</td>\n",
              "    </tr>\n",
              "    <tr>\n",
              "      <th>Mai2003</th>\n",
              "      <td>5721</td>\n",
              "    </tr>\n",
              "  </tbody>\n",
              "</table>\n",
              "</div>"
            ],
            "text/plain": [
              "          FAT\n",
              "data         \n",
              "Jan2003  4899\n",
              "Fev2003  4734\n",
              "Mar2003  4759\n",
              "Abr2003  4874\n",
              "Mai2003  5721"
            ]
          },
          "metadata": {
            "tags": []
          },
          "execution_count": 7
        }
      ]
    },
    {
      "cell_type": "code",
      "metadata": {
        "id": "TFi9vNpq-eyY",
        "colab": {
          "base_uri": "https://localhost:8080/"
        },
        "outputId": "3c24d671-acb0-4afa-98da-4e821b6ba2e0"
      },
      "source": [
        "dataset.shape"
      ],
      "execution_count": null,
      "outputs": [
        {
          "output_type": "execute_result",
          "data": {
            "text/plain": [
              "(132, 1)"
            ]
          },
          "metadata": {
            "tags": []
          },
          "execution_count": 8
        }
      ]
    },
    {
      "cell_type": "markdown",
      "metadata": {
        "id": "EvnIY4Blsjh6"
      },
      "source": [
        "## Visualizar série histórica"
      ]
    },
    {
      "cell_type": "code",
      "metadata": {
        "id": "LWIX2ClwmR2y",
        "colab": {
          "base_uri": "https://localhost:8080/",
          "height": 249
        },
        "outputId": "2af62a9e-126a-401a-b0da-ebe334e4b6b7"
      },
      "source": [
        "plt.figure(figsize=(20,5))\n",
        "plt.plot(dataset)\n",
        "plt.xlabel(\"tempo\")\n",
        "plt.ylabel(\"Faturamento\")\n",
        "plt.title(\"Faturamento - Varejo\")\n",
        "plt.xticks([0,50,100,131], rotation=45) # coloca somente 4 valores no eixo x e rotaciona 45 graus por questões de visualização\n",
        "plt.show()"
      ],
      "execution_count": null,
      "outputs": [
        {
          "output_type": "display_data",
          "data": {
            "image/png": "[encoded data removed]",
            "text/plain": [
              "<Figure size 1440x360 with 1 Axes>"
            ]
          },
          "metadata": {
            "tags": [],
            "needs_background": "light"
          }
        }
      ]
    },
    {
      "cell_type": "markdown",
      "metadata": {
        "id": "y-ejxZXusmi0"
      },
      "source": [
        "## Criar janelamento"
      ]
    },
    {
      "cell_type": "code",
      "metadata": {
        "id": "qGm8N7urSPLD"
      },
      "source": [
        "window = 5   ## NUMERO MAGICO\n",
        "dataSize = len(dataset)\n",
        "X = []\n",
        "y = []\n",
        "for i in range(window, dataSize):\n",
        "    X.append(dataset.iloc[i-window:i, 0])\n",
        "    y.append(dataset.iloc[i, 0])\n",
        "X, y = np.array(X), np.array(y)"
      ],
      "execution_count": null,
      "outputs": []
    },
    {
      "cell_type": "code",
      "metadata": {
        "id": "BomAr0S9TrFI",
        "colab": {
          "base_uri": "https://localhost:8080/"
        },
        "outputId": "76241554-7925-4758-96e3-d5d72be6da56"
      },
      "source": [
        "print(X.shape)\n",
        "print(y.shape)"
      ],
      "execution_count": null,
      "outputs": [
        {
          "output_type": "stream",
          "text": [
            "(127, 5)\n",
            "(127,)\n"
          ],
          "name": "stdout"
        }
      ]
    },
    {
      "cell_type": "code",
      "metadata": {
        "id": "_2scbokkTwA1",
        "colab": {
          "base_uri": "https://localhost:8080/"
        },
        "outputId": "2bcc200e-ccca-414f-ef59-9b337c1cb0a9"
      },
      "source": [
        "X[0:6]"
      ],
      "execution_count": null,
      "outputs": [
        {
          "output_type": "execute_result",
          "data": {
            "text/plain": [
              "array([[4899, 4734, 4759, 4874, 5721],\n",
              "       [4734, 4759, 4874, 5721, 4820],\n",
              "       [4759, 4874, 5721, 4820, 5198],\n",
              "       [4874, 5721, 4820, 5198, 5198],\n",
              "       [5721, 4820, 5198, 5198, 5239],\n",
              "       [4820, 5198, 5198, 5239, 5577]])"
            ]
          },
          "metadata": {
            "tags": []
          },
          "execution_count": 14
        }
      ]
    },
    {
      "cell_type": "code",
      "metadata": {
        "id": "cUhbDRTtUBXx",
        "colab": {
          "base_uri": "https://localhost:8080/"
        },
        "outputId": "2d24e1a7-5ff7-4f73-a7e2-b9fa5b657aac"
      },
      "source": [
        "y[0:5]"
      ],
      "execution_count": null,
      "outputs": [
        {
          "output_type": "execute_result",
          "data": {
            "text/plain": [
              "array([4820, 5198, 5198, 5239, 5577])"
            ]
          },
          "metadata": {
            "tags": []
          },
          "execution_count": 15
        }
      ]
    },
    {
      "cell_type": "markdown",
      "metadata": {
        "id": "yr_qJaO8szst"
      },
      "source": [
        "## Separar em treino e teste"
      ]
    },
    {
      "cell_type": "code",
      "metadata": {
        "id": "ETIm8BKAk3vO"
      },
      "source": [
        "import random\n",
        "np.random.seed(0) #semente inicial (reprodução de resultados)"
      ],
      "execution_count": null,
      "outputs": []
    },
    {
      "cell_type": "code",
      "metadata": {
        "id": "K-8kRmW3TFx9",
        "colab": {
          "base_uri": "https://localhost:8080/"
        },
        "outputId": "a3ed2ea6-1032-447c-c653-791f18347186"
      },
      "source": [
        "from sklearn.model_selection import train_test_split\n",
        "x_train, x_test, y_train, y_test = train_test_split(X, y, test_size=0.2)\n",
        "\n",
        "# imprimir\n",
        "x_train[0:5]"
      ],
      "execution_count": null,
      "outputs": [
        {
          "output_type": "execute_result",
          "data": {
            "text/plain": [
              "array([[14548, 12570, 13245, 13540, 12785],\n",
              "       [ 5135,  5821,  5629,  6639,  5811],\n",
              "       [ 6433,  6602,  8316,  6355,  5734],\n",
              "       [ 8699, 10482,  9746,  9401,  9637],\n",
              "       [ 6234,  5992,  6949,  6161,  6263]])"
            ]
          },
          "metadata": {
            "tags": []
          },
          "execution_count": 17
        }
      ]
    },
    {
      "cell_type": "markdown",
      "metadata": {
        "id": "v4S2fyIBYDcu"
      },
      "source": [
        "## Random Forest"
      ]
    },
    {
      "cell_type": "code",
      "metadata": {
        "id": "o8dOCoJ1YKMc"
      },
      "source": [
        "from sklearn.ensemble import RandomForestRegressor\n",
        "regressor = RandomForestRegressor(n_estimators = 10, random_state=0)\n",
        "regressor.fit(x_train, y_train);"
      ],
      "execution_count": null,
      "outputs": []
    },
    {
      "cell_type": "markdown",
      "metadata": {
        "id": "8IbsXbK3YM4M"
      },
      "source": [
        "## Utilizar modelo treinado para fazer previsões na base de teste (um passo à frente)"
      ]
    },
    {
      "cell_type": "code",
      "metadata": {
        "id": "n67gIrMolqdH",
        "colab": {
          "base_uri": "https://localhost:8080/"
        },
        "outputId": "6f21b55d-68a1-44e7-ac50-35aa13f7502d"
      },
      "source": [
        "y_pred = regressor.predict(x_test)\n",
        "y_pred[0:5]"
      ],
      "execution_count": null,
      "outputs": [
        {
          "output_type": "execute_result",
          "data": {
            "text/plain": [
              "array([ 6266.9,  8493.2, 13317. ,  5969.1,  7692.9])"
            ]
          },
          "metadata": {
            "tags": []
          },
          "execution_count": 19
        }
      ]
    },
    {
      "cell_type": "code",
      "metadata": {
        "id": "yAng9J2NoliR",
        "colab": {
          "base_uri": "https://localhost:8080/",
          "height": 281
        },
        "outputId": "c94aead5-518a-4bff-8686-6c2b53fc46b1"
      },
      "source": [
        "plt.plot(y_pred, label='previsto', marker='o') # RESULTADO CALCULADO\n",
        "plt.plot(y_test, label='real', marker='+')     # VALOR REAL\n",
        "plt.ylabel(\"Faturamento\")\n",
        "plt.title(\"Faturamento - Varejo\")\n",
        "plt.legend()\n",
        "plt.show()"
      ],
      "execution_count": null,
      "outputs": [
        {
          "output_type": "display_data",
          "data": {
            "image/png": "[encoded data removed]",
            "text/plain": [
              "<Figure size 432x288 with 1 Axes>"
            ]
          },
          "metadata": {
            "tags": [],
            "needs_background": "light"
          }
        }
      ]
    },
    {
      "cell_type": "code",
      "metadata": {
        "id": "-Qh2fCi4qcVP",
        "colab": {
          "base_uri": "https://localhost:8080/",
          "height": 295
        },
        "outputId": "ed13a92b-bffb-4a8d-e780-a44eb5e539ae"
      },
      "source": [
        "plt.scatter(y_pred,y_test)\n",
        "plt.ylabel(\"Real\")\n",
        "plt.xlabel(\"Previsto\")\n",
        "plt.title(\"Faturamento - Varejo\")\n",
        "\n",
        "x = [5000.0, 14500.0]\n",
        "plt.plot(x, x, color='red'); #reta onde y=x\n",
        "\n",
        "plt.show()"
      ],
      "execution_count": null,
      "outputs": [
        {
          "output_type": "display_data",
          "data": {
            "image/png": "[encoded data removed]",
            "text/plain": [
              "<Figure size 432x288 with 1 Axes>"
            ]
          },
          "metadata": {
            "tags": [],
            "needs_background": "light"
          }
        }
      ]
    },
    {
      "cell_type": "markdown",
      "metadata": {
        "id": "Eyfh20t3tIFP"
      },
      "source": [
        "## Calcular métricas de erro"
      ]
    },
    {
      "cell_type": "code",
      "metadata": {
        "id": "oYN7l7fgqgYn",
        "colab": {
          "base_uri": "https://localhost:8080/",
          "height": 35
        },
        "outputId": "e8205f66-beee-4c70-86af-02a573ebdd2a"
      },
      "source": [
        "import math\n",
        "from sklearn.metrics import mean_squared_error\n",
        "rmse = math.sqrt(mean_squared_error(y_pred,y_test))\n",
        "print('RMSE: ', rmse)"
      ],
      "execution_count": null,
      "outputs": [
        {
          "output_type": "stream",
          "text": [
            "RMSE:  444.2312338936408\n"
          ],
          "name": "stdout"
        }
      ]
    },
    {
      "cell_type": "code",
      "metadata": {
        "id": "xh_ejvR3qgtq",
        "colab": {
          "base_uri": "https://localhost:8080/",
          "height": 35
        },
        "outputId": "1e57b0d2-48b9-4f9a-ffcc-632db062402a"
      },
      "source": [
        "mse = mean_squared_error(y_pred,y_test)\n",
        "print('MSE: ',mse)"
      ],
      "execution_count": null,
      "outputs": [
        {
          "output_type": "stream",
          "text": [
            "MSE:  197341.38916666663\n"
          ],
          "name": "stdout"
        }
      ]
    },
    {
      "cell_type": "code",
      "metadata": {
        "id": "Bsb_1e_1qgv4",
        "colab": {
          "base_uri": "https://localhost:8080/",
          "height": 35
        },
        "outputId": "0e57c711-f7a1-402f-9743-9454c2bdc9cb"
      },
      "source": [
        "mape = np.mean(np.abs((y_test - y_pred) / y_test)) * 100\n",
        "print('MAPE: ',mape, '%')"
      ],
      "execution_count": null,
      "outputs": [
        {
          "output_type": "stream",
          "text": [
            "MAPE:  3.844357469968852 %\n"
          ],
          "name": "stdout"
        }
      ]
    },
    {
      "cell_type": "code",
      "metadata": {
        "id": "N9xPVInwqg6Y",
        "colab": {
          "base_uri": "https://localhost:8080/",
          "height": 35
        },
        "outputId": "7c736502-aa08-40ea-aaad-960af41010d8"
      },
      "source": [
        "from sklearn.metrics import r2_score\n",
        "r2_score(y_pred,y_test)"
      ],
      "execution_count": null,
      "outputs": [
        {
          "output_type": "execute_result",
          "data": {
            "text/plain": [
              "0.9704141797830119"
            ]
          },
          "metadata": {
            "tags": []
          },
          "execution_count": 26
        }
      ]
    },
    {
      "cell_type": "markdown",
      "metadata": {
        "id": "3KCS5M4ttKus"
      },
      "source": [
        "## Prever mais passos à frente\n",
        "\n",
        "OBS: tenha em conta que o modelo é 'one step ahead'. Ao prever mais passos à frente utilizando a própria previsão, estaremos propagando cada vez mais erro!"
      ]
    },
    {
      "cell_type": "markdown",
      "metadata": {
        "id": "WCsGCfIxQsFY"
      },
      "source": [
        "### Exercício 1: Utilize o modelo treinado para fazer a previsão de 1 passo à frente"
      ]
    },
    {
      "cell_type": "code",
      "metadata": {
        "id": "LzWYKNn1tMnu",
        "colab": {
          "base_uri": "https://localhost:8080/",
          "height": 54
        },
        "outputId": "48def9f8-2845-4836-893f-43cc15c2f59a"
      },
      "source": [
        "lag = dataset.iloc[dataSize-window:dataSize,0].values\n",
        "lag[0:window]"
      ],
      "execution_count": null,
      "outputs": [
        {
          "output_type": "execute_result",
          "data": {
            "text/plain": [
              "array([12505, 11280, 12865, 12530, 14548, 12570, 13245, 13540, 12785,\n",
              "       13550, 13645, 15600])"
            ]
          },
          "metadata": {
            "tags": []
          },
          "execution_count": 27
        }
      ]
    },
    {
      "cell_type": "code",
      "metadata": {
        "id": "KCKTauVBtcmh",
        "colab": {
          "base_uri": "https://localhost:8080/",
          "height": 457
        },
        "outputId": "f0df801b-298a-4947-d965-c8a983106bfb"
      },
      "source": [
        "dataset.tail(window)"
      ],
      "execution_count": null,
      "outputs": [
        {
          "output_type": "execute_result",
          "data": {
            "text/html": [
              "<div>\n",
              "<style scoped>\n",
              "    .dataframe tbody tr th:only-of-type {\n",
              "        vertical-align: middle;\n",
              "    }\n",
              "\n",
              "    .dataframe tbody tr th {\n",
              "        vertical-align: top;\n",
              "    }\n",
              "\n",
              "    .dataframe thead th {\n",
              "        text-align: right;\n",
              "    }\n",
              "</style>\n",
              "<table border=\"1\" class=\"dataframe\">\n",
              "  <thead>\n",
              "    <tr style=\"text-align: right;\">\n",
              "      <th></th>\n",
              "      <th>FAT</th>\n",
              "    </tr>\n",
              "    <tr>\n",
              "      <th>data</th>\n",
              "      <th></th>\n",
              "    </tr>\n",
              "  </thead>\n",
              "  <tbody>\n",
              "    <tr>\n",
              "      <th>Jan2013</th>\n",
              "      <td>12505</td>\n",
              "    </tr>\n",
              "    <tr>\n",
              "      <th>Fev2013</th>\n",
              "      <td>11280</td>\n",
              "    </tr>\n",
              "    <tr>\n",
              "      <th>Mar2013</th>\n",
              "      <td>12865</td>\n",
              "    </tr>\n",
              "    <tr>\n",
              "      <th>Abr2013</th>\n",
              "      <td>12530</td>\n",
              "    </tr>\n",
              "    <tr>\n",
              "      <th>Mai2013</th>\n",
              "      <td>14548</td>\n",
              "    </tr>\n",
              "    <tr>\n",
              "      <th>Jun2013</th>\n",
              "      <td>12570</td>\n",
              "    </tr>\n",
              "    <tr>\n",
              "      <th>Jul2013</th>\n",
              "      <td>13245</td>\n",
              "    </tr>\n",
              "    <tr>\n",
              "      <th>Ago2013</th>\n",
              "      <td>13540</td>\n",
              "    </tr>\n",
              "    <tr>\n",
              "      <th>Set2013</th>\n",
              "      <td>12785</td>\n",
              "    </tr>\n",
              "    <tr>\n",
              "      <th>Out2013</th>\n",
              "      <td>13550</td>\n",
              "    </tr>\n",
              "    <tr>\n",
              "      <th>Nov2013</th>\n",
              "      <td>13645</td>\n",
              "    </tr>\n",
              "    <tr>\n",
              "      <th>Dec2013</th>\n",
              "      <td>15600</td>\n",
              "    </tr>\n",
              "  </tbody>\n",
              "</table>\n",
              "</div>"
            ],
            "text/plain": [
              "           FAT\n",
              "data          \n",
              "Jan2013  12505\n",
              "Fev2013  11280\n",
              "Mar2013  12865\n",
              "Abr2013  12530\n",
              "Mai2013  14548\n",
              "Jun2013  12570\n",
              "Jul2013  13245\n",
              "Ago2013  13540\n",
              "Set2013  12785\n",
              "Out2013  13550\n",
              "Nov2013  13645\n",
              "Dec2013  15600"
            ]
          },
          "metadata": {
            "tags": []
          },
          "execution_count": 28
        }
      ]
    },
    {
      "cell_type": "code",
      "metadata": {
        "id": "HiyawUCk3HcR",
        "colab": {
          "base_uri": "https://localhost:8080/",
          "height": 72
        },
        "outputId": "395ce653-13ef-48ff-8128-4566559d7af3"
      },
      "source": [
        "lag = lag.reshape(1, -1)\n",
        "print(lag.shape)\n",
        "lag"
      ],
      "execution_count": null,
      "outputs": [
        {
          "output_type": "stream",
          "text": [
            "(1, 12)\n"
          ],
          "name": "stdout"
        },
        {
          "output_type": "execute_result",
          "data": {
            "text/plain": [
              "array([[12505, 11280, 12865, 12530, 14548, 12570, 13245, 13540, 12785,\n",
              "        13550, 13645, 15600]])"
            ]
          },
          "metadata": {
            "tags": []
          },
          "execution_count": 29
        }
      ]
    },
    {
      "cell_type": "code",
      "metadata": {
        "id": "YIazCkvXth-c",
        "colab": {
          "base_uri": "https://localhost:8080/",
          "height": 35
        },
        "outputId": "10384a0d-83a2-45a8-e716-84357c3aefa5"
      },
      "source": [
        "regressor.predict(lag)"
      ],
      "execution_count": null,
      "outputs": [
        {
          "output_type": "execute_result",
          "data": {
            "text/plain": [
              "array([12750.5])"
            ]
          },
          "metadata": {
            "tags": []
          },
          "execution_count": 30
        }
      ]
    },
    {
      "cell_type": "markdown",
      "metadata": {
        "id": "Dkf8USYUQ24P"
      },
      "source": [
        "### Exercício 2: Utilize o modelo treinado para fazer a previsão de 12 passos à frente"
      ]
    },
    {
      "cell_type": "code",
      "metadata": {
        "id": "o8x-jTqcuaGO"
      },
      "source": [
        "timesteps_to_predict = 12\n",
        "lag = dataset.iloc[dataSize-window:dataSize,0].values\n",
        "lag = lag.reshape(1, -1)\n",
        "\n",
        "predictions=[]\n",
        "for i in range(timesteps_to_predict):\n",
        "  prediction = regressor.predict(lag)\n",
        "  predictions.append(prediction)\n",
        "\n",
        "  lag = lag[0, 1:window]  \n",
        "  lag = np.append(lag, prediction[0])\n",
        "  lag = lag.reshape(1, -1)"
      ],
      "execution_count": null,
      "outputs": []
    },
    {
      "cell_type": "code",
      "metadata": {
        "id": "r7-t6SPi6zim",
        "colab": {
          "base_uri": "https://localhost:8080/",
          "height": 237
        },
        "outputId": "7d29edd2-8c7d-4669-fc8c-fde15730940f"
      },
      "source": [
        "predictions"
      ],
      "execution_count": null,
      "outputs": [
        {
          "output_type": "execute_result",
          "data": {
            "text/plain": [
              "[array([12750.5]),\n",
              " array([11865.5]),\n",
              " array([13371.5]),\n",
              " array([12806.]),\n",
              " array([14556.1]),\n",
              " array([12670.]),\n",
              " array([13360.5]),\n",
              " array([13479.8]),\n",
              " array([13377.5]),\n",
              " array([13522.4]),\n",
              " array([13500.3]),\n",
              " array([14326.])]"
            ]
          },
          "metadata": {
            "tags": []
          },
          "execution_count": 32
        }
      ]
    },
    {
      "cell_type": "code",
      "metadata": {
        "id": "wYzGILVV8xuy",
        "colab": {
          "base_uri": "https://localhost:8080/",
          "height": 350
        },
        "outputId": "87fe3d82-36fe-45f0-cf6c-30d298dc8bf1"
      },
      "source": [
        "plt.figure(figsize=(20,5))\n",
        "all_data = np.vstack((dataset, predictions))\n",
        "plt.plot(all_data)\n",
        "plt.title('Previsão de série temporal')\n",
        "plt.xlabel('Tempo')\n",
        "plt.ylabel('Faturamento')\n",
        "\n",
        "# marca o início das previsões\n",
        "x = [len(dataset)-1, len(dataset)-1]\n",
        "y = [dataset['FAT'].min(), dataset['FAT'].max()]\n",
        "plt.plot(x, y, color='red')\n",
        "\n",
        "#salva a figura\n",
        "plt.savefig('predictions_training_test.svg')\n",
        "plt.show()"
      ],
      "execution_count": null,
      "outputs": [
        {
          "output_type": "display_data",
          "data": {
            "image/png": "[encoded data removed]",
            "text/plain": [
              "<Figure size 1440x360 with 1 Axes>"
            ]
          },
          "metadata": {
            "tags": [],
            "needs_background": "light"
          }
        }
      ]
    },
    {
      "cell_type": "code",
      "metadata": {
        "id": "tm-ZDdUmacEg"
      },
      "source": [
        ""
      ],
      "execution_count": null,
      "outputs": []
    }
  ]
}