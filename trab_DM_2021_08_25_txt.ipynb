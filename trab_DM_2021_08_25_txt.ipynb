{
  "nbformat": 4,
  "nbformat_minor": 0,
  "metadata": {
    "colab": {
      "name": "trab-DM-2021.08.25-txt.ipynb",
      "provenance": [],
      "collapsed_sections": [],
      "authorship_tag": "ABX9TyMPEbLJyebgeuPT07xc7Okw",
      "include_colab_link": true
    },
    "kernelspec": {
      "name": "python3",
      "display_name": "Python 3"
    },
    "language_info": {
      "name": "python"
    }
  },
  "cells": [
    {
      "cell_type": "markdown",
      "metadata": {
        "id": "view-in-github",
        "colab_type": "text"
      },
      "source": [
        "<a href=\"https://colab.research.google.com/github/flamorim/BI-Master-2021.1/blob/main/trab_DM_2021_08_25_txt.ipynb\" target=\"_parent\"><img src=\"https://colab.research.google.com/assets/colab-badge.svg\" alt=\"Open In Colab\"/></a>"
      ]
    },
    {
      "cell_type": "markdown",
      "metadata": {
        "id": "SMT2S9wHMhd_"
      },
      "source": [
        "# Importas as Bibliotecas"
      ]
    },
    {
      "cell_type": "code",
      "metadata": {
        "id": "kKEKixueMn8j"
      },
      "source": [
        "import numpy as np\n",
        "import matplotlib.pyplot as plt\n",
        "import pandas as pd"
      ],
      "execution_count": null,
      "outputs": []
    },
    {
      "cell_type": "markdown",
      "metadata": {
        "id": "Y2RnTzDsM3ye"
      },
      "source": [
        "# Importa a base de dados"
      ]
    },
    {
      "cell_type": "code",
      "metadata": {
        "colab": {
          "base_uri": "https://localhost:8080/",
          "height": 203
        },
        "id": "QY7QBY6OM_8C",
        "outputId": "ad624b23-c222-453a-9171-db5784b0b724"
      },
      "source": [
        "#dataset = pd.read_excel('base-comentada-2021.08.21.xlsx', sheet_name='ItemVenda_Neutro')\n",
        "dataset = pd.read_csv('ItemVenda_Neutro.csv')\n",
        "dataset.head()"
      ],
      "execution_count": null,
      "outputs": [
        {
          "output_type": "execute_result",
          "data": {
            "text/html": [
              "<div>\n",
              "<style scoped>\n",
              "    .dataframe tbody tr th:only-of-type {\n",
              "        vertical-align: middle;\n",
              "    }\n",
              "\n",
              "    .dataframe tbody tr th {\n",
              "        vertical-align: top;\n",
              "    }\n",
              "\n",
              "    .dataframe thead th {\n",
              "        text-align: right;\n",
              "    }\n",
              "</style>\n",
              "<table border=\"1\" class=\"dataframe\">\n",
              "  <thead>\n",
              "    <tr style=\"text-align: right;\">\n",
              "      <th></th>\n",
              "      <th>idNotaVenda</th>\n",
              "      <th>idProduto</th>\n",
              "      <th>quantidade</th>\n",
              "      <th>descontoUnitario</th>\n",
              "      <th>valorUnitario</th>\n",
              "    </tr>\n",
              "  </thead>\n",
              "  <tbody>\n",
              "    <tr>\n",
              "      <th>0</th>\n",
              "      <td>1</td>\n",
              "      <td>7465</td>\n",
              "      <td>1.0</td>\n",
              "      <td>5.00</td>\n",
              "      <td>12.99</td>\n",
              "    </tr>\n",
              "    <tr>\n",
              "      <th>1</th>\n",
              "      <td>1</td>\n",
              "      <td>12391</td>\n",
              "      <td>2.0</td>\n",
              "      <td>1.19</td>\n",
              "      <td>7.99</td>\n",
              "    </tr>\n",
              "    <tr>\n",
              "      <th>2</th>\n",
              "      <td>2</td>\n",
              "      <td>41988</td>\n",
              "      <td>1.0</td>\n",
              "      <td>-4.85</td>\n",
              "      <td>39.90</td>\n",
              "    </tr>\n",
              "    <tr>\n",
              "      <th>3</th>\n",
              "      <td>2</td>\n",
              "      <td>47023</td>\n",
              "      <td>1.0</td>\n",
              "      <td>-0.26</td>\n",
              "      <td>72.99</td>\n",
              "    </tr>\n",
              "    <tr>\n",
              "      <th>4</th>\n",
              "      <td>3</td>\n",
              "      <td>13779</td>\n",
              "      <td>60.0</td>\n",
              "      <td>0.66</td>\n",
              "      <td>1.65</td>\n",
              "    </tr>\n",
              "  </tbody>\n",
              "</table>\n",
              "</div>"
            ],
            "text/plain": [
              "   idNotaVenda  idProduto  quantidade  descontoUnitario  valorUnitario\n",
              "0            1       7465         1.0              5.00          12.99\n",
              "1            1      12391         2.0              1.19           7.99\n",
              "2            2      41988         1.0             -4.85          39.90\n",
              "3            2      47023         1.0             -0.26          72.99\n",
              "4            3      13779        60.0              0.66           1.65"
            ]
          },
          "metadata": {},
          "execution_count": 2
        }
      ]
    },
    {
      "cell_type": "code",
      "metadata": {
        "colab": {
          "base_uri": "https://localhost:8080/",
          "height": 203
        },
        "id": "_2mx3pdeRA_f",
        "outputId": "5e3dcd68-36b3-49f5-9b60-1f453b61f3ee"
      },
      "source": [
        "dataset = dataset.rename(columns={\"Coluna1\": \"valortotalvenda\"})\n",
        "dataset = dataset.rename(columns={\"valorUnitario\": \"valorunitario\"})\n",
        "dataset = dataset.rename(columns={\"descontoUnitario\": \"descontounitario\"})\n",
        "dataset = dataset.rename(columns={\"dataVenda\": \"datavenda\"})\n",
        "dataset = dataset.rename(columns={\"idNotaVenda\": \"idNotavenda\"})\n",
        "#dataset = dataset.drop(columns={\"Unnamed: 7\",\"Unnamed: 8\"})\n",
        "\n",
        "dataset.head()\n"
      ],
      "execution_count": null,
      "outputs": [
        {
          "output_type": "execute_result",
          "data": {
            "text/html": [
              "<div>\n",
              "<style scoped>\n",
              "    .dataframe tbody tr th:only-of-type {\n",
              "        vertical-align: middle;\n",
              "    }\n",
              "\n",
              "    .dataframe tbody tr th {\n",
              "        vertical-align: top;\n",
              "    }\n",
              "\n",
              "    .dataframe thead th {\n",
              "        text-align: right;\n",
              "    }\n",
              "</style>\n",
              "<table border=\"1\" class=\"dataframe\">\n",
              "  <thead>\n",
              "    <tr style=\"text-align: right;\">\n",
              "      <th></th>\n",
              "      <th>idNotavenda</th>\n",
              "      <th>idProduto</th>\n",
              "      <th>quantidade</th>\n",
              "      <th>descontounitario</th>\n",
              "      <th>valorunitario</th>\n",
              "    </tr>\n",
              "  </thead>\n",
              "  <tbody>\n",
              "    <tr>\n",
              "      <th>0</th>\n",
              "      <td>1</td>\n",
              "      <td>7465</td>\n",
              "      <td>1.0</td>\n",
              "      <td>5.00</td>\n",
              "      <td>12.99</td>\n",
              "    </tr>\n",
              "    <tr>\n",
              "      <th>1</th>\n",
              "      <td>1</td>\n",
              "      <td>12391</td>\n",
              "      <td>2.0</td>\n",
              "      <td>1.19</td>\n",
              "      <td>7.99</td>\n",
              "    </tr>\n",
              "    <tr>\n",
              "      <th>2</th>\n",
              "      <td>2</td>\n",
              "      <td>41988</td>\n",
              "      <td>1.0</td>\n",
              "      <td>-4.85</td>\n",
              "      <td>39.90</td>\n",
              "    </tr>\n",
              "    <tr>\n",
              "      <th>3</th>\n",
              "      <td>2</td>\n",
              "      <td>47023</td>\n",
              "      <td>1.0</td>\n",
              "      <td>-0.26</td>\n",
              "      <td>72.99</td>\n",
              "    </tr>\n",
              "    <tr>\n",
              "      <th>4</th>\n",
              "      <td>3</td>\n",
              "      <td>13779</td>\n",
              "      <td>60.0</td>\n",
              "      <td>0.66</td>\n",
              "      <td>1.65</td>\n",
              "    </tr>\n",
              "  </tbody>\n",
              "</table>\n",
              "</div>"
            ],
            "text/plain": [
              "   idNotavenda  idProduto  quantidade  descontounitario  valorunitario\n",
              "0            1       7465         1.0              5.00          12.99\n",
              "1            1      12391         2.0              1.19           7.99\n",
              "2            2      41988         1.0             -4.85          39.90\n",
              "3            2      47023         1.0             -0.26          72.99\n",
              "4            3      13779        60.0              0.66           1.65"
            ]
          },
          "metadata": {},
          "execution_count": 3
        }
      ]
    },
    {
      "cell_type": "code",
      "metadata": {
        "colab": {
          "base_uri": "https://localhost:8080/",
          "height": 203
        },
        "id": "K9HdyiAuaD_8",
        "outputId": "a3e81ddb-aec7-441d-94f3-d182964988d4"
      },
      "source": [
        "#dataset[\"mes\"] = dataset[\"MS\"] + dataset[\"ANO\"].astype(str)\n",
        "#dataset['dataVenda'].astype(str).\n",
        "#dataset = dataset.rename(columns={\"Coluna1\": \"valor\"})\n",
        "dataset.head()\n"
      ],
      "execution_count": null,
      "outputs": [
        {
          "output_type": "execute_result",
          "data": {
            "text/html": [
              "<div>\n",
              "<style scoped>\n",
              "    .dataframe tbody tr th:only-of-type {\n",
              "        vertical-align: middle;\n",
              "    }\n",
              "\n",
              "    .dataframe tbody tr th {\n",
              "        vertical-align: top;\n",
              "    }\n",
              "\n",
              "    .dataframe thead th {\n",
              "        text-align: right;\n",
              "    }\n",
              "</style>\n",
              "<table border=\"1\" class=\"dataframe\">\n",
              "  <thead>\n",
              "    <tr style=\"text-align: right;\">\n",
              "      <th></th>\n",
              "      <th>idNotavenda</th>\n",
              "      <th>idProduto</th>\n",
              "      <th>quantidade</th>\n",
              "      <th>descontounitario</th>\n",
              "      <th>valorunitario</th>\n",
              "    </tr>\n",
              "  </thead>\n",
              "  <tbody>\n",
              "    <tr>\n",
              "      <th>0</th>\n",
              "      <td>1</td>\n",
              "      <td>7465</td>\n",
              "      <td>1.0</td>\n",
              "      <td>5.00</td>\n",
              "      <td>12.99</td>\n",
              "    </tr>\n",
              "    <tr>\n",
              "      <th>1</th>\n",
              "      <td>1</td>\n",
              "      <td>12391</td>\n",
              "      <td>2.0</td>\n",
              "      <td>1.19</td>\n",
              "      <td>7.99</td>\n",
              "    </tr>\n",
              "    <tr>\n",
              "      <th>2</th>\n",
              "      <td>2</td>\n",
              "      <td>41988</td>\n",
              "      <td>1.0</td>\n",
              "      <td>-4.85</td>\n",
              "      <td>39.90</td>\n",
              "    </tr>\n",
              "    <tr>\n",
              "      <th>3</th>\n",
              "      <td>2</td>\n",
              "      <td>47023</td>\n",
              "      <td>1.0</td>\n",
              "      <td>-0.26</td>\n",
              "      <td>72.99</td>\n",
              "    </tr>\n",
              "    <tr>\n",
              "      <th>4</th>\n",
              "      <td>3</td>\n",
              "      <td>13779</td>\n",
              "      <td>60.0</td>\n",
              "      <td>0.66</td>\n",
              "      <td>1.65</td>\n",
              "    </tr>\n",
              "  </tbody>\n",
              "</table>\n",
              "</div>"
            ],
            "text/plain": [
              "   idNotavenda  idProduto  quantidade  descontounitario  valorunitario\n",
              "0            1       7465         1.0              5.00          12.99\n",
              "1            1      12391         2.0              1.19           7.99\n",
              "2            2      41988         1.0             -4.85          39.90\n",
              "3            2      47023         1.0             -0.26          72.99\n",
              "4            3      13779        60.0              0.66           1.65"
            ]
          },
          "metadata": {},
          "execution_count": 4
        }
      ]
    },
    {
      "cell_type": "code",
      "metadata": {
        "colab": {
          "base_uri": "https://localhost:8080/",
          "height": 295
        },
        "id": "gc_mGyu7aj4i",
        "outputId": "1e8c152d-0c76-4a9a-fa3b-10b38d44d98b"
      },
      "source": [
        "dataset.describe()"
      ],
      "execution_count": null,
      "outputs": [
        {
          "output_type": "execute_result",
          "data": {
            "text/html": [
              "<div>\n",
              "<style scoped>\n",
              "    .dataframe tbody tr th:only-of-type {\n",
              "        vertical-align: middle;\n",
              "    }\n",
              "\n",
              "    .dataframe tbody tr th {\n",
              "        vertical-align: top;\n",
              "    }\n",
              "\n",
              "    .dataframe thead th {\n",
              "        text-align: right;\n",
              "    }\n",
              "</style>\n",
              "<table border=\"1\" class=\"dataframe\">\n",
              "  <thead>\n",
              "    <tr style=\"text-align: right;\">\n",
              "      <th></th>\n",
              "      <th>idNotavenda</th>\n",
              "      <th>idProduto</th>\n",
              "      <th>quantidade</th>\n",
              "      <th>descontounitario</th>\n",
              "      <th>valorunitario</th>\n",
              "    </tr>\n",
              "  </thead>\n",
              "  <tbody>\n",
              "    <tr>\n",
              "      <th>count</th>\n",
              "      <td>353801.000000</td>\n",
              "      <td>353801.000000</td>\n",
              "      <td>353801.000000</td>\n",
              "      <td>353801.000000</td>\n",
              "      <td>353801.000000</td>\n",
              "    </tr>\n",
              "    <tr>\n",
              "      <th>mean</th>\n",
              "      <td>60413.324849</td>\n",
              "      <td>23216.141721</td>\n",
              "      <td>6.017453</td>\n",
              "      <td>6.598253</td>\n",
              "      <td>41.498397</td>\n",
              "    </tr>\n",
              "    <tr>\n",
              "      <th>std</th>\n",
              "      <td>32556.921301</td>\n",
              "      <td>15538.277096</td>\n",
              "      <td>148.506703</td>\n",
              "      <td>24.617135</td>\n",
              "      <td>135.203989</td>\n",
              "    </tr>\n",
              "    <tr>\n",
              "      <th>min</th>\n",
              "      <td>1.000000</td>\n",
              "      <td>7.000000</td>\n",
              "      <td>0.000000</td>\n",
              "      <td>-710.010000</td>\n",
              "      <td>0.000000</td>\n",
              "    </tr>\n",
              "    <tr>\n",
              "      <th>25%</th>\n",
              "      <td>32083.000000</td>\n",
              "      <td>10086.000000</td>\n",
              "      <td>1.000000</td>\n",
              "      <td>0.000000</td>\n",
              "      <td>6.190000</td>\n",
              "    </tr>\n",
              "    <tr>\n",
              "      <th>50%</th>\n",
              "      <td>61242.000000</td>\n",
              "      <td>20896.000000</td>\n",
              "      <td>1.000000</td>\n",
              "      <td>0.000000</td>\n",
              "      <td>14.990000</td>\n",
              "    </tr>\n",
              "    <tr>\n",
              "      <th>75%</th>\n",
              "      <td>88461.000000</td>\n",
              "      <td>38419.000000</td>\n",
              "      <td>2.000000</td>\n",
              "      <td>4.410000</td>\n",
              "      <td>32.990000</td>\n",
              "    </tr>\n",
              "    <tr>\n",
              "      <th>max</th>\n",
              "      <td>115325.000000</td>\n",
              "      <td>47816.000000</td>\n",
              "      <td>40305.440000</td>\n",
              "      <td>1900.910000</td>\n",
              "      <td>5890.000000</td>\n",
              "    </tr>\n",
              "  </tbody>\n",
              "</table>\n",
              "</div>"
            ],
            "text/plain": [
              "         idNotavenda      idProduto  ...  descontounitario  valorunitario\n",
              "count  353801.000000  353801.000000  ...     353801.000000  353801.000000\n",
              "mean    60413.324849   23216.141721  ...          6.598253      41.498397\n",
              "std     32556.921301   15538.277096  ...         24.617135     135.203989\n",
              "min         1.000000       7.000000  ...       -710.010000       0.000000\n",
              "25%     32083.000000   10086.000000  ...          0.000000       6.190000\n",
              "50%     61242.000000   20896.000000  ...          0.000000      14.990000\n",
              "75%     88461.000000   38419.000000  ...          4.410000      32.990000\n",
              "max    115325.000000   47816.000000  ...       1900.910000    5890.000000\n",
              "\n",
              "[8 rows x 5 columns]"
            ]
          },
          "metadata": {},
          "execution_count": 5
        }
      ]
    },
    {
      "cell_type": "code",
      "metadata": {
        "id": "aLLB3lO_bRos"
      },
      "source": [
        "#erro na base com desconto negativo. O cliente relatou que é só trocar o sinal\n",
        "dataset['descontounitario']=dataset['descontounitario'].abs()"
      ],
      "execution_count": null,
      "outputs": []
    },
    {
      "cell_type": "code",
      "metadata": {
        "colab": {
          "base_uri": "https://localhost:8080/"
        },
        "id": "sGgpkrNFbZva",
        "outputId": "b8d239c6-a3cd-4c85-bdab-a307cbb3b93a"
      },
      "source": [
        "dataset['descontounitario']"
      ],
      "execution_count": null,
      "outputs": [
        {
          "output_type": "execute_result",
          "data": {
            "text/plain": [
              "0         5.00\n",
              "1         1.19\n",
              "2         4.85\n",
              "3         0.26\n",
              "4         0.66\n",
              "          ... \n",
              "353796    2.26\n",
              "353797    1.26\n",
              "353798    1.60\n",
              "353799    1.90\n",
              "353800    1.58\n",
              "Name: descontounitario, Length: 353801, dtype: float64"
            ]
          },
          "metadata": {},
          "execution_count": 7
        }
      ]
    },
    {
      "cell_type": "code",
      "metadata": {
        "id": "LJpMhmWfc4_b"
      },
      "source": [
        "#como a coluna desconto apresentava alguns erros, a coluna valortotalvenda foi refeita\n",
        "dataset['valortotalvenda']=dataset['quantidade']*(dataset['valorunitario']-dataset['descontounitario'])"
      ],
      "execution_count": null,
      "outputs": []
    },
    {
      "cell_type": "code",
      "metadata": {
        "colab": {
          "base_uri": "https://localhost:8080/",
          "height": 203
        },
        "id": "QnyQQ5Badep9",
        "outputId": "1a452f56-a265-47d8-9afa-e858d2754628"
      },
      "source": [
        "dataset.head()"
      ],
      "execution_count": null,
      "outputs": [
        {
          "output_type": "execute_result",
          "data": {
            "text/html": [
              "<div>\n",
              "<style scoped>\n",
              "    .dataframe tbody tr th:only-of-type {\n",
              "        vertical-align: middle;\n",
              "    }\n",
              "\n",
              "    .dataframe tbody tr th {\n",
              "        vertical-align: top;\n",
              "    }\n",
              "\n",
              "    .dataframe thead th {\n",
              "        text-align: right;\n",
              "    }\n",
              "</style>\n",
              "<table border=\"1\" class=\"dataframe\">\n",
              "  <thead>\n",
              "    <tr style=\"text-align: right;\">\n",
              "      <th></th>\n",
              "      <th>idNotavenda</th>\n",
              "      <th>idProduto</th>\n",
              "      <th>quantidade</th>\n",
              "      <th>descontounitario</th>\n",
              "      <th>valorunitario</th>\n",
              "      <th>valortotalvenda</th>\n",
              "    </tr>\n",
              "  </thead>\n",
              "  <tbody>\n",
              "    <tr>\n",
              "      <th>0</th>\n",
              "      <td>1</td>\n",
              "      <td>7465</td>\n",
              "      <td>1.0</td>\n",
              "      <td>5.00</td>\n",
              "      <td>12.99</td>\n",
              "      <td>7.99</td>\n",
              "    </tr>\n",
              "    <tr>\n",
              "      <th>1</th>\n",
              "      <td>1</td>\n",
              "      <td>12391</td>\n",
              "      <td>2.0</td>\n",
              "      <td>1.19</td>\n",
              "      <td>7.99</td>\n",
              "      <td>13.60</td>\n",
              "    </tr>\n",
              "    <tr>\n",
              "      <th>2</th>\n",
              "      <td>2</td>\n",
              "      <td>41988</td>\n",
              "      <td>1.0</td>\n",
              "      <td>4.85</td>\n",
              "      <td>39.90</td>\n",
              "      <td>35.05</td>\n",
              "    </tr>\n",
              "    <tr>\n",
              "      <th>3</th>\n",
              "      <td>2</td>\n",
              "      <td>47023</td>\n",
              "      <td>1.0</td>\n",
              "      <td>0.26</td>\n",
              "      <td>72.99</td>\n",
              "      <td>72.73</td>\n",
              "    </tr>\n",
              "    <tr>\n",
              "      <th>4</th>\n",
              "      <td>3</td>\n",
              "      <td>13779</td>\n",
              "      <td>60.0</td>\n",
              "      <td>0.66</td>\n",
              "      <td>1.65</td>\n",
              "      <td>59.40</td>\n",
              "    </tr>\n",
              "  </tbody>\n",
              "</table>\n",
              "</div>"
            ],
            "text/plain": [
              "   idNotavenda  idProduto  ...  valorunitario  valortotalvenda\n",
              "0            1       7465  ...          12.99             7.99\n",
              "1            1      12391  ...           7.99            13.60\n",
              "2            2      41988  ...          39.90            35.05\n",
              "3            2      47023  ...          72.99            72.73\n",
              "4            3      13779  ...           1.65            59.40\n",
              "\n",
              "[5 rows x 6 columns]"
            ]
          },
          "metadata": {},
          "execution_count": 9
        }
      ]
    },
    {
      "cell_type": "code",
      "metadata": {
        "id": "uDNx2cLxfS0B"
      },
      "source": [
        "#este fica em ingles\n",
        "#dataset['mes'] = dataset['datavenda'].dt.strftime('%b')\n",
        "#pegar a data de venda de uma outra tabela\n",
        "dataset_datavenda = pd.read_excel('base-comentada-2021.08.21.xlsx', sheet_name='ItemVenda_Neutro')\n",
        "dataset['datavenda'] = dataset_datavenda['dataVenda']"
      ],
      "execution_count": null,
      "outputs": []
    },
    {
      "cell_type": "code",
      "metadata": {
        "colab": {
          "base_uri": "https://localhost:8080/",
          "height": 203
        },
        "id": "wGiq_8Uw0tLc",
        "outputId": "813c25f6-068a-412a-af0e-6cf5c1b90100"
      },
      "source": [
        "dataset.head()"
      ],
      "execution_count": null,
      "outputs": [
        {
          "output_type": "execute_result",
          "data": {
            "text/html": [
              "<div>\n",
              "<style scoped>\n",
              "    .dataframe tbody tr th:only-of-type {\n",
              "        vertical-align: middle;\n",
              "    }\n",
              "\n",
              "    .dataframe tbody tr th {\n",
              "        vertical-align: top;\n",
              "    }\n",
              "\n",
              "    .dataframe thead th {\n",
              "        text-align: right;\n",
              "    }\n",
              "</style>\n",
              "<table border=\"1\" class=\"dataframe\">\n",
              "  <thead>\n",
              "    <tr style=\"text-align: right;\">\n",
              "      <th></th>\n",
              "      <th>idNotavenda</th>\n",
              "      <th>idProduto</th>\n",
              "      <th>quantidade</th>\n",
              "      <th>descontounitario</th>\n",
              "      <th>valorunitario</th>\n",
              "      <th>valortotalvenda</th>\n",
              "      <th>datavenda</th>\n",
              "    </tr>\n",
              "  </thead>\n",
              "  <tbody>\n",
              "    <tr>\n",
              "      <th>0</th>\n",
              "      <td>1</td>\n",
              "      <td>7465</td>\n",
              "      <td>1.0</td>\n",
              "      <td>5.00</td>\n",
              "      <td>12.99</td>\n",
              "      <td>7.99</td>\n",
              "      <td>2018-12-08</td>\n",
              "    </tr>\n",
              "    <tr>\n",
              "      <th>1</th>\n",
              "      <td>1</td>\n",
              "      <td>12391</td>\n",
              "      <td>2.0</td>\n",
              "      <td>1.19</td>\n",
              "      <td>7.99</td>\n",
              "      <td>13.60</td>\n",
              "      <td>2018-12-08</td>\n",
              "    </tr>\n",
              "    <tr>\n",
              "      <th>2</th>\n",
              "      <td>2</td>\n",
              "      <td>41988</td>\n",
              "      <td>1.0</td>\n",
              "      <td>4.85</td>\n",
              "      <td>39.90</td>\n",
              "      <td>35.05</td>\n",
              "      <td>2018-10-26</td>\n",
              "    </tr>\n",
              "    <tr>\n",
              "      <th>3</th>\n",
              "      <td>2</td>\n",
              "      <td>47023</td>\n",
              "      <td>1.0</td>\n",
              "      <td>0.26</td>\n",
              "      <td>72.99</td>\n",
              "      <td>72.73</td>\n",
              "      <td>2018-10-26</td>\n",
              "    </tr>\n",
              "    <tr>\n",
              "      <th>4</th>\n",
              "      <td>3</td>\n",
              "      <td>13779</td>\n",
              "      <td>60.0</td>\n",
              "      <td>0.66</td>\n",
              "      <td>1.65</td>\n",
              "      <td>59.40</td>\n",
              "      <td>2018-09-25</td>\n",
              "    </tr>\n",
              "  </tbody>\n",
              "</table>\n",
              "</div>"
            ],
            "text/plain": [
              "   idNotavenda  idProduto  ...  valortotalvenda  datavenda\n",
              "0            1       7465  ...             7.99 2018-12-08\n",
              "1            1      12391  ...            13.60 2018-12-08\n",
              "2            2      41988  ...            35.05 2018-10-26\n",
              "3            2      47023  ...            72.73 2018-10-26\n",
              "4            3      13779  ...            59.40 2018-09-25\n",
              "\n",
              "[5 rows x 7 columns]"
            ]
          },
          "metadata": {},
          "execution_count": 11
        }
      ]
    },
    {
      "cell_type": "code",
      "metadata": {
        "id": "B5wGZOd-yOn2"
      },
      "source": [
        "#Funcionando\n",
        "abreviado = {}\n",
        "abreviado[1] = '01-01'\n",
        "abreviado[2] = '02-01'\n",
        "abreviado[3] = '03-01'\n",
        "abreviado[4] = '04-01'\n",
        "abreviado[5] = '05-01'\n",
        "abreviado[6] = '06-01'\n",
        "abreviado[7] = '07-01'\n",
        "abreviado[8] = '08-01'\n",
        "abreviado[9] = '09-01'\n",
        "abreviado[10] = '10-01'\n",
        "abreviado[11] = '11-01'\n",
        "abreviado[12] = '12-01'\n",
        "\n",
        "dataset['mesabreviado'] = dataset['datavenda'].dt.month.map(abreviado)\n"
      ],
      "execution_count": null,
      "outputs": []
    },
    {
      "cell_type": "code",
      "metadata": {
        "colab": {
          "base_uri": "https://localhost:8080/",
          "height": 203
        },
        "id": "fgNg9TRPy-O0",
        "outputId": "eb939a12-6b14-44f3-8c89-324919d3d81e"
      },
      "source": [
        "dataset.head()"
      ],
      "execution_count": null,
      "outputs": [
        {
          "output_type": "execute_result",
          "data": {
            "text/html": [
              "<div>\n",
              "<style scoped>\n",
              "    .dataframe tbody tr th:only-of-type {\n",
              "        vertical-align: middle;\n",
              "    }\n",
              "\n",
              "    .dataframe tbody tr th {\n",
              "        vertical-align: top;\n",
              "    }\n",
              "\n",
              "    .dataframe thead th {\n",
              "        text-align: right;\n",
              "    }\n",
              "</style>\n",
              "<table border=\"1\" class=\"dataframe\">\n",
              "  <thead>\n",
              "    <tr style=\"text-align: right;\">\n",
              "      <th></th>\n",
              "      <th>idNotavenda</th>\n",
              "      <th>idProduto</th>\n",
              "      <th>quantidade</th>\n",
              "      <th>descontounitario</th>\n",
              "      <th>valorunitario</th>\n",
              "      <th>valortotalvenda</th>\n",
              "      <th>datavenda</th>\n",
              "      <th>mesabreviado</th>\n",
              "    </tr>\n",
              "  </thead>\n",
              "  <tbody>\n",
              "    <tr>\n",
              "      <th>0</th>\n",
              "      <td>1</td>\n",
              "      <td>7465</td>\n",
              "      <td>1.0</td>\n",
              "      <td>5.00</td>\n",
              "      <td>12.99</td>\n",
              "      <td>7.99</td>\n",
              "      <td>2018-12-08</td>\n",
              "      <td>12-01</td>\n",
              "    </tr>\n",
              "    <tr>\n",
              "      <th>1</th>\n",
              "      <td>1</td>\n",
              "      <td>12391</td>\n",
              "      <td>2.0</td>\n",
              "      <td>1.19</td>\n",
              "      <td>7.99</td>\n",
              "      <td>13.60</td>\n",
              "      <td>2018-12-08</td>\n",
              "      <td>12-01</td>\n",
              "    </tr>\n",
              "    <tr>\n",
              "      <th>2</th>\n",
              "      <td>2</td>\n",
              "      <td>41988</td>\n",
              "      <td>1.0</td>\n",
              "      <td>4.85</td>\n",
              "      <td>39.90</td>\n",
              "      <td>35.05</td>\n",
              "      <td>2018-10-26</td>\n",
              "      <td>10-01</td>\n",
              "    </tr>\n",
              "    <tr>\n",
              "      <th>3</th>\n",
              "      <td>2</td>\n",
              "      <td>47023</td>\n",
              "      <td>1.0</td>\n",
              "      <td>0.26</td>\n",
              "      <td>72.99</td>\n",
              "      <td>72.73</td>\n",
              "      <td>2018-10-26</td>\n",
              "      <td>10-01</td>\n",
              "    </tr>\n",
              "    <tr>\n",
              "      <th>4</th>\n",
              "      <td>3</td>\n",
              "      <td>13779</td>\n",
              "      <td>60.0</td>\n",
              "      <td>0.66</td>\n",
              "      <td>1.65</td>\n",
              "      <td>59.40</td>\n",
              "      <td>2018-09-25</td>\n",
              "      <td>09-01</td>\n",
              "    </tr>\n",
              "  </tbody>\n",
              "</table>\n",
              "</div>"
            ],
            "text/plain": [
              "   idNotavenda  idProduto  quantidade  ...  valortotalvenda  datavenda  mesabreviado\n",
              "0            1       7465         1.0  ...             7.99 2018-12-08         12-01\n",
              "1            1      12391         2.0  ...            13.60 2018-12-08         12-01\n",
              "2            2      41988         1.0  ...            35.05 2018-10-26         10-01\n",
              "3            2      47023         1.0  ...            72.73 2018-10-26         10-01\n",
              "4            3      13779        60.0  ...            59.40 2018-09-25         09-01\n",
              "\n",
              "[5 rows x 8 columns]"
            ]
          },
          "metadata": {},
          "execution_count": 14
        }
      ]
    },
    {
      "cell_type": "code",
      "metadata": {
        "colab": {
          "base_uri": "https://localhost:8080/",
          "height": 287
        },
        "id": "CPlzQRZ9nTWE",
        "outputId": "fa9db5eb-11fe-43f4-b7c7-48b3b90e5924"
      },
      "source": [
        "dataset['anoabreviado'] = dataset['datavenda'].dt.year\n",
        "#dataset['dataabreviada']=dataset['dataabreviada'] + dataset['temp']\n",
        "dataset.head()"
      ],
      "execution_count": null,
      "outputs": [
        {
          "output_type": "execute_result",
          "data": {
            "text/html": [
              "<div>\n",
              "<style scoped>\n",
              "    .dataframe tbody tr th:only-of-type {\n",
              "        vertical-align: middle;\n",
              "    }\n",
              "\n",
              "    .dataframe tbody tr th {\n",
              "        vertical-align: top;\n",
              "    }\n",
              "\n",
              "    .dataframe thead th {\n",
              "        text-align: right;\n",
              "    }\n",
              "</style>\n",
              "<table border=\"1\" class=\"dataframe\">\n",
              "  <thead>\n",
              "    <tr style=\"text-align: right;\">\n",
              "      <th></th>\n",
              "      <th>idNotavenda</th>\n",
              "      <th>idProduto</th>\n",
              "      <th>quantidade</th>\n",
              "      <th>descontounitario</th>\n",
              "      <th>valorunitario</th>\n",
              "      <th>valortotalvenda</th>\n",
              "      <th>datavenda</th>\n",
              "      <th>mesabreviado</th>\n",
              "      <th>anoabreviado</th>\n",
              "    </tr>\n",
              "  </thead>\n",
              "  <tbody>\n",
              "    <tr>\n",
              "      <th>0</th>\n",
              "      <td>1</td>\n",
              "      <td>7465</td>\n",
              "      <td>1.0</td>\n",
              "      <td>5.00</td>\n",
              "      <td>12.99</td>\n",
              "      <td>7.99</td>\n",
              "      <td>2018-12-08</td>\n",
              "      <td>12-01</td>\n",
              "      <td>2018</td>\n",
              "    </tr>\n",
              "    <tr>\n",
              "      <th>1</th>\n",
              "      <td>1</td>\n",
              "      <td>12391</td>\n",
              "      <td>2.0</td>\n",
              "      <td>1.19</td>\n",
              "      <td>7.99</td>\n",
              "      <td>13.60</td>\n",
              "      <td>2018-12-08</td>\n",
              "      <td>12-01</td>\n",
              "      <td>2018</td>\n",
              "    </tr>\n",
              "    <tr>\n",
              "      <th>2</th>\n",
              "      <td>2</td>\n",
              "      <td>41988</td>\n",
              "      <td>1.0</td>\n",
              "      <td>4.85</td>\n",
              "      <td>39.90</td>\n",
              "      <td>35.05</td>\n",
              "      <td>2018-10-26</td>\n",
              "      <td>10-01</td>\n",
              "      <td>2018</td>\n",
              "    </tr>\n",
              "    <tr>\n",
              "      <th>3</th>\n",
              "      <td>2</td>\n",
              "      <td>47023</td>\n",
              "      <td>1.0</td>\n",
              "      <td>0.26</td>\n",
              "      <td>72.99</td>\n",
              "      <td>72.73</td>\n",
              "      <td>2018-10-26</td>\n",
              "      <td>10-01</td>\n",
              "      <td>2018</td>\n",
              "    </tr>\n",
              "    <tr>\n",
              "      <th>4</th>\n",
              "      <td>3</td>\n",
              "      <td>13779</td>\n",
              "      <td>60.0</td>\n",
              "      <td>0.66</td>\n",
              "      <td>1.65</td>\n",
              "      <td>59.40</td>\n",
              "      <td>2018-09-25</td>\n",
              "      <td>09-01</td>\n",
              "      <td>2018</td>\n",
              "    </tr>\n",
              "  </tbody>\n",
              "</table>\n",
              "</div>"
            ],
            "text/plain": [
              "   idNotavenda  idProduto  quantidade  ...  datavenda  mesabreviado  anoabreviado\n",
              "0            1       7465         1.0  ... 2018-12-08         12-01          2018\n",
              "1            1      12391         2.0  ... 2018-12-08         12-01          2018\n",
              "2            2      41988         1.0  ... 2018-10-26         10-01          2018\n",
              "3            2      47023         1.0  ... 2018-10-26         10-01          2018\n",
              "4            3      13779        60.0  ... 2018-09-25         09-01          2018\n",
              "\n",
              "[5 rows x 9 columns]"
            ]
          },
          "metadata": {},
          "execution_count": 15
        }
      ]
    },
    {
      "cell_type": "code",
      "metadata": {
        "id": "l4zsFPNWpElV"
      },
      "source": [
        "#dataset['dataabreviada'] = dataset['datavenda']\n",
        "#IMPORTANTE\n",
        "#dataset.info()\n",
        "dataset['temp'] = dataset['anoabreviado'].astype(str) + \"-\" + dataset['mesabreviado'].astype(str) \n",
        "#dataset['dataabreviada'] = dataset['mesabreviado'].astype(str) + \"/\" + dataset['anoabreviado'].astype(str)\n",
        "#dataset.info()\n",
        "#dataset.head()\n",
        "#==================funcionou==========================\n",
        "dataset['dataabreviada'] =dataset['temp'].apply(pd.to_datetime)\n",
        "dataset = dataset.drop(columns={'temp'})"
      ],
      "execution_count": null,
      "outputs": []
    },
    {
      "cell_type": "code",
      "metadata": {
        "colab": {
          "base_uri": "https://localhost:8080/"
        },
        "id": "eJOuiX1iotAa",
        "outputId": "1607d9f4-7998-4af4-a94b-4c346293b947"
      },
      "source": [
        "dataset.info()"
      ],
      "execution_count": null,
      "outputs": [
        {
          "output_type": "stream",
          "text": [
            "<class 'pandas.core.frame.DataFrame'>\n",
            "RangeIndex: 353801 entries, 0 to 353800\n",
            "Data columns (total 11 columns):\n",
            " #   Column            Non-Null Count   Dtype         \n",
            "---  ------            --------------   -----         \n",
            " 0   idNotavenda       353801 non-null  int64         \n",
            " 1   idProduto         353801 non-null  int64         \n",
            " 2   quantidade        353801 non-null  float64       \n",
            " 3   descontounitario  353801 non-null  float64       \n",
            " 4   valorunitario     353801 non-null  float64       \n",
            " 5   valortotalvenda   353801 non-null  float64       \n",
            " 6   datavenda         353801 non-null  datetime64[ns]\n",
            " 7   mesabreviado      353801 non-null  object        \n",
            " 8   anoabreviado      353801 non-null  int64         \n",
            " 9   temp              353801 non-null  object        \n",
            " 10  dataabreviada     353801 non-null  datetime64[ns]\n",
            "dtypes: datetime64[ns](2), float64(4), int64(3), object(2)\n",
            "memory usage: 29.7+ MB\n"
          ],
          "name": "stdout"
        }
      ]
    },
    {
      "cell_type": "code",
      "metadata": {
        "colab": {
          "base_uri": "https://localhost:8080/",
          "height": 307
        },
        "id": "MG8NmBJBrCop",
        "outputId": "50348cc5-df23-4043-d966-8323b7ea0526"
      },
      "source": [
        "dataset.head()"
      ],
      "execution_count": null,
      "outputs": [
        {
          "output_type": "execute_result",
          "data": {
            "text/html": [
              "<div>\n",
              "<style scoped>\n",
              "    .dataframe tbody tr th:only-of-type {\n",
              "        vertical-align: middle;\n",
              "    }\n",
              "\n",
              "    .dataframe tbody tr th {\n",
              "        vertical-align: top;\n",
              "    }\n",
              "\n",
              "    .dataframe thead th {\n",
              "        text-align: right;\n",
              "    }\n",
              "</style>\n",
              "<table border=\"1\" class=\"dataframe\">\n",
              "  <thead>\n",
              "    <tr style=\"text-align: right;\">\n",
              "      <th></th>\n",
              "      <th>idNotavenda</th>\n",
              "      <th>idProduto</th>\n",
              "      <th>quantidade</th>\n",
              "      <th>descontounitario</th>\n",
              "      <th>valorunitario</th>\n",
              "      <th>valortotalvenda</th>\n",
              "      <th>datavenda</th>\n",
              "      <th>mesabreviado</th>\n",
              "      <th>anoabreviado</th>\n",
              "      <th>temp</th>\n",
              "      <th>dataabreviada</th>\n",
              "    </tr>\n",
              "  </thead>\n",
              "  <tbody>\n",
              "    <tr>\n",
              "      <th>0</th>\n",
              "      <td>1</td>\n",
              "      <td>7465</td>\n",
              "      <td>1.0</td>\n",
              "      <td>5.00</td>\n",
              "      <td>12.99</td>\n",
              "      <td>7.99</td>\n",
              "      <td>2018-12-08</td>\n",
              "      <td>12-01</td>\n",
              "      <td>2018</td>\n",
              "      <td>2018-12-01</td>\n",
              "      <td>2018-12-01</td>\n",
              "    </tr>\n",
              "    <tr>\n",
              "      <th>1</th>\n",
              "      <td>1</td>\n",
              "      <td>12391</td>\n",
              "      <td>2.0</td>\n",
              "      <td>1.19</td>\n",
              "      <td>7.99</td>\n",
              "      <td>13.60</td>\n",
              "      <td>2018-12-08</td>\n",
              "      <td>12-01</td>\n",
              "      <td>2018</td>\n",
              "      <td>2018-12-01</td>\n",
              "      <td>2018-12-01</td>\n",
              "    </tr>\n",
              "    <tr>\n",
              "      <th>2</th>\n",
              "      <td>2</td>\n",
              "      <td>41988</td>\n",
              "      <td>1.0</td>\n",
              "      <td>4.85</td>\n",
              "      <td>39.90</td>\n",
              "      <td>35.05</td>\n",
              "      <td>2018-10-26</td>\n",
              "      <td>10-01</td>\n",
              "      <td>2018</td>\n",
              "      <td>2018-10-01</td>\n",
              "      <td>2018-10-01</td>\n",
              "    </tr>\n",
              "    <tr>\n",
              "      <th>3</th>\n",
              "      <td>2</td>\n",
              "      <td>47023</td>\n",
              "      <td>1.0</td>\n",
              "      <td>0.26</td>\n",
              "      <td>72.99</td>\n",
              "      <td>72.73</td>\n",
              "      <td>2018-10-26</td>\n",
              "      <td>10-01</td>\n",
              "      <td>2018</td>\n",
              "      <td>2018-10-01</td>\n",
              "      <td>2018-10-01</td>\n",
              "    </tr>\n",
              "    <tr>\n",
              "      <th>4</th>\n",
              "      <td>3</td>\n",
              "      <td>13779</td>\n",
              "      <td>60.0</td>\n",
              "      <td>0.66</td>\n",
              "      <td>1.65</td>\n",
              "      <td>59.40</td>\n",
              "      <td>2018-09-25</td>\n",
              "      <td>09-01</td>\n",
              "      <td>2018</td>\n",
              "      <td>2018-09-01</td>\n",
              "      <td>2018-09-01</td>\n",
              "    </tr>\n",
              "  </tbody>\n",
              "</table>\n",
              "</div>"
            ],
            "text/plain": [
              "   idNotavenda  idProduto  quantidade  ...  anoabreviado        temp  dataabreviada\n",
              "0            1       7465         1.0  ...          2018  2018-12-01     2018-12-01\n",
              "1            1      12391         2.0  ...          2018  2018-12-01     2018-12-01\n",
              "2            2      41988         1.0  ...          2018  2018-10-01     2018-10-01\n",
              "3            2      47023         1.0  ...          2018  2018-10-01     2018-10-01\n",
              "4            3      13779        60.0  ...          2018  2018-09-01     2018-09-01\n",
              "\n",
              "[5 rows x 11 columns]"
            ]
          },
          "metadata": {},
          "execution_count": 19
        }
      ]
    },
    {
      "cell_type": "code",
      "metadata": {
        "id": "qLKo6R1pxTgl"
      },
      "source": [
        "dataset = dataset.drop(columns={\"mesabreviado\",\"anoabreviado\"})"
      ],
      "execution_count": null,
      "outputs": []
    },
    {
      "cell_type": "code",
      "metadata": {
        "colab": {
          "base_uri": "https://localhost:8080/",
          "height": 665
        },
        "id": "DJbmSQXlpC3d",
        "outputId": "e2adaa75-b572-4ee9-be52-233ebf938016"
      },
      "source": [
        "dataset.head(20)"
      ],
      "execution_count": null,
      "outputs": [
        {
          "output_type": "execute_result",
          "data": {
            "text/html": [
              "<div>\n",
              "<style scoped>\n",
              "    .dataframe tbody tr th:only-of-type {\n",
              "        vertical-align: middle;\n",
              "    }\n",
              "\n",
              "    .dataframe tbody tr th {\n",
              "        vertical-align: top;\n",
              "    }\n",
              "\n",
              "    .dataframe thead th {\n",
              "        text-align: right;\n",
              "    }\n",
              "</style>\n",
              "<table border=\"1\" class=\"dataframe\">\n",
              "  <thead>\n",
              "    <tr style=\"text-align: right;\">\n",
              "      <th></th>\n",
              "      <th>idNotavenda</th>\n",
              "      <th>idProduto</th>\n",
              "      <th>quantidade</th>\n",
              "      <th>descontounitario</th>\n",
              "      <th>valorunitario</th>\n",
              "      <th>valortotalvenda</th>\n",
              "      <th>datavenda</th>\n",
              "      <th>temp</th>\n",
              "      <th>dataabreviada</th>\n",
              "    </tr>\n",
              "  </thead>\n",
              "  <tbody>\n",
              "    <tr>\n",
              "      <th>0</th>\n",
              "      <td>1</td>\n",
              "      <td>7465</td>\n",
              "      <td>1.0</td>\n",
              "      <td>5.00</td>\n",
              "      <td>12.99</td>\n",
              "      <td>7.99</td>\n",
              "      <td>2018-12-08</td>\n",
              "      <td>2018-12-01</td>\n",
              "      <td>2018-12-01</td>\n",
              "    </tr>\n",
              "    <tr>\n",
              "      <th>1</th>\n",
              "      <td>1</td>\n",
              "      <td>12391</td>\n",
              "      <td>2.0</td>\n",
              "      <td>1.19</td>\n",
              "      <td>7.99</td>\n",
              "      <td>13.60</td>\n",
              "      <td>2018-12-08</td>\n",
              "      <td>2018-12-01</td>\n",
              "      <td>2018-12-01</td>\n",
              "    </tr>\n",
              "    <tr>\n",
              "      <th>2</th>\n",
              "      <td>2</td>\n",
              "      <td>41988</td>\n",
              "      <td>1.0</td>\n",
              "      <td>4.85</td>\n",
              "      <td>39.90</td>\n",
              "      <td>35.05</td>\n",
              "      <td>2018-10-26</td>\n",
              "      <td>2018-10-01</td>\n",
              "      <td>2018-10-01</td>\n",
              "    </tr>\n",
              "    <tr>\n",
              "      <th>3</th>\n",
              "      <td>2</td>\n",
              "      <td>47023</td>\n",
              "      <td>1.0</td>\n",
              "      <td>0.26</td>\n",
              "      <td>72.99</td>\n",
              "      <td>72.73</td>\n",
              "      <td>2018-10-26</td>\n",
              "      <td>2018-10-01</td>\n",
              "      <td>2018-10-01</td>\n",
              "    </tr>\n",
              "    <tr>\n",
              "      <th>4</th>\n",
              "      <td>3</td>\n",
              "      <td>13779</td>\n",
              "      <td>60.0</td>\n",
              "      <td>0.66</td>\n",
              "      <td>1.65</td>\n",
              "      <td>59.40</td>\n",
              "      <td>2018-09-25</td>\n",
              "      <td>2018-09-01</td>\n",
              "      <td>2018-09-01</td>\n",
              "    </tr>\n",
              "    <tr>\n",
              "      <th>5</th>\n",
              "      <td>3</td>\n",
              "      <td>13785</td>\n",
              "      <td>20.0</td>\n",
              "      <td>0.66</td>\n",
              "      <td>1.65</td>\n",
              "      <td>19.80</td>\n",
              "      <td>2018-09-25</td>\n",
              "      <td>2018-09-01</td>\n",
              "      <td>2018-09-01</td>\n",
              "    </tr>\n",
              "    <tr>\n",
              "      <th>6</th>\n",
              "      <td>4</td>\n",
              "      <td>596</td>\n",
              "      <td>6.0</td>\n",
              "      <td>0.00</td>\n",
              "      <td>5.90</td>\n",
              "      <td>35.40</td>\n",
              "      <td>2018-10-11</td>\n",
              "      <td>2018-10-01</td>\n",
              "      <td>2018-10-01</td>\n",
              "    </tr>\n",
              "    <tr>\n",
              "      <th>7</th>\n",
              "      <td>5</td>\n",
              "      <td>26389</td>\n",
              "      <td>2.0</td>\n",
              "      <td>0.00</td>\n",
              "      <td>46.99</td>\n",
              "      <td>93.98</td>\n",
              "      <td>2018-10-11</td>\n",
              "      <td>2018-10-01</td>\n",
              "      <td>2018-10-01</td>\n",
              "    </tr>\n",
              "    <tr>\n",
              "      <th>8</th>\n",
              "      <td>6</td>\n",
              "      <td>2659</td>\n",
              "      <td>2.0</td>\n",
              "      <td>0.16</td>\n",
              "      <td>2.99</td>\n",
              "      <td>5.66</td>\n",
              "      <td>2018-10-11</td>\n",
              "      <td>2018-10-01</td>\n",
              "      <td>2018-10-01</td>\n",
              "    </tr>\n",
              "    <tr>\n",
              "      <th>9</th>\n",
              "      <td>6</td>\n",
              "      <td>2718</td>\n",
              "      <td>1.0</td>\n",
              "      <td>0.14</td>\n",
              "      <td>2.99</td>\n",
              "      <td>2.85</td>\n",
              "      <td>2018-10-11</td>\n",
              "      <td>2018-10-01</td>\n",
              "      <td>2018-10-01</td>\n",
              "    </tr>\n",
              "    <tr>\n",
              "      <th>10</th>\n",
              "      <td>6</td>\n",
              "      <td>2881</td>\n",
              "      <td>2.0</td>\n",
              "      <td>0.09</td>\n",
              "      <td>1.99</td>\n",
              "      <td>3.80</td>\n",
              "      <td>2018-10-11</td>\n",
              "      <td>2018-10-01</td>\n",
              "      <td>2018-10-01</td>\n",
              "    </tr>\n",
              "    <tr>\n",
              "      <th>11</th>\n",
              "      <td>6</td>\n",
              "      <td>2933</td>\n",
              "      <td>2.0</td>\n",
              "      <td>0.04</td>\n",
              "      <td>0.99</td>\n",
              "      <td>1.90</td>\n",
              "      <td>2018-10-11</td>\n",
              "      <td>2018-10-01</td>\n",
              "      <td>2018-10-01</td>\n",
              "    </tr>\n",
              "    <tr>\n",
              "      <th>12</th>\n",
              "      <td>7</td>\n",
              "      <td>613</td>\n",
              "      <td>3.0</td>\n",
              "      <td>3.50</td>\n",
              "      <td>10.99</td>\n",
              "      <td>22.47</td>\n",
              "      <td>2018-10-11</td>\n",
              "      <td>2018-10-01</td>\n",
              "      <td>2018-10-01</td>\n",
              "    </tr>\n",
              "    <tr>\n",
              "      <th>13</th>\n",
              "      <td>8</td>\n",
              "      <td>13029</td>\n",
              "      <td>3.0</td>\n",
              "      <td>1.65</td>\n",
              "      <td>10.99</td>\n",
              "      <td>28.02</td>\n",
              "      <td>2018-10-11</td>\n",
              "      <td>2018-10-01</td>\n",
              "      <td>2018-10-01</td>\n",
              "    </tr>\n",
              "    <tr>\n",
              "      <th>14</th>\n",
              "      <td>9</td>\n",
              "      <td>675</td>\n",
              "      <td>2.0</td>\n",
              "      <td>1.00</td>\n",
              "      <td>4.99</td>\n",
              "      <td>7.98</td>\n",
              "      <td>2018-10-11</td>\n",
              "      <td>2018-10-01</td>\n",
              "      <td>2018-10-01</td>\n",
              "    </tr>\n",
              "    <tr>\n",
              "      <th>15</th>\n",
              "      <td>9</td>\n",
              "      <td>15413</td>\n",
              "      <td>4.0</td>\n",
              "      <td>4.50</td>\n",
              "      <td>11.99</td>\n",
              "      <td>29.96</td>\n",
              "      <td>2018-10-11</td>\n",
              "      <td>2018-10-01</td>\n",
              "      <td>2018-10-01</td>\n",
              "    </tr>\n",
              "    <tr>\n",
              "      <th>16</th>\n",
              "      <td>10</td>\n",
              "      <td>13236</td>\n",
              "      <td>26.0</td>\n",
              "      <td>6.00</td>\n",
              "      <td>19.99</td>\n",
              "      <td>363.74</td>\n",
              "      <td>2018-10-11</td>\n",
              "      <td>2018-10-01</td>\n",
              "      <td>2018-10-01</td>\n",
              "    </tr>\n",
              "    <tr>\n",
              "      <th>17</th>\n",
              "      <td>10</td>\n",
              "      <td>17745</td>\n",
              "      <td>24.0</td>\n",
              "      <td>12.00</td>\n",
              "      <td>27.99</td>\n",
              "      <td>383.76</td>\n",
              "      <td>2018-10-11</td>\n",
              "      <td>2018-10-01</td>\n",
              "      <td>2018-10-01</td>\n",
              "    </tr>\n",
              "    <tr>\n",
              "      <th>18</th>\n",
              "      <td>11</td>\n",
              "      <td>836</td>\n",
              "      <td>1.0</td>\n",
              "      <td>5.00</td>\n",
              "      <td>11.99</td>\n",
              "      <td>6.99</td>\n",
              "      <td>2018-10-11</td>\n",
              "      <td>2018-10-01</td>\n",
              "      <td>2018-10-01</td>\n",
              "    </tr>\n",
              "    <tr>\n",
              "      <th>19</th>\n",
              "      <td>11</td>\n",
              "      <td>17745</td>\n",
              "      <td>1.0</td>\n",
              "      <td>12.00</td>\n",
              "      <td>27.99</td>\n",
              "      <td>15.99</td>\n",
              "      <td>2018-10-11</td>\n",
              "      <td>2018-10-01</td>\n",
              "      <td>2018-10-01</td>\n",
              "    </tr>\n",
              "  </tbody>\n",
              "</table>\n",
              "</div>"
            ],
            "text/plain": [
              "    idNotavenda  idProduto  quantidade  ...  datavenda        temp  dataabreviada\n",
              "0             1       7465         1.0  ... 2018-12-08  2018-12-01     2018-12-01\n",
              "1             1      12391         2.0  ... 2018-12-08  2018-12-01     2018-12-01\n",
              "2             2      41988         1.0  ... 2018-10-26  2018-10-01     2018-10-01\n",
              "3             2      47023         1.0  ... 2018-10-26  2018-10-01     2018-10-01\n",
              "4             3      13779        60.0  ... 2018-09-25  2018-09-01     2018-09-01\n",
              "5             3      13785        20.0  ... 2018-09-25  2018-09-01     2018-09-01\n",
              "6             4        596         6.0  ... 2018-10-11  2018-10-01     2018-10-01\n",
              "7             5      26389         2.0  ... 2018-10-11  2018-10-01     2018-10-01\n",
              "8             6       2659         2.0  ... 2018-10-11  2018-10-01     2018-10-01\n",
              "9             6       2718         1.0  ... 2018-10-11  2018-10-01     2018-10-01\n",
              "10            6       2881         2.0  ... 2018-10-11  2018-10-01     2018-10-01\n",
              "11            6       2933         2.0  ... 2018-10-11  2018-10-01     2018-10-01\n",
              "12            7        613         3.0  ... 2018-10-11  2018-10-01     2018-10-01\n",
              "13            8      13029         3.0  ... 2018-10-11  2018-10-01     2018-10-01\n",
              "14            9        675         2.0  ... 2018-10-11  2018-10-01     2018-10-01\n",
              "15            9      15413         4.0  ... 2018-10-11  2018-10-01     2018-10-01\n",
              "16           10      13236        26.0  ... 2018-10-11  2018-10-01     2018-10-01\n",
              "17           10      17745        24.0  ... 2018-10-11  2018-10-01     2018-10-01\n",
              "18           11        836         1.0  ... 2018-10-11  2018-10-01     2018-10-01\n",
              "19           11      17745         1.0  ... 2018-10-11  2018-10-01     2018-10-01\n",
              "\n",
              "[20 rows x 9 columns]"
            ]
          },
          "metadata": {},
          "execution_count": 21
        }
      ]
    },
    {
      "cell_type": "code",
      "metadata": {
        "colab": {
          "base_uri": "https://localhost:8080/",
          "height": 287
        },
        "id": "8cCdGcam4sIv",
        "outputId": "d268411e-9894-47d8-a797-c42a54ef48b9"
      },
      "source": [
        "#dataset[ order(-dd[,4], dd[,1]), ]\n",
        "\n",
        "\n",
        "dataset.sort_values(['dataabreviada','idNotavenda'], ascending=[False,True],inplace=True)\n",
        "dataset.head()"
      ],
      "execution_count": null,
      "outputs": [
        {
          "output_type": "execute_result",
          "data": {
            "text/html": [
              "<div>\n",
              "<style scoped>\n",
              "    .dataframe tbody tr th:only-of-type {\n",
              "        vertical-align: middle;\n",
              "    }\n",
              "\n",
              "    .dataframe tbody tr th {\n",
              "        vertical-align: top;\n",
              "    }\n",
              "\n",
              "    .dataframe thead th {\n",
              "        text-align: right;\n",
              "    }\n",
              "</style>\n",
              "<table border=\"1\" class=\"dataframe\">\n",
              "  <thead>\n",
              "    <tr style=\"text-align: right;\">\n",
              "      <th></th>\n",
              "      <th>idNotavenda</th>\n",
              "      <th>idProduto</th>\n",
              "      <th>quantidade</th>\n",
              "      <th>descontounitario</th>\n",
              "      <th>valorunitario</th>\n",
              "      <th>valortotalvenda</th>\n",
              "      <th>datavenda</th>\n",
              "      <th>temp</th>\n",
              "      <th>dataabreviada</th>\n",
              "    </tr>\n",
              "  </thead>\n",
              "  <tbody>\n",
              "    <tr>\n",
              "      <th>0</th>\n",
              "      <td>1</td>\n",
              "      <td>7465</td>\n",
              "      <td>1.0</td>\n",
              "      <td>5.00</td>\n",
              "      <td>12.99</td>\n",
              "      <td>7.99</td>\n",
              "      <td>2018-12-08</td>\n",
              "      <td>2018-12-01</td>\n",
              "      <td>2018-12-01</td>\n",
              "    </tr>\n",
              "    <tr>\n",
              "      <th>1</th>\n",
              "      <td>1</td>\n",
              "      <td>12391</td>\n",
              "      <td>2.0</td>\n",
              "      <td>1.19</td>\n",
              "      <td>7.99</td>\n",
              "      <td>13.60</td>\n",
              "      <td>2018-12-08</td>\n",
              "      <td>2018-12-01</td>\n",
              "      <td>2018-12-01</td>\n",
              "    </tr>\n",
              "    <tr>\n",
              "      <th>90</th>\n",
              "      <td>53</td>\n",
              "      <td>41982</td>\n",
              "      <td>1.0</td>\n",
              "      <td>2.61</td>\n",
              "      <td>41.99</td>\n",
              "      <td>39.38</td>\n",
              "      <td>2018-12-07</td>\n",
              "      <td>2018-12-01</td>\n",
              "      <td>2018-12-01</td>\n",
              "    </tr>\n",
              "    <tr>\n",
              "      <th>91</th>\n",
              "      <td>54</td>\n",
              "      <td>635</td>\n",
              "      <td>4.0</td>\n",
              "      <td>18.53</td>\n",
              "      <td>40.99</td>\n",
              "      <td>89.84</td>\n",
              "      <td>2018-12-05</td>\n",
              "      <td>2018-12-01</td>\n",
              "      <td>2018-12-01</td>\n",
              "    </tr>\n",
              "    <tr>\n",
              "      <th>148</th>\n",
              "      <td>58</td>\n",
              "      <td>1507</td>\n",
              "      <td>2.0</td>\n",
              "      <td>123.51</td>\n",
              "      <td>201.90</td>\n",
              "      <td>156.78</td>\n",
              "      <td>2018-12-07</td>\n",
              "      <td>2018-12-01</td>\n",
              "      <td>2018-12-01</td>\n",
              "    </tr>\n",
              "  </tbody>\n",
              "</table>\n",
              "</div>"
            ],
            "text/plain": [
              "     idNotavenda  idProduto  quantidade  ...  datavenda        temp  dataabreviada\n",
              "0              1       7465         1.0  ... 2018-12-08  2018-12-01     2018-12-01\n",
              "1              1      12391         2.0  ... 2018-12-08  2018-12-01     2018-12-01\n",
              "90            53      41982         1.0  ... 2018-12-07  2018-12-01     2018-12-01\n",
              "91            54        635         4.0  ... 2018-12-05  2018-12-01     2018-12-01\n",
              "148           58       1507         2.0  ... 2018-12-07  2018-12-01     2018-12-01\n",
              "\n",
              "[5 rows x 9 columns]"
            ]
          },
          "metadata": {},
          "execution_count": 22
        }
      ]
    },
    {
      "cell_type": "code",
      "metadata": {
        "colab": {
          "base_uri": "https://localhost:8080/",
          "height": 203
        },
        "id": "MHvgSv2I15nf",
        "outputId": "a1627c78-0dbd-499b-97aa-3abd5c505efc"
      },
      "source": [
        "dataset.reset_index(drop=True,inplace=True)\n",
        "dataset.head()"
      ],
      "execution_count": null,
      "outputs": [
        {
          "output_type": "execute_result",
          "data": {
            "text/html": [
              "<div>\n",
              "<style scoped>\n",
              "    .dataframe tbody tr th:only-of-type {\n",
              "        vertical-align: middle;\n",
              "    }\n",
              "\n",
              "    .dataframe tbody tr th {\n",
              "        vertical-align: top;\n",
              "    }\n",
              "\n",
              "    .dataframe thead th {\n",
              "        text-align: right;\n",
              "    }\n",
              "</style>\n",
              "<table border=\"1\" class=\"dataframe\">\n",
              "  <thead>\n",
              "    <tr style=\"text-align: right;\">\n",
              "      <th></th>\n",
              "      <th>idNotavenda</th>\n",
              "      <th>idProduto</th>\n",
              "      <th>quantidade</th>\n",
              "      <th>descontounitario</th>\n",
              "      <th>valorunitario</th>\n",
              "      <th>valortotalvenda</th>\n",
              "      <th>datavenda</th>\n",
              "      <th>temp</th>\n",
              "      <th>dataabreviada</th>\n",
              "    </tr>\n",
              "  </thead>\n",
              "  <tbody>\n",
              "    <tr>\n",
              "      <th>0</th>\n",
              "      <td>1</td>\n",
              "      <td>7465</td>\n",
              "      <td>1.0</td>\n",
              "      <td>5.00</td>\n",
              "      <td>12.99</td>\n",
              "      <td>7.99</td>\n",
              "      <td>2018-12-08</td>\n",
              "      <td>2018-12-01</td>\n",
              "      <td>2018-12-01</td>\n",
              "    </tr>\n",
              "    <tr>\n",
              "      <th>1</th>\n",
              "      <td>1</td>\n",
              "      <td>12391</td>\n",
              "      <td>2.0</td>\n",
              "      <td>1.19</td>\n",
              "      <td>7.99</td>\n",
              "      <td>13.60</td>\n",
              "      <td>2018-12-08</td>\n",
              "      <td>2018-12-01</td>\n",
              "      <td>2018-12-01</td>\n",
              "    </tr>\n",
              "    <tr>\n",
              "      <th>2</th>\n",
              "      <td>53</td>\n",
              "      <td>41982</td>\n",
              "      <td>1.0</td>\n",
              "      <td>2.61</td>\n",
              "      <td>41.99</td>\n",
              "      <td>39.38</td>\n",
              "      <td>2018-12-07</td>\n",
              "      <td>2018-12-01</td>\n",
              "      <td>2018-12-01</td>\n",
              "    </tr>\n",
              "    <tr>\n",
              "      <th>3</th>\n",
              "      <td>54</td>\n",
              "      <td>635</td>\n",
              "      <td>4.0</td>\n",
              "      <td>18.53</td>\n",
              "      <td>40.99</td>\n",
              "      <td>89.84</td>\n",
              "      <td>2018-12-05</td>\n",
              "      <td>2018-12-01</td>\n",
              "      <td>2018-12-01</td>\n",
              "    </tr>\n",
              "    <tr>\n",
              "      <th>4</th>\n",
              "      <td>58</td>\n",
              "      <td>1507</td>\n",
              "      <td>2.0</td>\n",
              "      <td>123.51</td>\n",
              "      <td>201.90</td>\n",
              "      <td>156.78</td>\n",
              "      <td>2018-12-07</td>\n",
              "      <td>2018-12-01</td>\n",
              "      <td>2018-12-01</td>\n",
              "    </tr>\n",
              "  </tbody>\n",
              "</table>\n",
              "</div>"
            ],
            "text/plain": [
              "   idNotavenda  idProduto  quantidade  ...  datavenda        temp  dataabreviada\n",
              "0            1       7465         1.0  ... 2018-12-08  2018-12-01     2018-12-01\n",
              "1            1      12391         2.0  ... 2018-12-08  2018-12-01     2018-12-01\n",
              "2           53      41982         1.0  ... 2018-12-07  2018-12-01     2018-12-01\n",
              "3           54        635         4.0  ... 2018-12-05  2018-12-01     2018-12-01\n",
              "4           58       1507         2.0  ... 2018-12-07  2018-12-01     2018-12-01\n",
              "\n",
              "[5 rows x 9 columns]"
            ]
          },
          "metadata": {},
          "execution_count": 23
        }
      ]
    },
    {
      "cell_type": "code",
      "metadata": {
        "colab": {
          "base_uri": "https://localhost:8080/"
        },
        "id": "dE259QOcT-Xn",
        "outputId": "7d5ede4d-c365-4065-d50f-65238348f3de"
      },
      "source": [
        "dataset['quantidade'].isnull().values.any()"
      ],
      "execution_count": null,
      "outputs": [
        {
          "output_type": "execute_result",
          "data": {
            "text/plain": [
              "False"
            ]
          },
          "metadata": {},
          "execution_count": 24
        }
      ]
    },
    {
      "cell_type": "code",
      "metadata": {
        "colab": {
          "base_uri": "https://localhost:8080/",
          "height": 295
        },
        "id": "Px_7gADZiDrO",
        "outputId": "90a98b4d-4f39-4f8e-dd4b-391c7af01024"
      },
      "source": [
        "dataset.describe()"
      ],
      "execution_count": null,
      "outputs": [
        {
          "output_type": "execute_result",
          "data": {
            "text/html": [
              "<div>\n",
              "<style scoped>\n",
              "    .dataframe tbody tr th:only-of-type {\n",
              "        vertical-align: middle;\n",
              "    }\n",
              "\n",
              "    .dataframe tbody tr th {\n",
              "        vertical-align: top;\n",
              "    }\n",
              "\n",
              "    .dataframe thead th {\n",
              "        text-align: right;\n",
              "    }\n",
              "</style>\n",
              "<table border=\"1\" class=\"dataframe\">\n",
              "  <thead>\n",
              "    <tr style=\"text-align: right;\">\n",
              "      <th></th>\n",
              "      <th>idNotavenda</th>\n",
              "      <th>idProduto</th>\n",
              "      <th>quantidade</th>\n",
              "      <th>descontounitario</th>\n",
              "      <th>valorunitario</th>\n",
              "      <th>valortotalvenda</th>\n",
              "    </tr>\n",
              "  </thead>\n",
              "  <tbody>\n",
              "    <tr>\n",
              "      <th>count</th>\n",
              "      <td>353801.000000</td>\n",
              "      <td>353801.000000</td>\n",
              "      <td>353801.000000</td>\n",
              "      <td>353801.000000</td>\n",
              "      <td>353801.000000</td>\n",
              "      <td>353801.000000</td>\n",
              "    </tr>\n",
              "    <tr>\n",
              "      <th>mean</th>\n",
              "      <td>60413.324849</td>\n",
              "      <td>23216.141721</td>\n",
              "      <td>6.017453</td>\n",
              "      <td>6.614984</td>\n",
              "      <td>41.498397</td>\n",
              "      <td>75.671342</td>\n",
              "    </tr>\n",
              "    <tr>\n",
              "      <th>std</th>\n",
              "      <td>32556.921301</td>\n",
              "      <td>15538.277096</td>\n",
              "      <td>148.506703</td>\n",
              "      <td>24.612645</td>\n",
              "      <td>135.203989</td>\n",
              "      <td>787.685883</td>\n",
              "    </tr>\n",
              "    <tr>\n",
              "      <th>min</th>\n",
              "      <td>1.000000</td>\n",
              "      <td>7.000000</td>\n",
              "      <td>0.000000</td>\n",
              "      <td>0.000000</td>\n",
              "      <td>0.000000</td>\n",
              "      <td>-4815.216000</td>\n",
              "    </tr>\n",
              "    <tr>\n",
              "      <th>25%</th>\n",
              "      <td>32083.000000</td>\n",
              "      <td>10086.000000</td>\n",
              "      <td>1.000000</td>\n",
              "      <td>0.000000</td>\n",
              "      <td>6.190000</td>\n",
              "      <td>8.990000</td>\n",
              "    </tr>\n",
              "    <tr>\n",
              "      <th>50%</th>\n",
              "      <td>61242.000000</td>\n",
              "      <td>20896.000000</td>\n",
              "      <td>1.000000</td>\n",
              "      <td>0.000000</td>\n",
              "      <td>14.990000</td>\n",
              "      <td>19.990000</td>\n",
              "    </tr>\n",
              "    <tr>\n",
              "      <th>75%</th>\n",
              "      <td>88461.000000</td>\n",
              "      <td>38419.000000</td>\n",
              "      <td>2.000000</td>\n",
              "      <td>4.410000</td>\n",
              "      <td>32.990000</td>\n",
              "      <td>57.990000</td>\n",
              "    </tr>\n",
              "    <tr>\n",
              "      <th>max</th>\n",
              "      <td>115325.000000</td>\n",
              "      <td>47816.000000</td>\n",
              "      <td>40305.440000</td>\n",
              "      <td>1900.910000</td>\n",
              "      <td>5890.000000</td>\n",
              "      <td>274977.500000</td>\n",
              "    </tr>\n",
              "  </tbody>\n",
              "</table>\n",
              "</div>"
            ],
            "text/plain": [
              "         idNotavenda      idProduto  ...  valorunitario  valortotalvenda\n",
              "count  353801.000000  353801.000000  ...  353801.000000    353801.000000\n",
              "mean    60413.324849   23216.141721  ...      41.498397        75.671342\n",
              "std     32556.921301   15538.277096  ...     135.203989       787.685883\n",
              "min         1.000000       7.000000  ...       0.000000     -4815.216000\n",
              "25%     32083.000000   10086.000000  ...       6.190000         8.990000\n",
              "50%     61242.000000   20896.000000  ...      14.990000        19.990000\n",
              "75%     88461.000000   38419.000000  ...      32.990000        57.990000\n",
              "max    115325.000000   47816.000000  ...    5890.000000    274977.500000\n",
              "\n",
              "[8 rows x 6 columns]"
            ]
          },
          "metadata": {},
          "execution_count": 25
        }
      ]
    },
    {
      "cell_type": "code",
      "metadata": {
        "colab": {
          "base_uri": "https://localhost:8080/"
        },
        "id": "p1aU_EJslGiN",
        "outputId": "f8342731-0320-4d0d-eecc-0f86f8dc90dd"
      },
      "source": [
        "dataset['valorunitario'].isnull().values.any()"
      ],
      "execution_count": null,
      "outputs": [
        {
          "output_type": "execute_result",
          "data": {
            "text/plain": [
              "False"
            ]
          },
          "metadata": {},
          "execution_count": 26
        }
      ]
    },
    {
      "cell_type": "code",
      "metadata": {
        "colab": {
          "base_uri": "https://localhost:8080/"
        },
        "id": "_ot1fg7Blk-e",
        "outputId": "2c2d19bb-abf2-4e0b-a678-680b032ac684"
      },
      "source": [
        "dataset['valorunitario'].min()"
      ],
      "execution_count": null,
      "outputs": [
        {
          "output_type": "execute_result",
          "data": {
            "text/plain": [
              "0.0"
            ]
          },
          "metadata": {},
          "execution_count": 27
        }
      ]
    },
    {
      "cell_type": "code",
      "metadata": {
        "colab": {
          "base_uri": "https://localhost:8080/"
        },
        "id": "VGfIFn1qnC2c",
        "outputId": "174739e8-8be1-46ac-bc76-bbc2bf94866a"
      },
      "source": [
        "dataset['valorunitario'] == 0"
      ],
      "execution_count": null,
      "outputs": [
        {
          "output_type": "execute_result",
          "data": {
            "text/plain": [
              "0         False\n",
              "1         False\n",
              "2         False\n",
              "3         False\n",
              "4         False\n",
              "          ...  \n",
              "353796    False\n",
              "353797    False\n",
              "353798    False\n",
              "353799    False\n",
              "353800    False\n",
              "Name: valorunitario, Length: 353801, dtype: bool"
            ]
          },
          "metadata": {},
          "execution_count": 28
        }
      ]
    },
    {
      "cell_type": "code",
      "metadata": {
        "colab": {
          "base_uri": "https://localhost:8080/",
          "height": 585
        },
        "id": "DHM10Ofrl7Ef",
        "outputId": "72ca412f-183d-4742-d5a2-9323e86f8fb4"
      },
      "source": [
        "#varias linhas com valor unitario zero\n",
        "dataset[dataset.valorunitario == 0]"
      ],
      "execution_count": null,
      "outputs": [
        {
          "output_type": "execute_result",
          "data": {
            "text/html": [
              "<div>\n",
              "<style scoped>\n",
              "    .dataframe tbody tr th:only-of-type {\n",
              "        vertical-align: middle;\n",
              "    }\n",
              "\n",
              "    .dataframe tbody tr th {\n",
              "        vertical-align: top;\n",
              "    }\n",
              "\n",
              "    .dataframe thead th {\n",
              "        text-align: right;\n",
              "    }\n",
              "</style>\n",
              "<table border=\"1\" class=\"dataframe\">\n",
              "  <thead>\n",
              "    <tr style=\"text-align: right;\">\n",
              "      <th></th>\n",
              "      <th>idNotavenda</th>\n",
              "      <th>idProduto</th>\n",
              "      <th>quantidade</th>\n",
              "      <th>descontounitario</th>\n",
              "      <th>valorunitario</th>\n",
              "      <th>valortotalvenda</th>\n",
              "      <th>datavenda</th>\n",
              "      <th>temp</th>\n",
              "      <th>dataabreviada</th>\n",
              "    </tr>\n",
              "  </thead>\n",
              "  <tbody>\n",
              "    <tr>\n",
              "      <th>1136</th>\n",
              "      <td>2331</td>\n",
              "      <td>18743</td>\n",
              "      <td>1.0</td>\n",
              "      <td>2.40</td>\n",
              "      <td>0.0</td>\n",
              "      <td>-2.40</td>\n",
              "      <td>2018-12-22</td>\n",
              "      <td>2018-12-01</td>\n",
              "      <td>2018-12-01</td>\n",
              "    </tr>\n",
              "    <tr>\n",
              "      <th>37765</th>\n",
              "      <td>52547</td>\n",
              "      <td>47674</td>\n",
              "      <td>1.0</td>\n",
              "      <td>19.67</td>\n",
              "      <td>0.0</td>\n",
              "      <td>-19.67</td>\n",
              "      <td>2018-12-18</td>\n",
              "      <td>2018-12-01</td>\n",
              "      <td>2018-12-01</td>\n",
              "    </tr>\n",
              "    <tr>\n",
              "      <th>41364</th>\n",
              "      <td>53593</td>\n",
              "      <td>47630</td>\n",
              "      <td>1.0</td>\n",
              "      <td>19.47</td>\n",
              "      <td>0.0</td>\n",
              "      <td>-19.47</td>\n",
              "      <td>2018-12-28</td>\n",
              "      <td>2018-12-01</td>\n",
              "      <td>2018-12-01</td>\n",
              "    </tr>\n",
              "    <tr>\n",
              "      <th>109183</th>\n",
              "      <td>2433</td>\n",
              "      <td>47457</td>\n",
              "      <td>8.0</td>\n",
              "      <td>13.12</td>\n",
              "      <td>0.0</td>\n",
              "      <td>-104.96</td>\n",
              "      <td>2018-11-27</td>\n",
              "      <td>2018-11-01</td>\n",
              "      <td>2018-11-01</td>\n",
              "    </tr>\n",
              "    <tr>\n",
              "      <th>141490</th>\n",
              "      <td>40187</td>\n",
              "      <td>43224</td>\n",
              "      <td>6.0</td>\n",
              "      <td>0.00</td>\n",
              "      <td>0.0</td>\n",
              "      <td>0.00</td>\n",
              "      <td>2018-11-22</td>\n",
              "      <td>2018-11-01</td>\n",
              "      <td>2018-11-01</td>\n",
              "    </tr>\n",
              "    <tr>\n",
              "      <th>...</th>\n",
              "      <td>...</td>\n",
              "      <td>...</td>\n",
              "      <td>...</td>\n",
              "      <td>...</td>\n",
              "      <td>...</td>\n",
              "      <td>...</td>\n",
              "      <td>...</td>\n",
              "      <td>...</td>\n",
              "      <td>...</td>\n",
              "    </tr>\n",
              "    <tr>\n",
              "      <th>325618</th>\n",
              "      <td>115111</td>\n",
              "      <td>46525</td>\n",
              "      <td>1.0</td>\n",
              "      <td>28.61</td>\n",
              "      <td>0.0</td>\n",
              "      <td>-28.61</td>\n",
              "      <td>2018-10-17</td>\n",
              "      <td>2018-10-01</td>\n",
              "      <td>2018-10-01</td>\n",
              "    </tr>\n",
              "    <tr>\n",
              "      <th>325619</th>\n",
              "      <td>115111</td>\n",
              "      <td>46526</td>\n",
              "      <td>1.0</td>\n",
              "      <td>28.61</td>\n",
              "      <td>0.0</td>\n",
              "      <td>-28.61</td>\n",
              "      <td>2018-10-17</td>\n",
              "      <td>2018-10-01</td>\n",
              "      <td>2018-10-01</td>\n",
              "    </tr>\n",
              "    <tr>\n",
              "      <th>325620</th>\n",
              "      <td>115111</td>\n",
              "      <td>46527</td>\n",
              "      <td>1.0</td>\n",
              "      <td>33.91</td>\n",
              "      <td>0.0</td>\n",
              "      <td>-33.91</td>\n",
              "      <td>2018-10-17</td>\n",
              "      <td>2018-10-01</td>\n",
              "      <td>2018-10-01</td>\n",
              "    </tr>\n",
              "    <tr>\n",
              "      <th>325621</th>\n",
              "      <td>115111</td>\n",
              "      <td>46530</td>\n",
              "      <td>1.0</td>\n",
              "      <td>22.39</td>\n",
              "      <td>0.0</td>\n",
              "      <td>-22.39</td>\n",
              "      <td>2018-10-17</td>\n",
              "      <td>2018-10-01</td>\n",
              "      <td>2018-10-01</td>\n",
              "    </tr>\n",
              "    <tr>\n",
              "      <th>326004</th>\n",
              "      <td>115285</td>\n",
              "      <td>46554</td>\n",
              "      <td>2.0</td>\n",
              "      <td>21.24</td>\n",
              "      <td>0.0</td>\n",
              "      <td>-42.48</td>\n",
              "      <td>2018-10-03</td>\n",
              "      <td>2018-10-01</td>\n",
              "      <td>2018-10-01</td>\n",
              "    </tr>\n",
              "  </tbody>\n",
              "</table>\n",
              "<p>91 rows × 9 columns</p>\n",
              "</div>"
            ],
            "text/plain": [
              "        idNotavenda  idProduto  quantidade  ...  datavenda        temp  dataabreviada\n",
              "1136           2331      18743         1.0  ... 2018-12-22  2018-12-01     2018-12-01\n",
              "37765         52547      47674         1.0  ... 2018-12-18  2018-12-01     2018-12-01\n",
              "41364         53593      47630         1.0  ... 2018-12-28  2018-12-01     2018-12-01\n",
              "109183         2433      47457         8.0  ... 2018-11-27  2018-11-01     2018-11-01\n",
              "141490        40187      43224         6.0  ... 2018-11-22  2018-11-01     2018-11-01\n",
              "...             ...        ...         ...  ...        ...         ...            ...\n",
              "325618       115111      46525         1.0  ... 2018-10-17  2018-10-01     2018-10-01\n",
              "325619       115111      46526         1.0  ... 2018-10-17  2018-10-01     2018-10-01\n",
              "325620       115111      46527         1.0  ... 2018-10-17  2018-10-01     2018-10-01\n",
              "325621       115111      46530         1.0  ... 2018-10-17  2018-10-01     2018-10-01\n",
              "326004       115285      46554         2.0  ... 2018-10-03  2018-10-01     2018-10-01\n",
              "\n",
              "[91 rows x 9 columns]"
            ]
          },
          "metadata": {},
          "execution_count": 29
        }
      ]
    },
    {
      "cell_type": "code",
      "metadata": {
        "id": "IttmL0hUlTJQ"
      },
      "source": [
        "#apagar as linhas que tem produto com valor zero\n",
        "dataset.shape\n"
      ],
      "execution_count": null,
      "outputs": []
    },
    {
      "cell_type": "code",
      "metadata": {
        "colab": {
          "base_uri": "https://localhost:8080/"
        },
        "id": "6eF1jpDir29R",
        "outputId": "9e8bf41d-5d18-4448-a642-163823fd9455"
      },
      "source": [
        "dataset = dataset.loc[dataset['valorunitario'] != 0]\n",
        "dataset.shape"
      ],
      "execution_count": null,
      "outputs": [
        {
          "output_type": "execute_result",
          "data": {
            "text/plain": [
              "(353710, 9)"
            ]
          },
          "metadata": {},
          "execution_count": 31
        }
      ]
    },
    {
      "cell_type": "code",
      "metadata": {
        "colab": {
          "base_uri": "https://localhost:8080/"
        },
        "id": "7wKTG-vtsF8Q",
        "outputId": "17f16799-5c5a-4b20-ad5f-e3c685f5d79c"
      },
      "source": [
        "dataset['valorunitario'].min()"
      ],
      "execution_count": null,
      "outputs": [
        {
          "output_type": "execute_result",
          "data": {
            "text/plain": [
              "0.01"
            ]
          },
          "metadata": {},
          "execution_count": 32
        }
      ]
    },
    {
      "cell_type": "code",
      "metadata": {
        "colab": {
          "base_uri": "https://localhost:8080/"
        },
        "id": "kRfBqcebsRON",
        "outputId": "ba8b359a-3390-4d89-e5b3-db8d7c6abe72"
      },
      "source": [
        "dataset['valortotalvenda'].min()"
      ],
      "execution_count": null,
      "outputs": [
        {
          "output_type": "execute_result",
          "data": {
            "text/plain": [
              "-2200.08"
            ]
          },
          "metadata": {},
          "execution_count": 33
        }
      ]
    },
    {
      "cell_type": "code",
      "metadata": {
        "colab": {
          "base_uri": "https://localhost:8080/",
          "height": 295
        },
        "id": "MZYy495HscKV",
        "outputId": "b64e69f6-bc63-4506-abf3-daa93e8b85dd"
      },
      "source": [
        "dataset.describe()\n",
        "#confirmado que tem valortotalvenda negativo"
      ],
      "execution_count": null,
      "outputs": [
        {
          "output_type": "execute_result",
          "data": {
            "text/html": [
              "<div>\n",
              "<style scoped>\n",
              "    .dataframe tbody tr th:only-of-type {\n",
              "        vertical-align: middle;\n",
              "    }\n",
              "\n",
              "    .dataframe tbody tr th {\n",
              "        vertical-align: top;\n",
              "    }\n",
              "\n",
              "    .dataframe thead th {\n",
              "        text-align: right;\n",
              "    }\n",
              "</style>\n",
              "<table border=\"1\" class=\"dataframe\">\n",
              "  <thead>\n",
              "    <tr style=\"text-align: right;\">\n",
              "      <th></th>\n",
              "      <th>idNotavenda</th>\n",
              "      <th>idProduto</th>\n",
              "      <th>quantidade</th>\n",
              "      <th>descontounitario</th>\n",
              "      <th>valorunitario</th>\n",
              "      <th>valortotalvenda</th>\n",
              "    </tr>\n",
              "  </thead>\n",
              "  <tbody>\n",
              "    <tr>\n",
              "      <th>count</th>\n",
              "      <td>353710.000000</td>\n",
              "      <td>353710.000000</td>\n",
              "      <td>353710.00000</td>\n",
              "      <td>353710.000000</td>\n",
              "      <td>353710.000000</td>\n",
              "      <td>353710.000000</td>\n",
              "    </tr>\n",
              "    <tr>\n",
              "      <th>mean</th>\n",
              "      <td>60420.358709</td>\n",
              "      <td>23211.290843</td>\n",
              "      <td>6.01022</td>\n",
              "      <td>6.614202</td>\n",
              "      <td>41.509073</td>\n",
              "      <td>75.746682</td>\n",
              "    </tr>\n",
              "    <tr>\n",
              "      <th>std</th>\n",
              "      <td>32553.673627</td>\n",
              "      <td>15537.032486</td>\n",
              "      <td>148.51626</td>\n",
              "      <td>24.615137</td>\n",
              "      <td>135.219742</td>\n",
              "      <td>787.691018</td>\n",
              "    </tr>\n",
              "    <tr>\n",
              "      <th>min</th>\n",
              "      <td>1.000000</td>\n",
              "      <td>7.000000</td>\n",
              "      <td>0.00000</td>\n",
              "      <td>0.000000</td>\n",
              "      <td>0.010000</td>\n",
              "      <td>-2200.080000</td>\n",
              "    </tr>\n",
              "    <tr>\n",
              "      <th>25%</th>\n",
              "      <td>32086.000000</td>\n",
              "      <td>10076.000000</td>\n",
              "      <td>1.00000</td>\n",
              "      <td>0.000000</td>\n",
              "      <td>6.290000</td>\n",
              "      <td>8.990000</td>\n",
              "    </tr>\n",
              "    <tr>\n",
              "      <th>50%</th>\n",
              "      <td>61250.000000</td>\n",
              "      <td>20893.000000</td>\n",
              "      <td>1.00000</td>\n",
              "      <td>0.000000</td>\n",
              "      <td>14.990000</td>\n",
              "      <td>19.990000</td>\n",
              "    </tr>\n",
              "    <tr>\n",
              "      <th>75%</th>\n",
              "      <td>88466.000000</td>\n",
              "      <td>38418.000000</td>\n",
              "      <td>2.00000</td>\n",
              "      <td>4.410000</td>\n",
              "      <td>32.990000</td>\n",
              "      <td>57.990000</td>\n",
              "    </tr>\n",
              "    <tr>\n",
              "      <th>max</th>\n",
              "      <td>115325.000000</td>\n",
              "      <td>47816.000000</td>\n",
              "      <td>40305.44000</td>\n",
              "      <td>1900.910000</td>\n",
              "      <td>5890.000000</td>\n",
              "      <td>274977.500000</td>\n",
              "    </tr>\n",
              "  </tbody>\n",
              "</table>\n",
              "</div>"
            ],
            "text/plain": [
              "         idNotavenda      idProduto  ...  valorunitario  valortotalvenda\n",
              "count  353710.000000  353710.000000  ...  353710.000000    353710.000000\n",
              "mean    60420.358709   23211.290843  ...      41.509073        75.746682\n",
              "std     32553.673627   15537.032486  ...     135.219742       787.691018\n",
              "min         1.000000       7.000000  ...       0.010000     -2200.080000\n",
              "25%     32086.000000   10076.000000  ...       6.290000         8.990000\n",
              "50%     61250.000000   20893.000000  ...      14.990000        19.990000\n",
              "75%     88466.000000   38418.000000  ...      32.990000        57.990000\n",
              "max    115325.000000   47816.000000  ...    5890.000000    274977.500000\n",
              "\n",
              "[8 rows x 6 columns]"
            ]
          },
          "metadata": {},
          "execution_count": 34
        }
      ]
    },
    {
      "cell_type": "code",
      "metadata": {
        "colab": {
          "base_uri": "https://localhost:8080/"
        },
        "id": "xUBTWGtusjEu",
        "outputId": "b3f26357-c7a4-4605-835a-2897a77dc3f0"
      },
      "source": [
        "dataset.shape"
      ],
      "execution_count": null,
      "outputs": [
        {
          "output_type": "execute_result",
          "data": {
            "text/plain": [
              "(353710, 9)"
            ]
          },
          "metadata": {},
          "execution_count": 35
        }
      ]
    },
    {
      "cell_type": "code",
      "metadata": {
        "colab": {
          "base_uri": "https://localhost:8080/",
          "height": 192
        },
        "id": "8GcLqDpls3y3",
        "outputId": "6ea68848-52fa-4fdb-8d8f-f112092dbf27"
      },
      "source": [
        "dataset[dataset.valortotalvenda < 0]"
      ],
      "execution_count": null,
      "outputs": [
        {
          "output_type": "execute_result",
          "data": {
            "text/html": [
              "<div>\n",
              "<style scoped>\n",
              "    .dataframe tbody tr th:only-of-type {\n",
              "        vertical-align: middle;\n",
              "    }\n",
              "\n",
              "    .dataframe tbody tr th {\n",
              "        vertical-align: top;\n",
              "    }\n",
              "\n",
              "    .dataframe thead th {\n",
              "        text-align: right;\n",
              "    }\n",
              "</style>\n",
              "<table border=\"1\" class=\"dataframe\">\n",
              "  <thead>\n",
              "    <tr style=\"text-align: right;\">\n",
              "      <th></th>\n",
              "      <th>idNotavenda</th>\n",
              "      <th>idProduto</th>\n",
              "      <th>quantidade</th>\n",
              "      <th>descontounitario</th>\n",
              "      <th>valorunitario</th>\n",
              "      <th>valortotalvenda</th>\n",
              "      <th>datavenda</th>\n",
              "      <th>temp</th>\n",
              "      <th>dataabreviada</th>\n",
              "    </tr>\n",
              "  </thead>\n",
              "  <tbody>\n",
              "    <tr>\n",
              "      <th>441</th>\n",
              "      <td>553</td>\n",
              "      <td>47480</td>\n",
              "      <td>4.0</td>\n",
              "      <td>710.01</td>\n",
              "      <td>159.99</td>\n",
              "      <td>-2200.08</td>\n",
              "      <td>2018-12-20</td>\n",
              "      <td>2018-12-01</td>\n",
              "      <td>2018-12-01</td>\n",
              "    </tr>\n",
              "    <tr>\n",
              "      <th>109181</th>\n",
              "      <td>2433</td>\n",
              "      <td>19154</td>\n",
              "      <td>60.0</td>\n",
              "      <td>13.94</td>\n",
              "      <td>0.01</td>\n",
              "      <td>-835.80</td>\n",
              "      <td>2018-11-27</td>\n",
              "      <td>2018-11-01</td>\n",
              "      <td>2018-11-01</td>\n",
              "    </tr>\n",
              "    <tr>\n",
              "      <th>333245</th>\n",
              "      <td>40210</td>\n",
              "      <td>10833</td>\n",
              "      <td>4.0</td>\n",
              "      <td>157.91</td>\n",
              "      <td>21.99</td>\n",
              "      <td>-543.68</td>\n",
              "      <td>2018-09-23</td>\n",
              "      <td>2018-09-01</td>\n",
              "      <td>2018-09-01</td>\n",
              "    </tr>\n",
              "  </tbody>\n",
              "</table>\n",
              "</div>"
            ],
            "text/plain": [
              "        idNotavenda  idProduto  quantidade  ...  datavenda        temp  dataabreviada\n",
              "441             553      47480         4.0  ... 2018-12-20  2018-12-01     2018-12-01\n",
              "109181         2433      19154        60.0  ... 2018-11-27  2018-11-01     2018-11-01\n",
              "333245        40210      10833         4.0  ... 2018-09-23  2018-09-01     2018-09-01\n",
              "\n",
              "[3 rows x 9 columns]"
            ]
          },
          "metadata": {},
          "execution_count": 36
        }
      ]
    },
    {
      "cell_type": "code",
      "metadata": {
        "colab": {
          "base_uri": "https://localhost:8080/"
        },
        "id": "V7AHWwCOtE9s",
        "outputId": "5a526902-31dc-4cad-c5bd-bc814df50895"
      },
      "source": [
        "#deletar as linhas com valor de venda negativo\n",
        "\n",
        "dataset.shape\n",
        "\n"
      ],
      "execution_count": null,
      "outputs": [
        {
          "output_type": "execute_result",
          "data": {
            "text/plain": [
              "(353710, 9)"
            ]
          },
          "metadata": {},
          "execution_count": 37
        }
      ]
    },
    {
      "cell_type": "code",
      "metadata": {
        "colab": {
          "base_uri": "https://localhost:8080/"
        },
        "id": "gqQFHrnMtigq",
        "outputId": "e34e3b89-4a8f-4e01-b81c-970bd9bc42ee"
      },
      "source": [
        "dataset = dataset.loc[dataset['valortotalvenda'] > 0]\n",
        "dataset.shape"
      ],
      "execution_count": null,
      "outputs": [
        {
          "output_type": "execute_result",
          "data": {
            "text/plain": [
              "(353642, 9)"
            ]
          },
          "metadata": {},
          "execution_count": 38
        }
      ]
    },
    {
      "cell_type": "code",
      "metadata": {
        "colab": {
          "base_uri": "https://localhost:8080/",
          "height": 585
        },
        "id": "2TRo1gxYtz_U",
        "outputId": "7b57a674-437f-424c-9134-f686b0d4013c"
      },
      "source": [
        "dataset"
      ],
      "execution_count": null,
      "outputs": [
        {
          "output_type": "execute_result",
          "data": {
            "text/html": [
              "<div>\n",
              "<style scoped>\n",
              "    .dataframe tbody tr th:only-of-type {\n",
              "        vertical-align: middle;\n",
              "    }\n",
              "\n",
              "    .dataframe tbody tr th {\n",
              "        vertical-align: top;\n",
              "    }\n",
              "\n",
              "    .dataframe thead th {\n",
              "        text-align: right;\n",
              "    }\n",
              "</style>\n",
              "<table border=\"1\" class=\"dataframe\">\n",
              "  <thead>\n",
              "    <tr style=\"text-align: right;\">\n",
              "      <th></th>\n",
              "      <th>idNotavenda</th>\n",
              "      <th>idProduto</th>\n",
              "      <th>quantidade</th>\n",
              "      <th>descontounitario</th>\n",
              "      <th>valorunitario</th>\n",
              "      <th>valortotalvenda</th>\n",
              "      <th>datavenda</th>\n",
              "      <th>temp</th>\n",
              "      <th>dataabreviada</th>\n",
              "    </tr>\n",
              "  </thead>\n",
              "  <tbody>\n",
              "    <tr>\n",
              "      <th>0</th>\n",
              "      <td>1</td>\n",
              "      <td>7465</td>\n",
              "      <td>1.0</td>\n",
              "      <td>5.00</td>\n",
              "      <td>12.99</td>\n",
              "      <td>7.99</td>\n",
              "      <td>2018-12-08</td>\n",
              "      <td>2018-12-01</td>\n",
              "      <td>2018-12-01</td>\n",
              "    </tr>\n",
              "    <tr>\n",
              "      <th>1</th>\n",
              "      <td>1</td>\n",
              "      <td>12391</td>\n",
              "      <td>2.0</td>\n",
              "      <td>1.19</td>\n",
              "      <td>7.99</td>\n",
              "      <td>13.60</td>\n",
              "      <td>2018-12-08</td>\n",
              "      <td>2018-12-01</td>\n",
              "      <td>2018-12-01</td>\n",
              "    </tr>\n",
              "    <tr>\n",
              "      <th>2</th>\n",
              "      <td>53</td>\n",
              "      <td>41982</td>\n",
              "      <td>1.0</td>\n",
              "      <td>2.61</td>\n",
              "      <td>41.99</td>\n",
              "      <td>39.38</td>\n",
              "      <td>2018-12-07</td>\n",
              "      <td>2018-12-01</td>\n",
              "      <td>2018-12-01</td>\n",
              "    </tr>\n",
              "    <tr>\n",
              "      <th>3</th>\n",
              "      <td>54</td>\n",
              "      <td>635</td>\n",
              "      <td>4.0</td>\n",
              "      <td>18.53</td>\n",
              "      <td>40.99</td>\n",
              "      <td>89.84</td>\n",
              "      <td>2018-12-05</td>\n",
              "      <td>2018-12-01</td>\n",
              "      <td>2018-12-01</td>\n",
              "    </tr>\n",
              "    <tr>\n",
              "      <th>4</th>\n",
              "      <td>58</td>\n",
              "      <td>1507</td>\n",
              "      <td>2.0</td>\n",
              "      <td>123.51</td>\n",
              "      <td>201.90</td>\n",
              "      <td>156.78</td>\n",
              "      <td>2018-12-07</td>\n",
              "      <td>2018-12-01</td>\n",
              "      <td>2018-12-01</td>\n",
              "    </tr>\n",
              "    <tr>\n",
              "      <th>...</th>\n",
              "      <td>...</td>\n",
              "      <td>...</td>\n",
              "      <td>...</td>\n",
              "      <td>...</td>\n",
              "      <td>...</td>\n",
              "      <td>...</td>\n",
              "      <td>...</td>\n",
              "      <td>...</td>\n",
              "      <td>...</td>\n",
              "    </tr>\n",
              "    <tr>\n",
              "      <th>353796</th>\n",
              "      <td>115192</td>\n",
              "      <td>42415</td>\n",
              "      <td>1.0</td>\n",
              "      <td>58.33</td>\n",
              "      <td>129.99</td>\n",
              "      <td>71.66</td>\n",
              "      <td>2018-09-26</td>\n",
              "      <td>2018-09-01</td>\n",
              "      <td>2018-09-01</td>\n",
              "    </tr>\n",
              "    <tr>\n",
              "      <th>353797</th>\n",
              "      <td>115193</td>\n",
              "      <td>16108</td>\n",
              "      <td>1000.0</td>\n",
              "      <td>0.45</td>\n",
              "      <td>0.90</td>\n",
              "      <td>450.00</td>\n",
              "      <td>2018-09-27</td>\n",
              "      <td>2018-09-01</td>\n",
              "      <td>2018-09-01</td>\n",
              "    </tr>\n",
              "    <tr>\n",
              "      <th>353798</th>\n",
              "      <td>115194</td>\n",
              "      <td>10779</td>\n",
              "      <td>6.0</td>\n",
              "      <td>25.63</td>\n",
              "      <td>49.99</td>\n",
              "      <td>146.16</td>\n",
              "      <td>2018-09-27</td>\n",
              "      <td>2018-09-01</td>\n",
              "      <td>2018-09-01</td>\n",
              "    </tr>\n",
              "    <tr>\n",
              "      <th>353799</th>\n",
              "      <td>115195</td>\n",
              "      <td>3123</td>\n",
              "      <td>3.0</td>\n",
              "      <td>12.64</td>\n",
              "      <td>22.90</td>\n",
              "      <td>30.78</td>\n",
              "      <td>2018-09-27</td>\n",
              "      <td>2018-09-01</td>\n",
              "      <td>2018-09-01</td>\n",
              "    </tr>\n",
              "    <tr>\n",
              "      <th>353800</th>\n",
              "      <td>115195</td>\n",
              "      <td>17746</td>\n",
              "      <td>45.0</td>\n",
              "      <td>16.44</td>\n",
              "      <td>33.99</td>\n",
              "      <td>789.75</td>\n",
              "      <td>2018-09-27</td>\n",
              "      <td>2018-09-01</td>\n",
              "      <td>2018-09-01</td>\n",
              "    </tr>\n",
              "  </tbody>\n",
              "</table>\n",
              "<p>353642 rows × 9 columns</p>\n",
              "</div>"
            ],
            "text/plain": [
              "        idNotavenda  idProduto  quantidade  ...  datavenda        temp  dataabreviada\n",
              "0                 1       7465         1.0  ... 2018-12-08  2018-12-01     2018-12-01\n",
              "1                 1      12391         2.0  ... 2018-12-08  2018-12-01     2018-12-01\n",
              "2                53      41982         1.0  ... 2018-12-07  2018-12-01     2018-12-01\n",
              "3                54        635         4.0  ... 2018-12-05  2018-12-01     2018-12-01\n",
              "4                58       1507         2.0  ... 2018-12-07  2018-12-01     2018-12-01\n",
              "...             ...        ...         ...  ...        ...         ...            ...\n",
              "353796       115192      42415         1.0  ... 2018-09-26  2018-09-01     2018-09-01\n",
              "353797       115193      16108      1000.0  ... 2018-09-27  2018-09-01     2018-09-01\n",
              "353798       115194      10779         6.0  ... 2018-09-27  2018-09-01     2018-09-01\n",
              "353799       115195       3123         3.0  ... 2018-09-27  2018-09-01     2018-09-01\n",
              "353800       115195      17746        45.0  ... 2018-09-27  2018-09-01     2018-09-01\n",
              "\n",
              "[353642 rows x 9 columns]"
            ]
          },
          "metadata": {},
          "execution_count": 39
        }
      ]
    },
    {
      "cell_type": "code",
      "metadata": {
        "id": "hiOTYH932hiq"
      },
      "source": [
        "dataset.reset_index(drop=True,inplace=True)"
      ],
      "execution_count": null,
      "outputs": []
    },
    {
      "cell_type": "code",
      "metadata": {
        "colab": {
          "base_uri": "https://localhost:8080/",
          "height": 49
        },
        "id": "YhwMvFQntUeg",
        "outputId": "ad7a7e92-0949-450d-cbd2-1be46962e511"
      },
      "source": [
        "#verificar se tem algua linha com desconto maior que o valor do produto\n",
        "dataset[dataset.valorunitario < dataset.descontounitario ]\n",
        "#nao tem nenhum\n"
      ],
      "execution_count": null,
      "outputs": [
        {
          "output_type": "execute_result",
          "data": {
            "text/html": [
              "<div>\n",
              "<style scoped>\n",
              "    .dataframe tbody tr th:only-of-type {\n",
              "        vertical-align: middle;\n",
              "    }\n",
              "\n",
              "    .dataframe tbody tr th {\n",
              "        vertical-align: top;\n",
              "    }\n",
              "\n",
              "    .dataframe thead th {\n",
              "        text-align: right;\n",
              "    }\n",
              "</style>\n",
              "<table border=\"1\" class=\"dataframe\">\n",
              "  <thead>\n",
              "    <tr style=\"text-align: right;\">\n",
              "      <th></th>\n",
              "      <th>idNotavenda</th>\n",
              "      <th>idProduto</th>\n",
              "      <th>quantidade</th>\n",
              "      <th>descontounitario</th>\n",
              "      <th>valorunitario</th>\n",
              "      <th>valortotalvenda</th>\n",
              "      <th>datavenda</th>\n",
              "      <th>temp</th>\n",
              "      <th>dataabreviada</th>\n",
              "    </tr>\n",
              "  </thead>\n",
              "  <tbody>\n",
              "  </tbody>\n",
              "</table>\n",
              "</div>"
            ],
            "text/plain": [
              "Empty DataFrame\n",
              "Columns: [idNotavenda, idProduto, quantidade, descontounitario, valorunitario, valortotalvenda, datavenda, temp, dataabreviada]\n",
              "Index: []"
            ]
          },
          "metadata": {},
          "execution_count": 41
        }
      ]
    },
    {
      "cell_type": "code",
      "metadata": {
        "colab": {
          "base_uri": "https://localhost:8080/",
          "height": 49
        },
        "id": "3Nr4LsD-x1k_",
        "outputId": "7d0032c0-f622-4505-e0fe-64f3f95db3ad"
      },
      "source": [
        "dataset[dataset.valorunitario == dataset.descontounitario ]\n",
        "#nenhum produto com desconto de 100%"
      ],
      "execution_count": null,
      "outputs": [
        {
          "output_type": "execute_result",
          "data": {
            "text/html": [
              "<div>\n",
              "<style scoped>\n",
              "    .dataframe tbody tr th:only-of-type {\n",
              "        vertical-align: middle;\n",
              "    }\n",
              "\n",
              "    .dataframe tbody tr th {\n",
              "        vertical-align: top;\n",
              "    }\n",
              "\n",
              "    .dataframe thead th {\n",
              "        text-align: right;\n",
              "    }\n",
              "</style>\n",
              "<table border=\"1\" class=\"dataframe\">\n",
              "  <thead>\n",
              "    <tr style=\"text-align: right;\">\n",
              "      <th></th>\n",
              "      <th>idNotavenda</th>\n",
              "      <th>idProduto</th>\n",
              "      <th>quantidade</th>\n",
              "      <th>descontounitario</th>\n",
              "      <th>valorunitario</th>\n",
              "      <th>valortotalvenda</th>\n",
              "      <th>datavenda</th>\n",
              "      <th>temp</th>\n",
              "      <th>dataabreviada</th>\n",
              "    </tr>\n",
              "  </thead>\n",
              "  <tbody>\n",
              "  </tbody>\n",
              "</table>\n",
              "</div>"
            ],
            "text/plain": [
              "Empty DataFrame\n",
              "Columns: [idNotavenda, idProduto, quantidade, descontounitario, valorunitario, valortotalvenda, datavenda, temp, dataabreviada]\n",
              "Index: []"
            ]
          },
          "metadata": {},
          "execution_count": 42
        }
      ]
    },
    {
      "cell_type": "code",
      "metadata": {
        "colab": {
          "base_uri": "https://localhost:8080/",
          "height": 295
        },
        "id": "ggK4Nz3LyB2s",
        "outputId": "d08e342a-2168-46b2-a0f5-2fdccfccb5a7"
      },
      "source": [
        "dataset.describe()"
      ],
      "execution_count": null,
      "outputs": [
        {
          "output_type": "execute_result",
          "data": {
            "text/html": [
              "<div>\n",
              "<style scoped>\n",
              "    .dataframe tbody tr th:only-of-type {\n",
              "        vertical-align: middle;\n",
              "    }\n",
              "\n",
              "    .dataframe tbody tr th {\n",
              "        vertical-align: top;\n",
              "    }\n",
              "\n",
              "    .dataframe thead th {\n",
              "        text-align: right;\n",
              "    }\n",
              "</style>\n",
              "<table border=\"1\" class=\"dataframe\">\n",
              "  <thead>\n",
              "    <tr style=\"text-align: right;\">\n",
              "      <th></th>\n",
              "      <th>idNotavenda</th>\n",
              "      <th>idProduto</th>\n",
              "      <th>quantidade</th>\n",
              "      <th>descontounitario</th>\n",
              "      <th>valorunitario</th>\n",
              "      <th>valortotalvenda</th>\n",
              "    </tr>\n",
              "  </thead>\n",
              "  <tbody>\n",
              "    <tr>\n",
              "      <th>count</th>\n",
              "      <td>353642.000000</td>\n",
              "      <td>353642.000000</td>\n",
              "      <td>353642.000000</td>\n",
              "      <td>353642.00000</td>\n",
              "      <td>353642.000000</td>\n",
              "      <td>353642.000000</td>\n",
              "    </tr>\n",
              "    <tr>\n",
              "      <th>mean</th>\n",
              "      <td>60426.186915</td>\n",
              "      <td>23209.353298</td>\n",
              "      <td>6.004929</td>\n",
              "      <td>6.56850</td>\n",
              "      <td>41.427693</td>\n",
              "      <td>75.771369</td>\n",
              "    </tr>\n",
              "    <tr>\n",
              "      <th>std</th>\n",
              "      <td>32553.544236</td>\n",
              "      <td>15537.529243</td>\n",
              "      <td>148.527816</td>\n",
              "      <td>24.27868</td>\n",
              "      <td>134.332919</td>\n",
              "      <td>787.754600</td>\n",
              "    </tr>\n",
              "    <tr>\n",
              "      <th>min</th>\n",
              "      <td>1.000000</td>\n",
              "      <td>7.000000</td>\n",
              "      <td>0.010000</td>\n",
              "      <td>0.00000</td>\n",
              "      <td>0.010000</td>\n",
              "      <td>0.010000</td>\n",
              "    </tr>\n",
              "    <tr>\n",
              "      <th>25%</th>\n",
              "      <td>32088.000000</td>\n",
              "      <td>10076.000000</td>\n",
              "      <td>1.000000</td>\n",
              "      <td>0.00000</td>\n",
              "      <td>6.280000</td>\n",
              "      <td>8.990000</td>\n",
              "    </tr>\n",
              "    <tr>\n",
              "      <th>50%</th>\n",
              "      <td>61259.000000</td>\n",
              "      <td>20893.000000</td>\n",
              "      <td>1.000000</td>\n",
              "      <td>0.00000</td>\n",
              "      <td>14.990000</td>\n",
              "      <td>19.990000</td>\n",
              "    </tr>\n",
              "    <tr>\n",
              "      <th>75%</th>\n",
              "      <td>88472.000000</td>\n",
              "      <td>38418.000000</td>\n",
              "      <td>2.000000</td>\n",
              "      <td>4.41000</td>\n",
              "      <td>32.990000</td>\n",
              "      <td>57.990000</td>\n",
              "    </tr>\n",
              "    <tr>\n",
              "      <th>max</th>\n",
              "      <td>115325.000000</td>\n",
              "      <td>47816.000000</td>\n",
              "      <td>40305.440000</td>\n",
              "      <td>1900.91000</td>\n",
              "      <td>5890.000000</td>\n",
              "      <td>274977.500000</td>\n",
              "    </tr>\n",
              "  </tbody>\n",
              "</table>\n",
              "</div>"
            ],
            "text/plain": [
              "         idNotavenda      idProduto  ...  valorunitario  valortotalvenda\n",
              "count  353642.000000  353642.000000  ...  353642.000000    353642.000000\n",
              "mean    60426.186915   23209.353298  ...      41.427693        75.771369\n",
              "std     32553.544236   15537.529243  ...     134.332919       787.754600\n",
              "min         1.000000       7.000000  ...       0.010000         0.010000\n",
              "25%     32088.000000   10076.000000  ...       6.280000         8.990000\n",
              "50%     61259.000000   20893.000000  ...      14.990000        19.990000\n",
              "75%     88472.000000   38418.000000  ...      32.990000        57.990000\n",
              "max    115325.000000   47816.000000  ...    5890.000000    274977.500000\n",
              "\n",
              "[8 rows x 6 columns]"
            ]
          },
          "metadata": {},
          "execution_count": 47
        }
      ]
    },
    {
      "cell_type": "code",
      "metadata": {
        "colab": {
          "base_uri": "https://localhost:8080/"
        },
        "id": "HNASxjSazT_8",
        "outputId": "a0876201-1379-4f61-9b1c-0cd99ab97d32"
      },
      "source": [
        "dataset.info()"
      ],
      "execution_count": null,
      "outputs": [
        {
          "output_type": "stream",
          "text": [
            "<class 'pandas.core.frame.DataFrame'>\n",
            "RangeIndex: 353642 entries, 0 to 353641\n",
            "Data columns (total 8 columns):\n",
            " #   Column            Non-Null Count   Dtype         \n",
            "---  ------            --------------   -----         \n",
            " 0   idNotavenda       353642 non-null  int64         \n",
            " 1   idProduto         353642 non-null  int64         \n",
            " 2   quantidade        353642 non-null  float64       \n",
            " 3   descontounitario  353642 non-null  float64       \n",
            " 4   valorunitario     353642 non-null  float64       \n",
            " 5   valortotalvenda   353642 non-null  float64       \n",
            " 6   datavenda         353642 non-null  datetime64[ns]\n",
            " 7   dataabreviada     353642 non-null  datetime64[ns]\n",
            "dtypes: datetime64[ns](2), float64(4), int64(2)\n",
            "memory usage: 21.6 MB\n"
          ],
          "name": "stdout"
        }
      ]
    },
    {
      "cell_type": "code",
      "metadata": {
        "colab": {
          "base_uri": "https://localhost:8080/",
          "height": 417
        },
        "id": "NmroUZHO3WKo",
        "outputId": "7cdbe5f0-deba-4db1-8934-87d983a91860"
      },
      "source": [
        "dataset"
      ],
      "execution_count": null,
      "outputs": [
        {
          "output_type": "execute_result",
          "data": {
            "text/html": [
              "<div>\n",
              "<style scoped>\n",
              "    .dataframe tbody tr th:only-of-type {\n",
              "        vertical-align: middle;\n",
              "    }\n",
              "\n",
              "    .dataframe tbody tr th {\n",
              "        vertical-align: top;\n",
              "    }\n",
              "\n",
              "    .dataframe thead th {\n",
              "        text-align: right;\n",
              "    }\n",
              "</style>\n",
              "<table border=\"1\" class=\"dataframe\">\n",
              "  <thead>\n",
              "    <tr style=\"text-align: right;\">\n",
              "      <th></th>\n",
              "      <th>idNotavenda</th>\n",
              "      <th>idProduto</th>\n",
              "      <th>quantidade</th>\n",
              "      <th>descontounitario</th>\n",
              "      <th>valorunitario</th>\n",
              "      <th>valortotalvenda</th>\n",
              "      <th>datavenda</th>\n",
              "      <th>dataabreviada</th>\n",
              "    </tr>\n",
              "  </thead>\n",
              "  <tbody>\n",
              "    <tr>\n",
              "      <th>0</th>\n",
              "      <td>1</td>\n",
              "      <td>7465</td>\n",
              "      <td>1.0</td>\n",
              "      <td>5.00</td>\n",
              "      <td>12.99</td>\n",
              "      <td>7.99</td>\n",
              "      <td>2018-12-08</td>\n",
              "      <td>2018-12-01</td>\n",
              "    </tr>\n",
              "    <tr>\n",
              "      <th>1</th>\n",
              "      <td>1</td>\n",
              "      <td>12391</td>\n",
              "      <td>2.0</td>\n",
              "      <td>1.19</td>\n",
              "      <td>7.99</td>\n",
              "      <td>13.60</td>\n",
              "      <td>2018-12-08</td>\n",
              "      <td>2018-12-01</td>\n",
              "    </tr>\n",
              "    <tr>\n",
              "      <th>2</th>\n",
              "      <td>53</td>\n",
              "      <td>41982</td>\n",
              "      <td>1.0</td>\n",
              "      <td>2.61</td>\n",
              "      <td>41.99</td>\n",
              "      <td>39.38</td>\n",
              "      <td>2018-12-07</td>\n",
              "      <td>2018-12-01</td>\n",
              "    </tr>\n",
              "    <tr>\n",
              "      <th>3</th>\n",
              "      <td>54</td>\n",
              "      <td>635</td>\n",
              "      <td>4.0</td>\n",
              "      <td>18.53</td>\n",
              "      <td>40.99</td>\n",
              "      <td>89.84</td>\n",
              "      <td>2018-12-05</td>\n",
              "      <td>2018-12-01</td>\n",
              "    </tr>\n",
              "    <tr>\n",
              "      <th>4</th>\n",
              "      <td>58</td>\n",
              "      <td>1507</td>\n",
              "      <td>2.0</td>\n",
              "      <td>123.51</td>\n",
              "      <td>201.90</td>\n",
              "      <td>156.78</td>\n",
              "      <td>2018-12-07</td>\n",
              "      <td>2018-12-01</td>\n",
              "    </tr>\n",
              "    <tr>\n",
              "      <th>...</th>\n",
              "      <td>...</td>\n",
              "      <td>...</td>\n",
              "      <td>...</td>\n",
              "      <td>...</td>\n",
              "      <td>...</td>\n",
              "      <td>...</td>\n",
              "      <td>...</td>\n",
              "      <td>...</td>\n",
              "    </tr>\n",
              "    <tr>\n",
              "      <th>353637</th>\n",
              "      <td>115192</td>\n",
              "      <td>42415</td>\n",
              "      <td>1.0</td>\n",
              "      <td>58.33</td>\n",
              "      <td>129.99</td>\n",
              "      <td>71.66</td>\n",
              "      <td>2018-09-26</td>\n",
              "      <td>2018-09-01</td>\n",
              "    </tr>\n",
              "    <tr>\n",
              "      <th>353638</th>\n",
              "      <td>115193</td>\n",
              "      <td>16108</td>\n",
              "      <td>1000.0</td>\n",
              "      <td>0.45</td>\n",
              "      <td>0.90</td>\n",
              "      <td>450.00</td>\n",
              "      <td>2018-09-27</td>\n",
              "      <td>2018-09-01</td>\n",
              "    </tr>\n",
              "    <tr>\n",
              "      <th>353639</th>\n",
              "      <td>115194</td>\n",
              "      <td>10779</td>\n",
              "      <td>6.0</td>\n",
              "      <td>25.63</td>\n",
              "      <td>49.99</td>\n",
              "      <td>146.16</td>\n",
              "      <td>2018-09-27</td>\n",
              "      <td>2018-09-01</td>\n",
              "    </tr>\n",
              "    <tr>\n",
              "      <th>353640</th>\n",
              "      <td>115195</td>\n",
              "      <td>3123</td>\n",
              "      <td>3.0</td>\n",
              "      <td>12.64</td>\n",
              "      <td>22.90</td>\n",
              "      <td>30.78</td>\n",
              "      <td>2018-09-27</td>\n",
              "      <td>2018-09-01</td>\n",
              "    </tr>\n",
              "    <tr>\n",
              "      <th>353641</th>\n",
              "      <td>115195</td>\n",
              "      <td>17746</td>\n",
              "      <td>45.0</td>\n",
              "      <td>16.44</td>\n",
              "      <td>33.99</td>\n",
              "      <td>789.75</td>\n",
              "      <td>2018-09-27</td>\n",
              "      <td>2018-09-01</td>\n",
              "    </tr>\n",
              "  </tbody>\n",
              "</table>\n",
              "<p>353642 rows × 8 columns</p>\n",
              "</div>"
            ],
            "text/plain": [
              "        idNotavenda  idProduto  ...  datavenda  dataabreviada\n",
              "0                 1       7465  ... 2018-12-08     2018-12-01\n",
              "1                 1      12391  ... 2018-12-08     2018-12-01\n",
              "2                53      41982  ... 2018-12-07     2018-12-01\n",
              "3                54        635  ... 2018-12-05     2018-12-01\n",
              "4                58       1507  ... 2018-12-07     2018-12-01\n",
              "...             ...        ...  ...        ...            ...\n",
              "353637       115192      42415  ... 2018-09-26     2018-09-01\n",
              "353638       115193      16108  ... 2018-09-27     2018-09-01\n",
              "353639       115194      10779  ... 2018-09-27     2018-09-01\n",
              "353640       115195       3123  ... 2018-09-27     2018-09-01\n",
              "353641       115195      17746  ... 2018-09-27     2018-09-01\n",
              "\n",
              "[353642 rows x 8 columns]"
            ]
          },
          "metadata": {},
          "execution_count": 48
        }
      ]
    },
    {
      "cell_type": "code",
      "metadata": {
        "id": "MIk6qRdI48vS",
        "colab": {
          "base_uri": "https://localhost:8080/",
          "height": 417
        },
        "outputId": "6aa87e8c-a133-469d-b03e-46efdb5bf1ac"
      },
      "source": [
        "dataset.isnull()"
      ],
      "execution_count": null,
      "outputs": [
        {
          "output_type": "execute_result",
          "data": {
            "text/html": [
              "<div>\n",
              "<style scoped>\n",
              "    .dataframe tbody tr th:only-of-type {\n",
              "        vertical-align: middle;\n",
              "    }\n",
              "\n",
              "    .dataframe tbody tr th {\n",
              "        vertical-align: top;\n",
              "    }\n",
              "\n",
              "    .dataframe thead th {\n",
              "        text-align: right;\n",
              "    }\n",
              "</style>\n",
              "<table border=\"1\" class=\"dataframe\">\n",
              "  <thead>\n",
              "    <tr style=\"text-align: right;\">\n",
              "      <th></th>\n",
              "      <th>idNotavenda</th>\n",
              "      <th>idProduto</th>\n",
              "      <th>quantidade</th>\n",
              "      <th>descontounitario</th>\n",
              "      <th>valorunitario</th>\n",
              "      <th>valortotalvenda</th>\n",
              "      <th>datavenda</th>\n",
              "      <th>dataabreviada</th>\n",
              "    </tr>\n",
              "  </thead>\n",
              "  <tbody>\n",
              "    <tr>\n",
              "      <th>0</th>\n",
              "      <td>False</td>\n",
              "      <td>False</td>\n",
              "      <td>False</td>\n",
              "      <td>False</td>\n",
              "      <td>False</td>\n",
              "      <td>False</td>\n",
              "      <td>False</td>\n",
              "      <td>False</td>\n",
              "    </tr>\n",
              "    <tr>\n",
              "      <th>1</th>\n",
              "      <td>False</td>\n",
              "      <td>False</td>\n",
              "      <td>False</td>\n",
              "      <td>False</td>\n",
              "      <td>False</td>\n",
              "      <td>False</td>\n",
              "      <td>False</td>\n",
              "      <td>False</td>\n",
              "    </tr>\n",
              "    <tr>\n",
              "      <th>2</th>\n",
              "      <td>False</td>\n",
              "      <td>False</td>\n",
              "      <td>False</td>\n",
              "      <td>False</td>\n",
              "      <td>False</td>\n",
              "      <td>False</td>\n",
              "      <td>False</td>\n",
              "      <td>False</td>\n",
              "    </tr>\n",
              "    <tr>\n",
              "      <th>3</th>\n",
              "      <td>False</td>\n",
              "      <td>False</td>\n",
              "      <td>False</td>\n",
              "      <td>False</td>\n",
              "      <td>False</td>\n",
              "      <td>False</td>\n",
              "      <td>False</td>\n",
              "      <td>False</td>\n",
              "    </tr>\n",
              "    <tr>\n",
              "      <th>4</th>\n",
              "      <td>False</td>\n",
              "      <td>False</td>\n",
              "      <td>False</td>\n",
              "      <td>False</td>\n",
              "      <td>False</td>\n",
              "      <td>False</td>\n",
              "      <td>False</td>\n",
              "      <td>False</td>\n",
              "    </tr>\n",
              "    <tr>\n",
              "      <th>...</th>\n",
              "      <td>...</td>\n",
              "      <td>...</td>\n",
              "      <td>...</td>\n",
              "      <td>...</td>\n",
              "      <td>...</td>\n",
              "      <td>...</td>\n",
              "      <td>...</td>\n",
              "      <td>...</td>\n",
              "    </tr>\n",
              "    <tr>\n",
              "      <th>353637</th>\n",
              "      <td>False</td>\n",
              "      <td>False</td>\n",
              "      <td>False</td>\n",
              "      <td>False</td>\n",
              "      <td>False</td>\n",
              "      <td>False</td>\n",
              "      <td>False</td>\n",
              "      <td>False</td>\n",
              "    </tr>\n",
              "    <tr>\n",
              "      <th>353638</th>\n",
              "      <td>False</td>\n",
              "      <td>False</td>\n",
              "      <td>False</td>\n",
              "      <td>False</td>\n",
              "      <td>False</td>\n",
              "      <td>False</td>\n",
              "      <td>False</td>\n",
              "      <td>False</td>\n",
              "    </tr>\n",
              "    <tr>\n",
              "      <th>353639</th>\n",
              "      <td>False</td>\n",
              "      <td>False</td>\n",
              "      <td>False</td>\n",
              "      <td>False</td>\n",
              "      <td>False</td>\n",
              "      <td>False</td>\n",
              "      <td>False</td>\n",
              "      <td>False</td>\n",
              "    </tr>\n",
              "    <tr>\n",
              "      <th>353640</th>\n",
              "      <td>False</td>\n",
              "      <td>False</td>\n",
              "      <td>False</td>\n",
              "      <td>False</td>\n",
              "      <td>False</td>\n",
              "      <td>False</td>\n",
              "      <td>False</td>\n",
              "      <td>False</td>\n",
              "    </tr>\n",
              "    <tr>\n",
              "      <th>353641</th>\n",
              "      <td>False</td>\n",
              "      <td>False</td>\n",
              "      <td>False</td>\n",
              "      <td>False</td>\n",
              "      <td>False</td>\n",
              "      <td>False</td>\n",
              "      <td>False</td>\n",
              "      <td>False</td>\n",
              "    </tr>\n",
              "  </tbody>\n",
              "</table>\n",
              "<p>353642 rows × 8 columns</p>\n",
              "</div>"
            ],
            "text/plain": [
              "        idNotavenda  idProduto  ...  datavenda  dataabreviada\n",
              "0             False      False  ...      False          False\n",
              "1             False      False  ...      False          False\n",
              "2             False      False  ...      False          False\n",
              "3             False      False  ...      False          False\n",
              "4             False      False  ...      False          False\n",
              "...             ...        ...  ...        ...            ...\n",
              "353637        False      False  ...      False          False\n",
              "353638        False      False  ...      False          False\n",
              "353639        False      False  ...      False          False\n",
              "353640        False      False  ...      False          False\n",
              "353641        False      False  ...      False          False\n",
              "\n",
              "[353642 rows x 8 columns]"
            ]
          },
          "metadata": {},
          "execution_count": 53
        }
      ]
    },
    {
      "cell_type": "code",
      "metadata": {
        "id": "uOK_gXpLuJJO"
      },
      "source": [
        "#ver o total vendido de um determinado produto em um determinado mes\n",
        "#produtos = dataset.groupby(['idProduto'])\n",
        "\n",
        "\n"
      ],
      "execution_count": null,
      "outputs": []
    },
    {
      "cell_type": "code",
      "metadata": {
        "id": "jTxWUFb-JdCj"
      },
      "source": [
        "fazer o crosstab\n",
        "#df = pd.crosstab(index=df['mes'], columns=df['produto'])\n",
        "levar para o excel"
      ],
      "execution_count": null,
      "outputs": []
    },
    {
      "cell_type": "markdown",
      "metadata": {
        "id": "NwbMWdUyV-vk"
      },
      "source": [
        "\n",
        "\n",
        "```\n",
        "# Isto está formatado como código\n",
        "```\n",
        "\n",
        "# Separar teste e treino"
      ]
    },
    {
      "cell_type": "code",
      "metadata": {
        "id": "b2q6IbfcuHjj"
      },
      "source": [
        ""
      ],
      "execution_count": null,
      "outputs": []
    },
    {
      "cell_type": "code",
      "metadata": {
        "id": "wFLV46FZJytb"
      },
      "source": [
        "#FEITO ATE AQUI!!!!!!!!!!!!!!!!!!!!!!!!!!!!!!"
      ],
      "execution_count": null,
      "outputs": []
    },
    {
      "cell_type": "code",
      "metadata": {
        "id": "_owb4H4DWPJi"
      },
      "source": [
        "# semente para reprodução de resultados\n",
        "seed=10000\n",
        "\n",
        "from sklearn.model_selection import train_test_split\n",
        "X_train, X_test, y_train, y_test = train_test_split(data.loc[:,data.columns != 'class'], data['class'], test_size=0.2, stratify=data['class'], random_state=seed)\n",
        "\n",
        "print('shape input de treino: ', X_train.shape)\n",
        "print('shape input de teste: ', X_test.shape)\n",
        "print('shape output de treino: ', y_train.shape)\n",
        "print('shape output de teste: ', y_test.shape)"
      ],
      "execution_count": null,
      "outputs": []
    },
    {
      "cell_type": "code",
      "metadata": {
        "id": "M-R6irbkVJJ5"
      },
      "source": [
        "# Verificar proporções. amostragem estratificada\n",
        "data['class'].value_counts()"
      ],
      "execution_count": null,
      "outputs": []
    },
    {
      "cell_type": "code",
      "metadata": {
        "id": "3AzKeAlZVQfR"
      },
      "source": [
        "#treino\n",
        "print(0.8 * data['class'].value_counts()[0])\n",
        "print(0.8 * data['class'].value_counts()[1])\n",
        "\n",
        "#test\n",
        "print(0.2 * data['class'].value_counts()[0])\n",
        "print(0.2 * data['class'].value_counts()[1])"
      ],
      "execution_count": null,
      "outputs": []
    },
    {
      "cell_type": "code",
      "metadata": {
        "id": "RQoQY9WVVXmj"
      },
      "source": [
        "y_train.value_counts()"
      ],
      "execution_count": null,
      "outputs": []
    },
    {
      "cell_type": "code",
      "metadata": {
        "id": "wpYwMurhVZ-a"
      },
      "source": [
        "y_test.value_counts()"
      ],
      "execution_count": null,
      "outputs": []
    },
    {
      "cell_type": "code",
      "metadata": {
        "id": "L5asBvo6V1kj"
      },
      "source": [
        ""
      ],
      "execution_count": null,
      "outputs": []
    },
    {
      "cell_type": "markdown",
      "metadata": {
        "id": "89LDF8WzfOPu"
      },
      "source": [
        "###Missing"
      ]
    },
    {
      "cell_type": "code",
      "metadata": {
        "colab": {
          "base_uri": "https://localhost:8080/",
          "height": 322
        },
        "id": "fzivIvxz1B6m",
        "outputId": "69325735-280b-4f4c-ebbc-49c80ad3bf96"
      },
      "source": [
        "# Visualizar missing\n",
        "import missingno as msno\n",
        "msno.matrix(X_train, figsize=(25,5));"
      ],
      "execution_count": null,
      "outputs": [
        {
          "output_type": "display_data",
          "data": {
            "image/png": "[encoded data removed]",
            "text/plain": [
              "<Figure size 1800x360 with 2 Axes>"
            ]
          },
          "metadata": {
            "tags": [],
            "needs_background": "light"
          }
        }
      ]
    },
    {
      "cell_type": "code",
      "metadata": {
        "colab": {
          "base_uri": "https://localhost:8080/",
          "height": 198
        },
        "id": "xFdd14Iarv8Y",
        "outputId": "e1e2cac0-d574-4f9b-d163-51c99cc03261"
      },
      "source": [
        "# Verificar missing por linha\n",
        "percent_missing_rows = X_train.apply(lambda x: x.isnull().sum() * 100 / len(X_train), axis=1).sort_values(ascending=False)\n",
        "df = pd.DataFrame({'row_index': X_train.index, 'percent_missing': percent_missing_rows})\n",
        "df.head()"
      ],
      "execution_count": null,
      "outputs": [
        {
          "output_type": "execute_result",
          "data": {
            "text/html": [
              "<div>\n",
              "<style scoped>\n",
              "    .dataframe tbody tr th:only-of-type {\n",
              "        vertical-align: middle;\n",
              "    }\n",
              "\n",
              "    .dataframe tbody tr th {\n",
              "        vertical-align: top;\n",
              "    }\n",
              "\n",
              "    .dataframe thead th {\n",
              "        text-align: right;\n",
              "    }\n",
              "</style>\n",
              "<table border=\"1\" class=\"dataframe\">\n",
              "  <thead>\n",
              "    <tr style=\"text-align: right;\">\n",
              "      <th></th>\n",
              "      <th>row_index</th>\n",
              "      <th>percent_missing</th>\n",
              "    </tr>\n",
              "  </thead>\n",
              "  <tbody>\n",
              "    <tr>\n",
              "      <th>1566</th>\n",
              "      <td>0</td>\n",
              "      <td>9.700064</td>\n",
              "    </tr>\n",
              "    <tr>\n",
              "      <th>1564</th>\n",
              "      <td>1</td>\n",
              "      <td>9.444799</td>\n",
              "    </tr>\n",
              "    <tr>\n",
              "      <th>1561</th>\n",
              "      <td>2</td>\n",
              "      <td>8.934269</td>\n",
              "    </tr>\n",
              "    <tr>\n",
              "      <th>1152</th>\n",
              "      <td>3</td>\n",
              "      <td>6.381621</td>\n",
              "    </tr>\n",
              "    <tr>\n",
              "      <th>511</th>\n",
              "      <td>4</td>\n",
              "      <td>6.381621</td>\n",
              "    </tr>\n",
              "  </tbody>\n",
              "</table>\n",
              "</div>"
            ],
            "text/plain": [
              "      row_index  percent_missing\n",
              "1566          0         9.700064\n",
              "1564          1         9.444799\n",
              "1561          2         8.934269\n",
              "1152          3         6.381621\n",
              "511           4         6.381621"
            ]
          },
          "metadata": {
            "tags": []
          },
          "execution_count": 8
        }
      ]
    },
    {
      "cell_type": "code",
      "metadata": {
        "colab": {
          "base_uri": "https://localhost:8080/",
          "height": 1000
        },
        "id": "P2S-W0SJr4dN",
        "outputId": "5a15de4f-95be-46a7-bdc9-0ca464aadd42"
      },
      "source": [
        "percent_missing = X_train.apply(lambda x: x.isnull().sum() * 100 / len(X_train), axis=0).sort_values(ascending=False)\n",
        "df = pd.DataFrame({'column_name': X_train.columns, 'percent_missing': percent_missing})\n",
        "df.head(35)"
      ],
      "execution_count": null,
      "outputs": [
        {
          "output_type": "execute_result",
          "data": {
            "text/html": [
              "<div>\n",
              "<style scoped>\n",
              "    .dataframe tbody tr th:only-of-type {\n",
              "        vertical-align: middle;\n",
              "    }\n",
              "\n",
              "    .dataframe tbody tr th {\n",
              "        vertical-align: top;\n",
              "    }\n",
              "\n",
              "    .dataframe thead th {\n",
              "        text-align: right;\n",
              "    }\n",
              "</style>\n",
              "<table border=\"1\" class=\"dataframe\">\n",
              "  <thead>\n",
              "    <tr style=\"text-align: right;\">\n",
              "      <th></th>\n",
              "      <th>column_name</th>\n",
              "      <th>percent_missing</th>\n",
              "    </tr>\n",
              "  </thead>\n",
              "  <tbody>\n",
              "    <tr>\n",
              "      <th>158</th>\n",
              "      <td>0</td>\n",
              "      <td>91.193363</td>\n",
              "    </tr>\n",
              "    <tr>\n",
              "      <th>157</th>\n",
              "      <td>1</td>\n",
              "      <td>91.193363</td>\n",
              "    </tr>\n",
              "    <tr>\n",
              "      <th>292</th>\n",
              "      <td>2</td>\n",
              "      <td>91.193363</td>\n",
              "    </tr>\n",
              "    <tr>\n",
              "      <th>293</th>\n",
              "      <td>3</td>\n",
              "      <td>91.193363</td>\n",
              "    </tr>\n",
              "    <tr>\n",
              "      <th>220</th>\n",
              "      <td>4</td>\n",
              "      <td>85.577537</td>\n",
              "    </tr>\n",
              "    <tr>\n",
              "      <th>492</th>\n",
              "      <td>5</td>\n",
              "      <td>85.577537</td>\n",
              "    </tr>\n",
              "    <tr>\n",
              "      <th>85</th>\n",
              "      <td>6</td>\n",
              "      <td>85.577537</td>\n",
              "    </tr>\n",
              "    <tr>\n",
              "      <th>358</th>\n",
              "      <td>7</td>\n",
              "      <td>85.577537</td>\n",
              "    </tr>\n",
              "    <tr>\n",
              "      <th>245</th>\n",
              "      <td>8</td>\n",
              "      <td>64.964901</td>\n",
              "    </tr>\n",
              "    <tr>\n",
              "      <th>518</th>\n",
              "      <td>9</td>\n",
              "      <td>64.964901</td>\n",
              "    </tr>\n",
              "    <tr>\n",
              "      <th>517</th>\n",
              "      <td>10</td>\n",
              "      <td>64.964901</td>\n",
              "    </tr>\n",
              "    <tr>\n",
              "      <th>516</th>\n",
              "      <td>11</td>\n",
              "      <td>64.964901</td>\n",
              "    </tr>\n",
              "    <tr>\n",
              "      <th>244</th>\n",
              "      <td>12</td>\n",
              "      <td>64.964901</td>\n",
              "    </tr>\n",
              "    <tr>\n",
              "      <th>109</th>\n",
              "      <td>13</td>\n",
              "      <td>64.964901</td>\n",
              "    </tr>\n",
              "    <tr>\n",
              "      <th>110</th>\n",
              "      <td>14</td>\n",
              "      <td>64.964901</td>\n",
              "    </tr>\n",
              "    <tr>\n",
              "      <th>111</th>\n",
              "      <td>15</td>\n",
              "      <td>64.964901</td>\n",
              "    </tr>\n",
              "    <tr>\n",
              "      <th>384</th>\n",
              "      <td>16</td>\n",
              "      <td>64.964901</td>\n",
              "    </tr>\n",
              "    <tr>\n",
              "      <th>383</th>\n",
              "      <td>17</td>\n",
              "      <td>64.964901</td>\n",
              "    </tr>\n",
              "    <tr>\n",
              "      <th>382</th>\n",
              "      <td>18</td>\n",
              "      <td>64.964901</td>\n",
              "    </tr>\n",
              "    <tr>\n",
              "      <th>246</th>\n",
              "      <td>19</td>\n",
              "      <td>64.964901</td>\n",
              "    </tr>\n",
              "    <tr>\n",
              "      <th>578</th>\n",
              "      <td>20</td>\n",
              "      <td>60.561583</td>\n",
              "    </tr>\n",
              "    <tr>\n",
              "      <th>579</th>\n",
              "      <td>21</td>\n",
              "      <td>60.561583</td>\n",
              "    </tr>\n",
              "    <tr>\n",
              "      <th>580</th>\n",
              "      <td>22</td>\n",
              "      <td>60.561583</td>\n",
              "    </tr>\n",
              "    <tr>\n",
              "      <th>581</th>\n",
              "      <td>23</td>\n",
              "      <td>60.561583</td>\n",
              "    </tr>\n",
              "    <tr>\n",
              "      <th>72</th>\n",
              "      <td>24</td>\n",
              "      <td>50.670070</td>\n",
              "    </tr>\n",
              "    <tr>\n",
              "      <th>346</th>\n",
              "      <td>25</td>\n",
              "      <td>50.670070</td>\n",
              "    </tr>\n",
              "    <tr>\n",
              "      <th>345</th>\n",
              "      <td>26</td>\n",
              "      <td>50.670070</td>\n",
              "    </tr>\n",
              "    <tr>\n",
              "      <th>73</th>\n",
              "      <td>27</td>\n",
              "      <td>50.670070</td>\n",
              "    </tr>\n",
              "    <tr>\n",
              "      <th>247</th>\n",
              "      <td>28</td>\n",
              "      <td>45.628590</td>\n",
              "    </tr>\n",
              "    <tr>\n",
              "      <th>519</th>\n",
              "      <td>29</td>\n",
              "      <td>45.628590</td>\n",
              "    </tr>\n",
              "    <tr>\n",
              "      <th>112</th>\n",
              "      <td>30</td>\n",
              "      <td>45.628590</td>\n",
              "    </tr>\n",
              "    <tr>\n",
              "      <th>385</th>\n",
              "      <td>31</td>\n",
              "      <td>45.628590</td>\n",
              "    </tr>\n",
              "    <tr>\n",
              "      <th>566</th>\n",
              "      <td>32</td>\n",
              "      <td>17.421825</td>\n",
              "    </tr>\n",
              "    <tr>\n",
              "      <th>569</th>\n",
              "      <td>33</td>\n",
              "      <td>17.421825</td>\n",
              "    </tr>\n",
              "    <tr>\n",
              "      <th>568</th>\n",
              "      <td>34</td>\n",
              "      <td>17.421825</td>\n",
              "    </tr>\n",
              "  </tbody>\n",
              "</table>\n",
              "</div>"
            ],
            "text/plain": [
              "     column_name  percent_missing\n",
              "158            0        91.193363\n",
              "157            1        91.193363\n",
              "292            2        91.193363\n",
              "293            3        91.193363\n",
              "220            4        85.577537\n",
              "492            5        85.577537\n",
              "85             6        85.577537\n",
              "358            7        85.577537\n",
              "245            8        64.964901\n",
              "518            9        64.964901\n",
              "517           10        64.964901\n",
              "516           11        64.964901\n",
              "244           12        64.964901\n",
              "109           13        64.964901\n",
              "110           14        64.964901\n",
              "111           15        64.964901\n",
              "384           16        64.964901\n",
              "383           17        64.964901\n",
              "382           18        64.964901\n",
              "246           19        64.964901\n",
              "578           20        60.561583\n",
              "579           21        60.561583\n",
              "580           22        60.561583\n",
              "581           23        60.561583\n",
              "72            24        50.670070\n",
              "346           25        50.670070\n",
              "345           26        50.670070\n",
              "73            27        50.670070\n",
              "247           28        45.628590\n",
              "519           29        45.628590\n",
              "112           30        45.628590\n",
              "385           31        45.628590\n",
              "566           32        17.421825\n",
              "569           33        17.421825\n",
              "568           34        17.421825"
            ]
          },
          "metadata": {
            "tags": []
          },
          "execution_count": 9
        }
      ]
    },
    {
      "cell_type": "code",
      "metadata": {
        "colab": {
          "base_uri": "https://localhost:8080/"
        },
        "id": "JPLI2pYpnMXE",
        "outputId": "e7c0e932-bb8d-4476-92c0-168ad9541ee7"
      },
      "source": [
        "# Classe tem missing?\n",
        "y_train.isnull().sum()"
      ],
      "execution_count": null,
      "outputs": [
        {
          "output_type": "execute_result",
          "data": {
            "text/plain": [
              "0"
            ]
          },
          "metadata": {
            "tags": []
          },
          "execution_count": 10
        }
      ]
    },
    {
      "cell_type": "code",
      "metadata": {
        "colab": {
          "base_uri": "https://localhost:8080/"
        },
        "id": "7fpIhrWUmA_M",
        "outputId": "6cb8b67b-dad0-49cc-9868-697c916268ac"
      },
      "source": [
        "# Atributos com muitos missing: serão deletados.\n",
        "att_to_delete = df[0:32].index.values\n",
        "att_to_delete"
      ],
      "execution_count": null,
      "outputs": [
        {
          "output_type": "execute_result",
          "data": {
            "text/plain": [
              "array([158, 157, 292, 293, 220, 492,  85, 358, 245, 518, 517, 516, 244,\n",
              "       109, 110, 111, 384, 383, 382, 246, 578, 579, 580, 581,  72, 346,\n",
              "       345,  73, 247, 519, 112, 385])"
            ]
          },
          "metadata": {
            "tags": []
          },
          "execution_count": 11
        }
      ]
    },
    {
      "cell_type": "code",
      "metadata": {
        "colab": {
          "base_uri": "https://localhost:8080/"
        },
        "id": "LwNC3zgwm6wm",
        "outputId": "c6f2561b-6956-4793-c5d0-6f22a6921e52"
      },
      "source": [
        "# deletar atributos\n",
        "X_train.drop(att_to_delete, axis=1, inplace=True)\n",
        "X_train.shape"
      ],
      "execution_count": null,
      "outputs": [
        {
          "output_type": "execute_result",
          "data": {
            "text/plain": [
              "(1567, 558)"
            ]
          },
          "metadata": {
            "tags": []
          },
          "execution_count": 12
        }
      ]
    },
    {
      "cell_type": "code",
      "metadata": {
        "colab": {
          "base_uri": "https://localhost:8080/",
          "height": 322
        },
        "id": "ZuIRTYaioysb",
        "outputId": "542449dd-d45f-4d45-8ded-ff40ec1a5b89"
      },
      "source": [
        "# visualizar novamente os missing\n",
        "msno.matrix(X_train, figsize=(25,5));"
      ],
      "execution_count": null,
      "outputs": [
        {
          "output_type": "display_data",
          "data": {
            "image/png": "[encoded data removed]",
            "text/plain": [
              "<Figure size 1800x360 with 2 Axes>"
            ]
          },
          "metadata": {
            "tags": [],
            "needs_background": "light"
          }
        }
      ]
    },
    {
      "cell_type": "code",
      "metadata": {
        "id": "-OSmnuiuMK-X"
      },
      "source": [
        "# Imputar dados faltantes\n",
        "from sklearn.impute import SimpleImputer\n",
        "imputer = SimpleImputer(strategy=\"median\")\n",
        "imputer.fit(X_train)\n",
        "X_train = imputer.transform(X_train)"
      ],
      "execution_count": null,
      "outputs": []
    },
    {
      "cell_type": "code",
      "metadata": {
        "colab": {
          "base_uri": "https://localhost:8080/"
        },
        "id": "oCE0jpe5SkF0",
        "outputId": "69b62240-adb6-4835-8245-393ec9390163"
      },
      "source": [
        "# Verificar se temos mais algum missing\n",
        "print(np.isnan(X_train).sum())"
      ],
      "execution_count": null,
      "outputs": [
        {
          "output_type": "stream",
          "text": [
            "0\n"
          ],
          "name": "stdout"
        }
      ]
    },
    {
      "cell_type": "code",
      "metadata": {
        "colab": {
          "base_uri": "https://localhost:8080/",
          "height": 322
        },
        "id": "a-4bFZL2SLiD",
        "outputId": "31703b90-bad5-452a-8e91-ea6ed3de1e93"
      },
      "source": [
        "# visualizar novamente os missing\n",
        "msno.matrix(pd.DataFrame(X_train), figsize=(25,5));"
      ],
      "execution_count": null,
      "outputs": [
        {
          "output_type": "display_data",
          "data": {
            "image/png": "[encoded data removed]",
            "text/plain": [
              "<Figure size 1800x360 with 2 Axes>"
            ]
          },
          "metadata": {
            "tags": [],
            "needs_background": "light"
          }
        }
      ]
    },
    {
      "cell_type": "code",
      "metadata": {
        "id": "GLhlUHJ8MOnG"
      },
      "source": [
        "# remover colunas com variância zero\n",
        "from sklearn.feature_selection import VarianceThreshold\n",
        "zero_var_filter = VarianceThreshold()\n",
        "X_train = zero_var_filter.fit_transform(X_train)"
      ],
      "execution_count": null,
      "outputs": []
    },
    {
      "cell_type": "code",
      "metadata": {
        "colab": {
          "base_uri": "https://localhost:8080/"
        },
        "id": "cONCJomQUEco",
        "outputId": "8fc7e172-6162-46d6-8fcb-7d8f08031088"
      },
      "source": [
        "# colunas com variância zero\n",
        "(zero_var_filter.variances_ == 0).sum()"
      ],
      "execution_count": null,
      "outputs": [
        {
          "output_type": "execute_result",
          "data": {
            "text/plain": [
              "116"
            ]
          },
          "metadata": {
            "tags": []
          },
          "execution_count": 18
        }
      ]
    },
    {
      "cell_type": "code",
      "metadata": {
        "colab": {
          "base_uri": "https://localhost:8080/"
        },
        "id": "NepUcnUFTLRe",
        "outputId": "6df15f25-b983-41d4-bc85-4fee46f46376"
      },
      "source": [
        "# novo shape\n",
        "pd.DataFrame(X_train).shape"
      ],
      "execution_count": null,
      "outputs": [
        {
          "output_type": "execute_result",
          "data": {
            "text/plain": [
              "(1567, 442)"
            ]
          },
          "metadata": {
            "tags": []
          },
          "execution_count": 19
        }
      ]
    }
  ]
}