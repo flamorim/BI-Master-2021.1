{
  "cells": [
    {
      "cell_type": "markdown",
      "source": [
        "Trabalho de RN - Versao Adam\n",
        "\n",
        "Aluno: Flávio Amorim\n",
        "\n",
        "Número: 211100510\n",
        "\n",
        "Turma: 2021.1\n",
        "\n",
        "Ver github para obter versao mais atualizada\n"
      ],
      "metadata": {
        "id": "bLSaGSFtPdrl"
      }
    },
    {
      "cell_type": "markdown",
      "source": [
        "1) **Transfer learning é quando um modelo treinado em um conjunto de dados é utilizado para resolver um novo problema com dados diferentes daqueles que ele foi treinado.**\n"
      ],
      "metadata": {
        "id": "2ltyzv5dgWrY"
      }
    },
    {
      "cell_type": "markdown",
      "source": [
        "2) **Introdução:**\n",
        "\n",
        "\n",
        "\n",
        "*   Modelo recebido como base do trabalho apresentava a seguinte performace:\n",
        "\n",
        "  Loss: 0.08588726818561554      \n",
        "  Accuracy: 0.9749000072479248\n",
        "\n",
        "\n",
        "*   Modelo otimizado, usando otimizador Adam apresentou a seguinte performance:\n",
        "\n",
        "  Loss: 0.04120932146906853\n",
        "  \n",
        "  Accuracy: 0.9932000041007996"
      ],
      "metadata": {
        "id": "DSb3fsvWRuPL"
      }
    },
    {
      "cell_type": "markdown",
      "source": [
        "3) **Melhorias aplicadas ao modelo recebido como base do trabalho:**\n",
        "*   Criado uma estrutira de grid search para avaliar vários hiperparametros\n",
        "*   Acrescentada a camada: layers.Dense(128, activation = 'relu')\n",
        "*   Reduzido o dropout para: layers.Dropout(0.2)\n",
        "*   Introduzida função de learning rate\n",
        "*   Exibido as curvas de loss e acurácia para cada modelo treinado\n",
        "*   Introduzida Funçào callback\n",
        "*   Todos modelos treinamdo são salvos\n",
        "*   Dataframe criado com as informações de hiperparametros e performance de cada modelo treinado\n",
        "*   De acordo com este dataframe acima, o melhor modelo é carregado para uma nova uma predição na base de teste\n",
        "*   Plotado algumas figuras resultantes da predição.\n"
      ],
      "metadata": {
        "id": "deqjVQplPuwF"
      }
    },
    {
      "cell_type": "markdown",
      "source": [
        "**4) Diversos cenários foram testados, mas nesse notebook estão apenas 04 cenários, incluindo o apresentou melhor performace e sem overfitting, que é:**\n",
        "\n",
        "*   40 epochs\n",
        "*   128 de batch size\n",
        "*   0.1 de learning_rate\n",
        "*   0.1 de decay\n",
        "*   10% para validation_split\n",
        "\n",
        "**Foi possível confirmar que o Adam, mesmo utilizando menos épocas, apresentou uma performance melhor do que o SGD.\n",
        "\n",
        "A alteração do drop out para 0.2 representou uma melhora no modelo, embora o aumento do batch size para 256 não.\n",
        "**"
      ],
      "metadata": {
        "id": "AIMFDjhmWlle"
      }
    },
    {
      "cell_type": "markdown",
      "source": [
        "obs: Com a estrutura de grid search, diversos cenários foram testados, mas nesse notebook estão apenas alguns.\n"
      ],
      "metadata": {
        "id": "zkP6phhD-auV"
      }
    },
    {
      "cell_type": "markdown",
      "metadata": {
        "id": "WWW06K5vo-gp"
      },
      "source": [
        "## Setup"
      ]
    },
    {
      "cell_type": "code",
      "execution_count": null,
      "metadata": {
        "id": "bdJWEcPZo-gq"
      },
      "outputs": [],
      "source": [
        "import numpy as np\n",
        "from tensorflow import keras\n",
        "from tensorflow.keras import layers\n",
        "import matplotlib.pyplot as plt\n",
        "import random\n",
        "import time"
      ]
    },
    {
      "cell_type": "code",
      "source": [
        "from tensorflow.keras.optimizers import Adam\n",
        "from keras.callbacks import ModelCheckpoint            # criados os checkpoints"
      ],
      "metadata": {
        "id": "6SS7_84opZ83"
      },
      "execution_count": null,
      "outputs": []
    },
    {
      "cell_type": "code",
      "source": [
        "import tensorflow                                      # trabalhando com tensorflow # 2\n",
        "try:\n",
        "  # %tensorflow_version only exists in Colab.\n",
        "  %tensorflow_version 2.x\n",
        "except Exception:\n",
        "  pass\n",
        "print(\"TensorFlow version:\", tensorflow.__version__)"
      ],
      "metadata": {
        "colab": {
          "base_uri": "https://localhost:8080/"
        },
        "id": "Gg9LZ91LjFEl",
        "outputId": "f24f1860-b100-4653-91d4-9299d75cf884"
      },
      "execution_count": null,
      "outputs": [
        {
          "output_type": "stream",
          "name": "stdout",
          "text": [
            "TensorFlow version: 2.8.0\n"
          ]
        }
      ]
    },
    {
      "cell_type": "markdown",
      "metadata": {
        "id": "oQVX9L1No-gt"
      },
      "source": [
        "## Prepare the data"
      ]
    },
    {
      "cell_type": "code",
      "execution_count": null,
      "metadata": {
        "id": "BTbXu9AvBplI",
        "colab": {
          "base_uri": "https://localhost:8080/"
        },
        "outputId": "07bf97f8-0ce2-49dc-b6d6-8ed10c572ea0"
      },
      "outputs": [
        {
          "output_type": "stream",
          "name": "stdout",
          "text": [
            "(60000, 28, 28) (60000,) (10000, 28, 28) (10000,)\n"
          ]
        }
      ],
      "source": [
        "# leitura dos dados\n",
        "(x_train, y_train), (x_test, y_test) = keras.datasets.mnist.load_data()\n",
        "\n",
        "# verificando o formato\n",
        "print(x_train.shape,y_train.shape,x_test.shape,y_test.shape)"
      ]
    },
    {
      "cell_type": "code",
      "execution_count": null,
      "metadata": {
        "id": "vvmu1rx4Pr5v"
      },
      "outputs": [],
      "source": [
        "# criando um vetor com o nome das 10 classes\n",
        "class_names = ['Zero','Um', 'Dois', 'Tres', 'Quatro', 'Cinco', \n",
        "               'Seis', 'Sete', 'Oito', 'Nove', 'Dez']"
      ]
    },
    {
      "cell_type": "code",
      "source": [
        "### salvando o label em sua versao original antes de qualquer tratamento\n",
        "y_test_clean = y_test"
      ],
      "metadata": {
        "id": "VJJFFAS3M3DD"
      },
      "execution_count": null,
      "outputs": []
    },
    {
      "cell_type": "markdown",
      "metadata": {
        "id": "Sso2d0wRGJfP"
      },
      "source": [
        "# Data Visualization"
      ]
    },
    {
      "cell_type": "code",
      "execution_count": null,
      "metadata": {
        "colab": {
          "base_uri": "https://localhost:8080/"
        },
        "id": "khKThdbYGV7-",
        "outputId": "e2eded39-fd3f-403a-cebe-34a2d5fe32ec"
      },
      "outputs": [
        {
          "output_type": "display_data",
          "data": {
            "text/plain": [
              "<Figure size 1080x1080 with 15 Axes>"
            ],
            "image/png": "[encoded data removed]"
          },
          "metadata": {}
        }
      ],
      "source": [
        "# exibido randomicamente 15 imagens\n",
        "# dados de treinamento\n",
        "\n",
        "plt.figure(figsize=(15, 15))\n",
        "for i in range(15):\n",
        "    plt.subplot(1, 15, i + 1)\n",
        "    #plt.subplot(6, 6, i + 1)\n",
        "    plt.xticks([])\n",
        "    plt.yticks([])\n",
        "    plt.grid(False)\n",
        "    j = random.randint(1, len(x_train))\n",
        "    plt.imshow(x_train[j].reshape((28,28)))\n",
        "    label_index = int(y_train[j])\n",
        "    plt.title(class_names[label_index])\n",
        "plt.show()"
      ]
    },
    {
      "cell_type": "code",
      "execution_count": null,
      "metadata": {
        "colab": {
          "base_uri": "https://localhost:8080/"
        },
        "id": "VCZPkGXvKoYe",
        "outputId": "1e6b74a9-2208-4af9-b0aa-d66453ec822b"
      },
      "outputs": [
        {
          "output_type": "display_data",
          "data": {
            "text/plain": [
              "<Figure size 1080x1080 with 15 Axes>"
            ],
            "image/png": "[encoded data removed]"
          },
          "metadata": {}
        }
      ],
      "source": [
        "# exibido randomicamente 15 imagens\n",
        "# dados de teste\n",
        "\n",
        "plt.figure(figsize=(15, 15))\n",
        "for i in range(15):\n",
        "    plt.subplot(1, 15, i + 1)\n",
        "    plt.xticks([])\n",
        "    plt.yticks([])\n",
        "    plt.grid(False)\n",
        "    j = random.randint(1, len(x_test))\n",
        "    plt.imshow(x_test[j].reshape((28,28)))\n",
        "    label_index = int(y_test[j])\n",
        "    plt.title(class_names[label_index])\n",
        "plt.show()"
      ]
    },
    {
      "cell_type": "markdown",
      "metadata": {
        "id": "NRn-mbKmGW3Q"
      },
      "source": [
        "# Pre-processamento"
      ]
    },
    {
      "cell_type": "code",
      "execution_count": null,
      "metadata": {
        "colab": {
          "base_uri": "https://localhost:8080/"
        },
        "id": "dXbB_b-ko-gt",
        "outputId": "5062da4e-8a78-411a-b674-8464fd314668"
      },
      "outputs": [
        {
          "output_type": "stream",
          "name": "stdout",
          "text": [
            "x_train shape: (60000, 28, 28, 1)\n",
            "60000 train samples\n",
            "10000 test samples\n"
          ]
        }
      ],
      "source": [
        "# Model / data parameters\n",
        "num_classes = 10\n",
        "input_shape = (28, 28, 1)               # imagens de 28 x 28 e profundidade 1 \n",
        "\n",
        "\n",
        "# Scale images to the [0, 1] range      \n",
        "x_train = x_train.astype(\"float32\") / 255    # transformando para float e normalizando\n",
        "x_test = x_test.astype(\"float32\") / 255\n",
        "# Make sure images have shape (28, 28, 1)\n",
        "x_train = np.expand_dims(x_train, -1)\n",
        "x_test = np.expand_dims(x_test, -1)\n",
        "print(\"x_train shape:\", x_train.shape)\n",
        "print(x_train.shape[0], \"train samples\")\n",
        "print(x_test.shape[0], \"test samples\")"
      ]
    },
    {
      "cell_type": "code",
      "execution_count": null,
      "metadata": {
        "colab": {
          "base_uri": "https://localhost:8080/"
        },
        "id": "WgjdKK5KP5PY",
        "outputId": "d8aacf40-fd79-4113-bc76-c4ada35e50e1"
      },
      "outputs": [
        {
          "output_type": "stream",
          "name": "stdout",
          "text": [
            "(60000, 10) (10000, 10)\n"
          ]
        }
      ],
      "source": [
        "# convert class vectors (labels) to binary class matrices (dim = 10 classes)\n",
        "y_train = keras.utils.to_categorical(y_train, num_classes)\n",
        "y_test = keras.utils.to_categorical(y_test, num_classes)\n",
        "print(y_train.shape,y_test.shape)\n"
      ]
    },
    {
      "cell_type": "markdown",
      "metadata": {
        "id": "JcQKPL1xdA9a"
      },
      "source": [
        "# Funcoes auxiliares"
      ]
    },
    {
      "cell_type": "code",
      "execution_count": null,
      "metadata": {
        "id": "gocOG6a6ScwA"
      },
      "outputs": [],
      "source": [
        "# create a list of configs to try\n",
        "def model_configs():\n",
        "  # define scope of configs\n",
        "  n_batch_size = [128,256]                      # foram feitos testes com 128 e 256\n",
        "  n_epochs = [40,30]                            # foram feitos testes com 15, 25, 50, 60, 75 e 100\n",
        "  n_validation_split = [0.1]                    # foram feitos testes com 0.1, 0.15, 0.2 e 0.3\n",
        "  configs = list()                              # criado a lista com as combinações dos hiperparâmetros\n",
        "  for i in n_batch_size:\n",
        "    for j in n_epochs:\n",
        "      for k in n_validation_split:\n",
        "        cfg = [i, j, k]\n",
        "        configs.append(cfg)\n",
        "  print('Total configs: %d' % len(configs))\n",
        "  return configs\n"
      ]
    },
    {
      "cell_type": "code",
      "source": [
        "# plota a curva de loss e acurácia para teste e validação\n",
        "def plota_figuras(history):\n",
        "  fig = plt.figure(figsize=(10, 10))\n",
        "  \n",
        "  plt.subplot(2, 2, 1)\n",
        "  plt.plot(history.history['loss'], label='Train Loss')\n",
        "  plt.plot(history.history['val_loss'], label='Validation Loss')\n",
        "  plt.legend()\n",
        "  plt.title('Loss Function')\n",
        "\n",
        "  plt.subplot(2, 2, 2)\n",
        "  plt.plot(history.history['accuracy'], label='Train Accuracy')\n",
        "  plt.plot(history.history['val_accuracy'], label='Validation Accuracy')\n",
        "  plt.legend()\n",
        "  plt.title('Accuracy')\n",
        "  fig.savefig(\"fig01.png\")"
      ],
      "metadata": {
        "id": "J2Gkn2G2xDSy"
      },
      "execution_count": null,
      "outputs": []
    },
    {
      "cell_type": "markdown",
      "source": [
        "# Funcoes principais\n",
        "\n",
        "Criada uma estrutura de grid search para executar vários treinamentos com diferentes modelos"
      ],
      "metadata": {
        "id": "-SiKjziK7uzw"
      }
    },
    {
      "cell_type": "code",
      "execution_count": null,
      "metadata": {
        "id": "aYcbldl9cIdy"
      },
      "outputs": [],
      "source": [
        "# cria o modelo, o otimizador, compila e faz o fit\n",
        "def modelfit(cfg):\n",
        "  #print(cfg)\n",
        "  (n_batch_size, n_epochs, n_validation_split) = cfg\n",
        "\n",
        "  model = keras.Sequential(\n",
        "    [\n",
        "      keras.Input(shape=input_shape),\n",
        "      layers.Conv2D(32, kernel_size=(3, 3), activation=\"relu\"),\n",
        "      layers.MaxPooling2D(pool_size=(2, 2)),\n",
        "      layers.Conv2D(64, kernel_size=(3, 3), activation=\"relu\"),\n",
        "      layers.MaxPooling2D(pool_size=(2, 2)),\n",
        "      layers.Flatten(),\n",
        "      layers.Dense(128, activation = 'relu'),\n",
        "      layers.Dropout(0.2),\n",
        "      layers.Dense(num_classes, activation=\"softmax\"),\n",
        "    ]\n",
        "  )\n",
        "\n",
        "  model.summary()\n",
        "\n",
        "  adam = Adam(learning_rate=0.01, decay=0.01) \n",
        "  model.compile(loss=\"categorical_crossentropy\", optimizer=\"adam\", metrics=[\"accuracy\"])\n",
        "\n",
        "  filepath = \"checkpoint-{epoch}.h5\"\n",
        "  checkpoint = ModelCheckpoint(filepath, monitor='loss', verbose=1, save_best_only=True, mode='min')\n",
        "  callbacks_list = [checkpoint]\n",
        "\n",
        "  history = model.fit(x_train, y_train, batch_size=n_batch_size, epochs=n_epochs, validation_split=n_validation_split, callbacks=callbacks_list ) \n",
        "\n",
        "  return(history,model)"
      ]
    },
    {
      "cell_type": "code",
      "source": [
        "# chama a funcao que cria o modelo e executa o fit\n",
        "# executa o evaluate e depois salva o modelo\n",
        "# exibe na tela os scores\n",
        "def fit_evaluate_model(cfg,id_modelo):\n",
        "\n",
        "  start = time.time()\n",
        "\n",
        "  print('-------------------------new hiperparameter iteration---------------------------------------------')\n",
        "  history,model = modelfit(cfg)\n",
        "\n",
        "  end = time.time()\n",
        "  plota_figuras(history)\n",
        "  score = model.evaluate(x_test, y_test, verbose=0)\n",
        "  print('\\nSummary:')\n",
        "  print('\\nModelo: ',str(cfg))\n",
        "  print('\\nTime to Fit: ', end - start)\n",
        "  print(\"Test loss:\", score[0])\n",
        "  print(\"Test accuracy:\", score[1])\n",
        "  print(\"Score:\", score)\n",
        "  filepath = f\"model-{id_modelo}.h5\"\n",
        "  print(\"Salvando o modelo: \",filepath)\n",
        "  model.save(filepath,overwrite=True,include_optimizer=True)  # creates a HDF5 file 'my_model.h5'\n",
        "  print('\\n\\n\\n')\n",
        "  return (score[0],score[1])"
      ],
      "metadata": {
        "id": "ND0nDUlL5_nh"
      },
      "execution_count": null,
      "outputs": []
    },
    {
      "cell_type": "code",
      "source": [
        "# executa o processamento para cada elemento da lista de hiperparametros\n",
        "# retorna uma lista com os scores de cada modelo criado\n",
        "def grid_search(cfg_list):\n",
        "  scores = [fit_evaluate_model(cfg,id_modelo) for id_modelo,cfg in enumerate(cfg_list)]  # função executada para cada elemento da lista de hiperparâmetros\n",
        "  return scores"
      ],
      "metadata": {
        "id": "kGrctGeq6KAd"
      },
      "execution_count": null,
      "outputs": []
    },
    {
      "cell_type": "markdown",
      "metadata": {
        "id": "psNYcdBrdqa3"
      },
      "source": [
        "# MAIN"
      ]
    },
    {
      "cell_type": "code",
      "execution_count": null,
      "metadata": {
        "colab": {
          "base_uri": "https://localhost:8080/"
        },
        "id": "VrQYLZhVdqAG",
        "outputId": "df99aa73-6dd8-42f7-dd63-09ad28df0183"
      },
      "outputs": [
        {
          "output_type": "stream",
          "name": "stdout",
          "text": [
            "Total configs: 4\n",
            "Configs: \n",
            " [[128, 40, 0.1], [128, 30, 0.1], [256, 40, 0.1], [256, 30, 0.1]]\n"
          ]
        }
      ],
      "source": [
        "cfg_list = model_configs()\n",
        "print('Configs: \\n',cfg_list)"
      ]
    },
    {
      "cell_type": "code",
      "execution_count": null,
      "metadata": {
        "colab": {
          "base_uri": "https://localhost:8080/",
          "height": 1000
        },
        "id": "yAjFlI_4T-tf",
        "outputId": "9640f243-1add-465e-fef1-3d1a9b7bc1e5"
      },
      "outputs": [
        {
          "output_type": "stream",
          "name": "stdout",
          "text": [
            "-------------------------new hiperparameter iteration---------------------------------------------\n",
            "Model: \"sequential_4\"\n",
            "_________________________________________________________________\n",
            " Layer (type)                Output Shape              Param #   \n",
            "=================================================================\n",
            " conv2d_8 (Conv2D)           (None, 26, 26, 32)        320       \n",
            "                                                                 \n",
            " max_pooling2d_8 (MaxPooling  (None, 13, 13, 32)       0         \n",
            " 2D)                                                             \n",
            "                                                                 \n",
            " conv2d_9 (Conv2D)           (None, 11, 11, 64)        18496     \n",
            "                                                                 \n",
            " max_pooling2d_9 (MaxPooling  (None, 5, 5, 64)         0         \n",
            " 2D)                                                             \n",
            "                                                                 \n",
            " flatten_4 (Flatten)         (None, 1600)              0         \n",
            "                                                                 \n",
            " dense_8 (Dense)             (None, 128)               204928    \n",
            "                                                                 \n",
            " dropout_4 (Dropout)         (None, 128)               0         \n",
            "                                                                 \n",
            " dense_9 (Dense)             (None, 10)                1290      \n",
            "                                                                 \n",
            "=================================================================\n",
            "Total params: 225,034\n",
            "Trainable params: 225,034\n",
            "Non-trainable params: 0\n",
            "_________________________________________________________________\n",
            "Epoch 1/40\n",
            "422/422 [==============================] - ETA: 0s - loss: 0.2604 - accuracy: 0.9216\n",
            "Epoch 1: loss improved from inf to 0.26040, saving model to checkpoint-1.h5\n",
            "422/422 [==============================] - 53s 125ms/step - loss: 0.2604 - accuracy: 0.9216 - val_loss: 0.0576 - val_accuracy: 0.9848\n",
            "Epoch 2/40\n",
            "422/422 [==============================] - ETA: 0s - loss: 0.0673 - accuracy: 0.9795\n",
            "Epoch 2: loss improved from 0.26040 to 0.06729, saving model to checkpoint-2.h5\n",
            "422/422 [==============================] - 42s 100ms/step - loss: 0.0673 - accuracy: 0.9795 - val_loss: 0.0459 - val_accuracy: 0.9877\n",
            "Epoch 3/40\n",
            "422/422 [==============================] - ETA: 0s - loss: 0.0490 - accuracy: 0.9851\n",
            "Epoch 3: loss improved from 0.06729 to 0.04900, saving model to checkpoint-3.h5\n",
            "422/422 [==============================] - 43s 101ms/step - loss: 0.0490 - accuracy: 0.9851 - val_loss: 0.0389 - val_accuracy: 0.9893\n",
            "Epoch 4/40\n",
            "422/422 [==============================] - ETA: 0s - loss: 0.0375 - accuracy: 0.9881\n",
            "Epoch 4: loss improved from 0.04900 to 0.03750, saving model to checkpoint-4.h5\n",
            "422/422 [==============================] - 42s 98ms/step - loss: 0.0375 - accuracy: 0.9881 - val_loss: 0.0410 - val_accuracy: 0.9893\n",
            "Epoch 5/40\n",
            "422/422 [==============================] - ETA: 0s - loss: 0.0310 - accuracy: 0.9905\n",
            "Epoch 5: loss improved from 0.03750 to 0.03102, saving model to checkpoint-5.h5\n",
            "422/422 [==============================] - 41s 98ms/step - loss: 0.0310 - accuracy: 0.9905 - val_loss: 0.0368 - val_accuracy: 0.9897\n",
            "Epoch 6/40\n",
            "422/422 [==============================] - ETA: 0s - loss: 0.0262 - accuracy: 0.9916\n",
            "Epoch 6: loss improved from 0.03102 to 0.02617, saving model to checkpoint-6.h5\n",
            "422/422 [==============================] - 42s 99ms/step - loss: 0.0262 - accuracy: 0.9916 - val_loss: 0.0332 - val_accuracy: 0.9905\n",
            "Epoch 7/40\n",
            "422/422 [==============================] - ETA: 0s - loss: 0.0224 - accuracy: 0.9929\n",
            "Epoch 7: loss improved from 0.02617 to 0.02236, saving model to checkpoint-7.h5\n",
            "422/422 [==============================] - 42s 99ms/step - loss: 0.0224 - accuracy: 0.9929 - val_loss: 0.0299 - val_accuracy: 0.9922\n",
            "Epoch 8/40\n",
            "422/422 [==============================] - ETA: 0s - loss: 0.0183 - accuracy: 0.9943\n",
            "Epoch 8: loss improved from 0.02236 to 0.01828, saving model to checkpoint-8.h5\n",
            "422/422 [==============================] - 42s 98ms/step - loss: 0.0183 - accuracy: 0.9943 - val_loss: 0.0318 - val_accuracy: 0.9917\n",
            "Epoch 9/40\n",
            "422/422 [==============================] - ETA: 0s - loss: 0.0164 - accuracy: 0.9945\n",
            "Epoch 9: loss improved from 0.01828 to 0.01638, saving model to checkpoint-9.h5\n",
            "422/422 [==============================] - 41s 98ms/step - loss: 0.0164 - accuracy: 0.9945 - val_loss: 0.0357 - val_accuracy: 0.9915\n",
            "Epoch 10/40\n",
            "422/422 [==============================] - ETA: 0s - loss: 0.0139 - accuracy: 0.9953\n",
            "Epoch 10: loss improved from 0.01638 to 0.01387, saving model to checkpoint-10.h5\n",
            "422/422 [==============================] - 41s 98ms/step - loss: 0.0139 - accuracy: 0.9953 - val_loss: 0.0320 - val_accuracy: 0.9915\n",
            "Epoch 11/40\n",
            "422/422 [==============================] - ETA: 0s - loss: 0.0120 - accuracy: 0.9958\n",
            "Epoch 11: loss improved from 0.01387 to 0.01203, saving model to checkpoint-11.h5\n",
            "422/422 [==============================] - 42s 99ms/step - loss: 0.0120 - accuracy: 0.9958 - val_loss: 0.0349 - val_accuracy: 0.9917\n",
            "Epoch 12/40\n",
            "422/422 [==============================] - ETA: 0s - loss: 0.0116 - accuracy: 0.9960\n",
            "Epoch 12: loss improved from 0.01203 to 0.01162, saving model to checkpoint-12.h5\n",
            "422/422 [==============================] - 42s 99ms/step - loss: 0.0116 - accuracy: 0.9960 - val_loss: 0.0348 - val_accuracy: 0.9920\n",
            "Epoch 13/40\n",
            "422/422 [==============================] - ETA: 0s - loss: 0.0098 - accuracy: 0.9965\n",
            "Epoch 13: loss improved from 0.01162 to 0.00984, saving model to checkpoint-13.h5\n",
            "422/422 [==============================] - 41s 98ms/step - loss: 0.0098 - accuracy: 0.9965 - val_loss: 0.0371 - val_accuracy: 0.9932\n",
            "Epoch 14/40\n",
            "422/422 [==============================] - ETA: 0s - loss: 0.0097 - accuracy: 0.9969\n",
            "Epoch 14: loss improved from 0.00984 to 0.00966, saving model to checkpoint-14.h5\n",
            "422/422 [==============================] - 41s 98ms/step - loss: 0.0097 - accuracy: 0.9969 - val_loss: 0.0329 - val_accuracy: 0.9918\n",
            "Epoch 15/40\n",
            "422/422 [==============================] - ETA: 0s - loss: 0.0087 - accuracy: 0.9973\n",
            "Epoch 15: loss improved from 0.00966 to 0.00866, saving model to checkpoint-15.h5\n",
            "422/422 [==============================] - 42s 99ms/step - loss: 0.0087 - accuracy: 0.9973 - val_loss: 0.0305 - val_accuracy: 0.9922\n",
            "Epoch 16/40\n",
            "422/422 [==============================] - ETA: 0s - loss: 0.0067 - accuracy: 0.9975\n",
            "Epoch 16: loss improved from 0.00866 to 0.00674, saving model to checkpoint-16.h5\n",
            "422/422 [==============================] - 41s 98ms/step - loss: 0.0067 - accuracy: 0.9975 - val_loss: 0.0364 - val_accuracy: 0.9917\n",
            "Epoch 17/40\n",
            "422/422 [==============================] - ETA: 0s - loss: 0.0073 - accuracy: 0.9976\n",
            "Epoch 17: loss did not improve from 0.00674\n",
            "422/422 [==============================] - 41s 98ms/step - loss: 0.0073 - accuracy: 0.9976 - val_loss: 0.0330 - val_accuracy: 0.9930\n",
            "Epoch 18/40\n",
            "422/422 [==============================] - ETA: 0s - loss: 0.0068 - accuracy: 0.9976\n",
            "Epoch 18: loss did not improve from 0.00674\n",
            "422/422 [==============================] - 41s 98ms/step - loss: 0.0068 - accuracy: 0.9976 - val_loss: 0.0364 - val_accuracy: 0.9908\n",
            "Epoch 19/40\n",
            "422/422 [==============================] - ETA: 0s - loss: 0.0062 - accuracy: 0.9979\n",
            "Epoch 19: loss improved from 0.00674 to 0.00620, saving model to checkpoint-19.h5\n",
            "422/422 [==============================] - 41s 98ms/step - loss: 0.0062 - accuracy: 0.9979 - val_loss: 0.0418 - val_accuracy: 0.9918\n",
            "Epoch 20/40\n",
            "422/422 [==============================] - ETA: 0s - loss: 0.0062 - accuracy: 0.9978\n",
            "Epoch 20: loss improved from 0.00620 to 0.00615, saving model to checkpoint-20.h5\n",
            "422/422 [==============================] - 41s 98ms/step - loss: 0.0062 - accuracy: 0.9978 - val_loss: 0.0396 - val_accuracy: 0.9922\n",
            "Epoch 21/40\n",
            "422/422 [==============================] - ETA: 0s - loss: 0.0059 - accuracy: 0.9979\n",
            "Epoch 21: loss improved from 0.00615 to 0.00592, saving model to checkpoint-21.h5\n",
            "422/422 [==============================] - 41s 98ms/step - loss: 0.0059 - accuracy: 0.9979 - val_loss: 0.0386 - val_accuracy: 0.9923\n",
            "Epoch 22/40\n",
            "422/422 [==============================] - ETA: 0s - loss: 0.0056 - accuracy: 0.9981\n",
            "Epoch 22: loss improved from 0.00592 to 0.00563, saving model to checkpoint-22.h5\n",
            "422/422 [==============================] - 41s 98ms/step - loss: 0.0056 - accuracy: 0.9981 - val_loss: 0.0423 - val_accuracy: 0.9920\n",
            "Epoch 23/40\n",
            "422/422 [==============================] - ETA: 0s - loss: 0.0043 - accuracy: 0.9984\n",
            "Epoch 23: loss improved from 0.00563 to 0.00428, saving model to checkpoint-23.h5\n",
            "422/422 [==============================] - 41s 98ms/step - loss: 0.0043 - accuracy: 0.9984 - val_loss: 0.0382 - val_accuracy: 0.9923\n",
            "Epoch 24/40\n",
            "422/422 [==============================] - ETA: 0s - loss: 0.0043 - accuracy: 0.9986\n",
            "Epoch 24: loss did not improve from 0.00428\n",
            "422/422 [==============================] - 41s 98ms/step - loss: 0.0043 - accuracy: 0.9986 - val_loss: 0.0411 - val_accuracy: 0.9920\n",
            "Epoch 25/40\n",
            "422/422 [==============================] - ETA: 0s - loss: 0.0050 - accuracy: 0.9982\n",
            "Epoch 25: loss did not improve from 0.00428\n",
            "422/422 [==============================] - 41s 97ms/step - loss: 0.0050 - accuracy: 0.9982 - val_loss: 0.0403 - val_accuracy: 0.9917\n",
            "Epoch 26/40\n",
            "422/422 [==============================] - ETA: 0s - loss: 0.0044 - accuracy: 0.9986\n",
            "Epoch 26: loss did not improve from 0.00428\n",
            "422/422 [==============================] - 41s 97ms/step - loss: 0.0044 - accuracy: 0.9986 - val_loss: 0.0416 - val_accuracy: 0.9927\n",
            "Epoch 27/40\n",
            "422/422 [==============================] - ETA: 0s - loss: 0.0050 - accuracy: 0.9982\n",
            "Epoch 27: loss did not improve from 0.00428\n",
            "422/422 [==============================] - 41s 98ms/step - loss: 0.0050 - accuracy: 0.9982 - val_loss: 0.0518 - val_accuracy: 0.9915\n",
            "Epoch 28/40\n",
            "422/422 [==============================] - ETA: 0s - loss: 0.0044 - accuracy: 0.9985\n",
            "Epoch 28: loss did not improve from 0.00428\n",
            "422/422 [==============================] - 41s 98ms/step - loss: 0.0044 - accuracy: 0.9985 - val_loss: 0.0606 - val_accuracy: 0.9895\n",
            "Epoch 29/40\n",
            "422/422 [==============================] - ETA: 0s - loss: 0.0043 - accuracy: 0.9986\n",
            "Epoch 29: loss improved from 0.00428 to 0.00427, saving model to checkpoint-29.h5\n",
            "422/422 [==============================] - 41s 97ms/step - loss: 0.0043 - accuracy: 0.9986 - val_loss: 0.0423 - val_accuracy: 0.9922\n",
            "Epoch 30/40\n",
            "422/422 [==============================] - ETA: 0s - loss: 0.0033 - accuracy: 0.9990\n",
            "Epoch 30: loss improved from 0.00427 to 0.00326, saving model to checkpoint-30.h5\n",
            "422/422 [==============================] - 41s 97ms/step - loss: 0.0033 - accuracy: 0.9990 - val_loss: 0.0444 - val_accuracy: 0.9920\n",
            "Epoch 31/40\n",
            "422/422 [==============================] - ETA: 0s - loss: 0.0028 - accuracy: 0.9991\n",
            "Epoch 31: loss improved from 0.00326 to 0.00278, saving model to checkpoint-31.h5\n",
            "422/422 [==============================] - 41s 98ms/step - loss: 0.0028 - accuracy: 0.9991 - val_loss: 0.0445 - val_accuracy: 0.9917\n",
            "Epoch 32/40\n",
            "422/422 [==============================] - ETA: 0s - loss: 0.0032 - accuracy: 0.9990\n",
            "Epoch 32: loss did not improve from 0.00278\n",
            "422/422 [==============================] - 41s 98ms/step - loss: 0.0032 - accuracy: 0.9990 - val_loss: 0.0499 - val_accuracy: 0.9915\n",
            "Epoch 33/40\n",
            "422/422 [==============================] - ETA: 0s - loss: 0.0043 - accuracy: 0.9983\n",
            "Epoch 33: loss did not improve from 0.00278\n",
            "422/422 [==============================] - 41s 98ms/step - loss: 0.0043 - accuracy: 0.9983 - val_loss: 0.0450 - val_accuracy: 0.9918\n",
            "Epoch 34/40\n",
            "422/422 [==============================] - ETA: 0s - loss: 0.0032 - accuracy: 0.9990\n",
            "Epoch 34: loss did not improve from 0.00278\n",
            "422/422 [==============================] - 41s 98ms/step - loss: 0.0032 - accuracy: 0.9990 - val_loss: 0.0494 - val_accuracy: 0.9918\n",
            "Epoch 35/40\n",
            "422/422 [==============================] - ETA: 0s - loss: 0.0025 - accuracy: 0.9991\n",
            "Epoch 35: loss improved from 0.00278 to 0.00248, saving model to checkpoint-35.h5\n",
            "422/422 [==============================] - 41s 98ms/step - loss: 0.0025 - accuracy: 0.9991 - val_loss: 0.0526 - val_accuracy: 0.9920\n",
            "Epoch 36/40\n",
            "422/422 [==============================] - ETA: 0s - loss: 0.0035 - accuracy: 0.9989\n",
            "Epoch 36: loss did not improve from 0.00248\n",
            "422/422 [==============================] - 41s 98ms/step - loss: 0.0035 - accuracy: 0.9989 - val_loss: 0.0521 - val_accuracy: 0.9933\n",
            "Epoch 37/40\n",
            "422/422 [==============================] - ETA: 0s - loss: 0.0039 - accuracy: 0.9986\n",
            "Epoch 37: loss did not improve from 0.00248\n",
            "422/422 [==============================] - 41s 98ms/step - loss: 0.0039 - accuracy: 0.9986 - val_loss: 0.0528 - val_accuracy: 0.9928\n",
            "Epoch 38/40\n",
            "422/422 [==============================] - ETA: 0s - loss: 0.0031 - accuracy: 0.9988\n",
            "Epoch 38: loss did not improve from 0.00248\n",
            "422/422 [==============================] - 41s 98ms/step - loss: 0.0031 - accuracy: 0.9988 - val_loss: 0.0488 - val_accuracy: 0.9923\n",
            "Epoch 39/40\n",
            "422/422 [==============================] - ETA: 0s - loss: 0.0027 - accuracy: 0.9990\n",
            "Epoch 39: loss did not improve from 0.00248\n",
            "422/422 [==============================] - 41s 98ms/step - loss: 0.0027 - accuracy: 0.9990 - val_loss: 0.0525 - val_accuracy: 0.9917\n",
            "Epoch 40/40\n",
            "422/422 [==============================] - ETA: 0s - loss: 0.0019 - accuracy: 0.9994\n",
            "Epoch 40: loss improved from 0.00248 to 0.00186, saving model to checkpoint-40.h5\n",
            "422/422 [==============================] - 41s 98ms/step - loss: 0.0019 - accuracy: 0.9994 - val_loss: 0.0623 - val_accuracy: 0.9915\n",
            "\n",
            "Summary:\n",
            "\n",
            "Modelo:  [128, 40, 0.1]\n",
            "\n",
            "Time to Fit:  1702.6476466655731\n",
            "Test loss: 0.04120932146906853\n",
            "Test accuracy: 0.9932000041007996\n",
            "Score: [0.04120932146906853, 0.9932000041007996]\n",
            "Salvando o modelo:  model-0.h5\n",
            "\n",
            "\n",
            "\n",
            "\n",
            "-------------------------new hiperparameter iteration---------------------------------------------\n",
            "Model: \"sequential_5\"\n",
            "_________________________________________________________________\n",
            " Layer (type)                Output Shape              Param #   \n",
            "=================================================================\n",
            " conv2d_10 (Conv2D)          (None, 26, 26, 32)        320       \n",
            "                                                                 \n",
            " max_pooling2d_10 (MaxPoolin  (None, 13, 13, 32)       0         \n",
            " g2D)                                                            \n",
            "                                                                 \n",
            " conv2d_11 (Conv2D)          (None, 11, 11, 64)        18496     \n",
            "                                                                 \n",
            " max_pooling2d_11 (MaxPoolin  (None, 5, 5, 64)         0         \n",
            " g2D)                                                            \n",
            "                                                                 \n",
            " flatten_5 (Flatten)         (None, 1600)              0         \n",
            "                                                                 \n",
            " dense_10 (Dense)            (None, 128)               204928    \n",
            "                                                                 \n",
            " dropout_5 (Dropout)         (None, 128)               0         \n",
            "                                                                 \n",
            " dense_11 (Dense)            (None, 10)                1290      \n",
            "                                                                 \n",
            "=================================================================\n",
            "Total params: 225,034\n",
            "Trainable params: 225,034\n",
            "Non-trainable params: 0\n",
            "_________________________________________________________________\n",
            "Epoch 1/30\n",
            "422/422 [==============================] - ETA: 0s - loss: 0.2626 - accuracy: 0.9209\n",
            "Epoch 1: loss improved from inf to 0.26264, saving model to checkpoint-1.h5\n",
            "422/422 [==============================] - 43s 100ms/step - loss: 0.2626 - accuracy: 0.9209 - val_loss: 0.0552 - val_accuracy: 0.9835\n",
            "Epoch 2/30\n",
            "422/422 [==============================] - ETA: 0s - loss: 0.0691 - accuracy: 0.9781\n",
            "Epoch 2: loss improved from 0.26264 to 0.06909, saving model to checkpoint-2.h5\n",
            "422/422 [==============================] - 42s 100ms/step - loss: 0.0691 - accuracy: 0.9781 - val_loss: 0.0400 - val_accuracy: 0.9888\n",
            "Epoch 3/30\n",
            "422/422 [==============================] - ETA: 0s - loss: 0.0491 - accuracy: 0.9850\n",
            "Epoch 3: loss improved from 0.06909 to 0.04913, saving model to checkpoint-3.h5\n",
            "422/422 [==============================] - 42s 100ms/step - loss: 0.0491 - accuracy: 0.9850 - val_loss: 0.0447 - val_accuracy: 0.9883\n",
            "Epoch 4/30\n",
            "422/422 [==============================] - ETA: 0s - loss: 0.0380 - accuracy: 0.9881\n",
            "Epoch 4: loss improved from 0.04913 to 0.03799, saving model to checkpoint-4.h5\n",
            "422/422 [==============================] - 42s 100ms/step - loss: 0.0380 - accuracy: 0.9881 - val_loss: 0.0322 - val_accuracy: 0.9905\n",
            "Epoch 5/30\n",
            "422/422 [==============================] - ETA: 0s - loss: 0.0295 - accuracy: 0.9908\n",
            "Epoch 5: loss improved from 0.03799 to 0.02953, saving model to checkpoint-5.h5\n",
            "422/422 [==============================] - 42s 100ms/step - loss: 0.0295 - accuracy: 0.9908 - val_loss: 0.0365 - val_accuracy: 0.9893\n",
            "Epoch 6/30\n",
            "422/422 [==============================] - ETA: 0s - loss: 0.0247 - accuracy: 0.9922\n",
            "Epoch 6: loss improved from 0.02953 to 0.02467, saving model to checkpoint-6.h5\n",
            "422/422 [==============================] - 42s 100ms/step - loss: 0.0247 - accuracy: 0.9922 - val_loss: 0.0321 - val_accuracy: 0.9920\n",
            "Epoch 7/30\n",
            "422/422 [==============================] - ETA: 0s - loss: 0.0225 - accuracy: 0.9928\n",
            "Epoch 7: loss improved from 0.02467 to 0.02246, saving model to checkpoint-7.h5\n",
            "422/422 [==============================] - 42s 100ms/step - loss: 0.0225 - accuracy: 0.9928 - val_loss: 0.0340 - val_accuracy: 0.9920\n",
            "Epoch 8/30\n",
            "422/422 [==============================] - ETA: 0s - loss: 0.0185 - accuracy: 0.9941\n",
            "Epoch 8: loss improved from 0.02246 to 0.01846, saving model to checkpoint-8.h5\n",
            "422/422 [==============================] - 42s 100ms/step - loss: 0.0185 - accuracy: 0.9941 - val_loss: 0.0325 - val_accuracy: 0.9913\n",
            "Epoch 9/30\n",
            "422/422 [==============================] - ETA: 0s - loss: 0.0161 - accuracy: 0.9948\n",
            "Epoch 9: loss improved from 0.01846 to 0.01606, saving model to checkpoint-9.h5\n",
            "422/422 [==============================] - 42s 100ms/step - loss: 0.0161 - accuracy: 0.9948 - val_loss: 0.0343 - val_accuracy: 0.9915\n",
            "Epoch 10/30\n",
            "422/422 [==============================] - ETA: 0s - loss: 0.0134 - accuracy: 0.9953\n",
            "Epoch 10: loss improved from 0.01606 to 0.01344, saving model to checkpoint-10.h5\n",
            "422/422 [==============================] - 42s 100ms/step - loss: 0.0134 - accuracy: 0.9953 - val_loss: 0.0323 - val_accuracy: 0.9908\n",
            "Epoch 11/30\n",
            "422/422 [==============================] - ETA: 0s - loss: 0.0126 - accuracy: 0.9957\n",
            "Epoch 11: loss improved from 0.01344 to 0.01259, saving model to checkpoint-11.h5\n",
            "422/422 [==============================] - 42s 100ms/step - loss: 0.0126 - accuracy: 0.9957 - val_loss: 0.0387 - val_accuracy: 0.9908\n",
            "Epoch 12/30\n",
            "422/422 [==============================] - ETA: 0s - loss: 0.0097 - accuracy: 0.9965\n",
            "Epoch 12: loss improved from 0.01259 to 0.00972, saving model to checkpoint-12.h5\n",
            "422/422 [==============================] - 42s 99ms/step - loss: 0.0097 - accuracy: 0.9965 - val_loss: 0.0375 - val_accuracy: 0.9917\n",
            "Epoch 13/30\n",
            "422/422 [==============================] - ETA: 0s - loss: 0.0095 - accuracy: 0.9969\n",
            "Epoch 13: loss improved from 0.00972 to 0.00949, saving model to checkpoint-13.h5\n",
            "422/422 [==============================] - 42s 100ms/step - loss: 0.0095 - accuracy: 0.9969 - val_loss: 0.0394 - val_accuracy: 0.9930\n",
            "Epoch 14/30\n",
            "422/422 [==============================] - ETA: 0s - loss: 0.0106 - accuracy: 0.9961\n",
            "Epoch 14: loss did not improve from 0.00949\n",
            "422/422 [==============================] - 42s 99ms/step - loss: 0.0106 - accuracy: 0.9961 - val_loss: 0.0377 - val_accuracy: 0.9915\n",
            "Epoch 15/30\n",
            "422/422 [==============================] - ETA: 0s - loss: 0.0082 - accuracy: 0.9976\n",
            "Epoch 15: loss improved from 0.00949 to 0.00816, saving model to checkpoint-15.h5\n",
            "422/422 [==============================] - 42s 99ms/step - loss: 0.0082 - accuracy: 0.9976 - val_loss: 0.0424 - val_accuracy: 0.9905\n",
            "Epoch 16/30\n",
            "422/422 [==============================] - ETA: 0s - loss: 0.0074 - accuracy: 0.9974\n",
            "Epoch 16: loss improved from 0.00816 to 0.00736, saving model to checkpoint-16.h5\n",
            "422/422 [==============================] - 42s 99ms/step - loss: 0.0074 - accuracy: 0.9974 - val_loss: 0.0397 - val_accuracy: 0.9907\n",
            "Epoch 17/30\n",
            "422/422 [==============================] - ETA: 0s - loss: 0.0068 - accuracy: 0.9978\n",
            "Epoch 17: loss improved from 0.00736 to 0.00676, saving model to checkpoint-17.h5\n",
            "422/422 [==============================] - 42s 99ms/step - loss: 0.0068 - accuracy: 0.9978 - val_loss: 0.0351 - val_accuracy: 0.9925\n",
            "Epoch 18/30\n",
            "422/422 [==============================] - ETA: 0s - loss: 0.0060 - accuracy: 0.9980\n",
            "Epoch 18: loss improved from 0.00676 to 0.00600, saving model to checkpoint-18.h5\n",
            "422/422 [==============================] - 42s 99ms/step - loss: 0.0060 - accuracy: 0.9980 - val_loss: 0.0410 - val_accuracy: 0.9928\n",
            "Epoch 19/30\n",
            "422/422 [==============================] - ETA: 0s - loss: 0.0057 - accuracy: 0.9981\n",
            "Epoch 19: loss improved from 0.00600 to 0.00574, saving model to checkpoint-19.h5\n",
            "422/422 [==============================] - 42s 99ms/step - loss: 0.0057 - accuracy: 0.9981 - val_loss: 0.0408 - val_accuracy: 0.9925\n",
            "Epoch 20/30\n",
            "422/422 [==============================] - ETA: 0s - loss: 0.0068 - accuracy: 0.9975\n",
            "Epoch 20: loss did not improve from 0.00574\n",
            "422/422 [==============================] - 42s 99ms/step - loss: 0.0068 - accuracy: 0.9975 - val_loss: 0.0443 - val_accuracy: 0.9918\n",
            "Epoch 21/30\n",
            "422/422 [==============================] - ETA: 0s - loss: 0.0056 - accuracy: 0.9980\n",
            "Epoch 21: loss improved from 0.00574 to 0.00556, saving model to checkpoint-21.h5\n",
            "422/422 [==============================] - 42s 99ms/step - loss: 0.0056 - accuracy: 0.9980 - val_loss: 0.0403 - val_accuracy: 0.9920\n",
            "Epoch 22/30\n",
            "422/422 [==============================] - ETA: 0s - loss: 0.0053 - accuracy: 0.9980\n",
            "Epoch 22: loss improved from 0.00556 to 0.00535, saving model to checkpoint-22.h5\n",
            "422/422 [==============================] - 42s 99ms/step - loss: 0.0053 - accuracy: 0.9980 - val_loss: 0.0497 - val_accuracy: 0.9918\n",
            "Epoch 23/30\n",
            "422/422 [==============================] - ETA: 0s - loss: 0.0058 - accuracy: 0.9979\n",
            "Epoch 23: loss did not improve from 0.00535\n",
            "422/422 [==============================] - 42s 98ms/step - loss: 0.0058 - accuracy: 0.9979 - val_loss: 0.0397 - val_accuracy: 0.9925\n",
            "Epoch 24/30\n",
            "422/422 [==============================] - ETA: 0s - loss: 0.0049 - accuracy: 0.9982\n",
            "Epoch 24: loss improved from 0.00535 to 0.00492, saving model to checkpoint-24.h5\n",
            "422/422 [==============================] - 42s 99ms/step - loss: 0.0049 - accuracy: 0.9982 - val_loss: 0.0545 - val_accuracy: 0.9905\n",
            "Epoch 25/30\n",
            "422/422 [==============================] - ETA: 0s - loss: 0.0045 - accuracy: 0.9985\n",
            "Epoch 25: loss improved from 0.00492 to 0.00449, saving model to checkpoint-25.h5\n",
            "422/422 [==============================] - 42s 99ms/step - loss: 0.0045 - accuracy: 0.9985 - val_loss: 0.0493 - val_accuracy: 0.9922\n",
            "Epoch 26/30\n",
            "422/422 [==============================] - ETA: 0s - loss: 0.0043 - accuracy: 0.9984\n",
            "Epoch 26: loss improved from 0.00449 to 0.00427, saving model to checkpoint-26.h5\n",
            "422/422 [==============================] - 42s 99ms/step - loss: 0.0043 - accuracy: 0.9984 - val_loss: 0.0569 - val_accuracy: 0.9920\n",
            "Epoch 27/30\n",
            "422/422 [==============================] - ETA: 0s - loss: 0.0051 - accuracy: 0.9984\n",
            "Epoch 27: loss did not improve from 0.00427\n",
            "422/422 [==============================] - 44s 103ms/step - loss: 0.0051 - accuracy: 0.9984 - val_loss: 0.0541 - val_accuracy: 0.9923\n",
            "Epoch 28/30\n",
            "422/422 [==============================] - ETA: 0s - loss: 0.0040 - accuracy: 0.9984\n",
            "Epoch 28: loss improved from 0.00427 to 0.00397, saving model to checkpoint-28.h5\n",
            "422/422 [==============================] - 43s 101ms/step - loss: 0.0040 - accuracy: 0.9984 - val_loss: 0.0559 - val_accuracy: 0.9917\n",
            "Epoch 29/30\n",
            "422/422 [==============================] - ETA: 0s - loss: 0.0033 - accuracy: 0.9989\n",
            "Epoch 29: loss improved from 0.00397 to 0.00328, saving model to checkpoint-29.h5\n",
            "422/422 [==============================] - 42s 100ms/step - loss: 0.0033 - accuracy: 0.9989 - val_loss: 0.0522 - val_accuracy: 0.9927\n",
            "Epoch 30/30\n",
            "422/422 [==============================] - ETA: 0s - loss: 0.0039 - accuracy: 0.9986\n",
            "Epoch 30: loss did not improve from 0.00328\n",
            "422/422 [==============================] - 42s 100ms/step - loss: 0.0039 - accuracy: 0.9986 - val_loss: 0.0510 - val_accuracy: 0.9912\n",
            "\n",
            "Summary:\n",
            "\n",
            "Modelo:  [128, 30, 0.1]\n",
            "\n",
            "Time to Fit:  1282.6034622192383\n",
            "Test loss: 0.03360705077648163\n",
            "Test accuracy: 0.992900013923645\n",
            "Score: [0.03360705077648163, 0.992900013923645]\n",
            "Salvando o modelo:  model-1.h5\n",
            "\n",
            "\n",
            "\n",
            "\n",
            "-------------------------new hiperparameter iteration---------------------------------------------\n",
            "Model: \"sequential_6\"\n",
            "_________________________________________________________________\n",
            " Layer (type)                Output Shape              Param #   \n",
            "=================================================================\n",
            " conv2d_12 (Conv2D)          (None, 26, 26, 32)        320       \n",
            "                                                                 \n",
            " max_pooling2d_12 (MaxPoolin  (None, 13, 13, 32)       0         \n",
            " g2D)                                                            \n",
            "                                                                 \n",
            " conv2d_13 (Conv2D)          (None, 11, 11, 64)        18496     \n",
            "                                                                 \n",
            " max_pooling2d_13 (MaxPoolin  (None, 5, 5, 64)         0         \n",
            " g2D)                                                            \n",
            "                                                                 \n",
            " flatten_6 (Flatten)         (None, 1600)              0         \n",
            "                                                                 \n",
            " dense_12 (Dense)            (None, 128)               204928    \n",
            "                                                                 \n",
            " dropout_6 (Dropout)         (None, 128)               0         \n",
            "                                                                 \n",
            " dense_13 (Dense)            (None, 10)                1290      \n",
            "                                                                 \n",
            "=================================================================\n",
            "Total params: 225,034\n",
            "Trainable params: 225,034\n",
            "Non-trainable params: 0\n",
            "_________________________________________________________________\n",
            "Epoch 1/40\n",
            "211/211 [==============================] - ETA: 0s - loss: 0.3372 - accuracy: 0.8980\n",
            "Epoch 1: loss improved from inf to 0.33719, saving model to checkpoint-1.h5\n",
            "211/211 [==============================] - 41s 190ms/step - loss: 0.3372 - accuracy: 0.8980 - val_loss: 0.0737 - val_accuracy: 0.9783\n",
            "Epoch 2/40\n",
            "211/211 [==============================] - ETA: 0s - loss: 0.0851 - accuracy: 0.9744\n",
            "Epoch 2: loss improved from 0.33719 to 0.08508, saving model to checkpoint-2.h5\n",
            "211/211 [==============================] - 40s 189ms/step - loss: 0.0851 - accuracy: 0.9744 - val_loss: 0.0545 - val_accuracy: 0.9843\n",
            "Epoch 3/40\n",
            "211/211 [==============================] - ETA: 0s - loss: 0.0592 - accuracy: 0.9818\n",
            "Epoch 3: loss improved from 0.08508 to 0.05916, saving model to checkpoint-3.h5\n",
            "211/211 [==============================] - 40s 189ms/step - loss: 0.0592 - accuracy: 0.9818 - val_loss: 0.0410 - val_accuracy: 0.9877\n",
            "Epoch 4/40\n",
            "211/211 [==============================] - ETA: 0s - loss: 0.0475 - accuracy: 0.9852\n",
            "Epoch 4: loss improved from 0.05916 to 0.04753, saving model to checkpoint-4.h5\n",
            "211/211 [==============================] - 40s 188ms/step - loss: 0.0475 - accuracy: 0.9852 - val_loss: 0.0391 - val_accuracy: 0.9902\n",
            "Epoch 5/40\n",
            "211/211 [==============================] - ETA: 0s - loss: 0.0403 - accuracy: 0.9878\n",
            "Epoch 5: loss improved from 0.04753 to 0.04033, saving model to checkpoint-5.h5\n",
            "211/211 [==============================] - 40s 189ms/step - loss: 0.0403 - accuracy: 0.9878 - val_loss: 0.0392 - val_accuracy: 0.9885\n",
            "Epoch 6/40\n",
            "211/211 [==============================] - ETA: 0s - loss: 0.0338 - accuracy: 0.9892\n",
            "Epoch 6: loss improved from 0.04033 to 0.03383, saving model to checkpoint-6.h5\n",
            "211/211 [==============================] - 40s 188ms/step - loss: 0.0338 - accuracy: 0.9892 - val_loss: 0.0349 - val_accuracy: 0.9902\n",
            "Epoch 7/40\n",
            "211/211 [==============================] - ETA: 0s - loss: 0.0288 - accuracy: 0.9906\n",
            "Epoch 7: loss improved from 0.03383 to 0.02881, saving model to checkpoint-7.h5\n",
            "211/211 [==============================] - 40s 187ms/step - loss: 0.0288 - accuracy: 0.9906 - val_loss: 0.0370 - val_accuracy: 0.9908\n",
            "Epoch 8/40\n",
            "211/211 [==============================] - ETA: 0s - loss: 0.0241 - accuracy: 0.9920\n",
            "Epoch 8: loss improved from 0.02881 to 0.02415, saving model to checkpoint-8.h5\n",
            "211/211 [==============================] - 39s 187ms/step - loss: 0.0241 - accuracy: 0.9920 - val_loss: 0.0345 - val_accuracy: 0.9915\n",
            "Epoch 9/40\n",
            "211/211 [==============================] - ETA: 0s - loss: 0.0211 - accuracy: 0.9931\n",
            "Epoch 9: loss improved from 0.02415 to 0.02107, saving model to checkpoint-9.h5\n",
            "211/211 [==============================] - 40s 188ms/step - loss: 0.0211 - accuracy: 0.9931 - val_loss: 0.0403 - val_accuracy: 0.9885\n",
            "Epoch 10/40\n",
            "211/211 [==============================] - ETA: 0s - loss: 0.0202 - accuracy: 0.9934\n",
            "Epoch 10: loss improved from 0.02107 to 0.02024, saving model to checkpoint-10.h5\n",
            "211/211 [==============================] - 39s 187ms/step - loss: 0.0202 - accuracy: 0.9934 - val_loss: 0.0341 - val_accuracy: 0.9912\n",
            "Epoch 11/40\n",
            "211/211 [==============================] - ETA: 0s - loss: 0.0174 - accuracy: 0.9947\n",
            "Epoch 11: loss improved from 0.02024 to 0.01736, saving model to checkpoint-11.h5\n",
            "211/211 [==============================] - 40s 188ms/step - loss: 0.0174 - accuracy: 0.9947 - val_loss: 0.0316 - val_accuracy: 0.9912\n",
            "Epoch 12/40\n",
            "211/211 [==============================] - ETA: 0s - loss: 0.0166 - accuracy: 0.9946\n",
            "Epoch 12: loss improved from 0.01736 to 0.01656, saving model to checkpoint-12.h5\n",
            "211/211 [==============================] - 40s 188ms/step - loss: 0.0166 - accuracy: 0.9946 - val_loss: 0.0343 - val_accuracy: 0.9915\n",
            "Epoch 13/40\n",
            "211/211 [==============================] - ETA: 0s - loss: 0.0139 - accuracy: 0.9956\n",
            "Epoch 13: loss improved from 0.01656 to 0.01388, saving model to checkpoint-13.h5\n",
            "211/211 [==============================] - 39s 187ms/step - loss: 0.0139 - accuracy: 0.9956 - val_loss: 0.0361 - val_accuracy: 0.9903\n",
            "Epoch 14/40\n",
            "211/211 [==============================] - ETA: 0s - loss: 0.0130 - accuracy: 0.9954\n",
            "Epoch 14: loss improved from 0.01388 to 0.01300, saving model to checkpoint-14.h5\n",
            "211/211 [==============================] - 40s 188ms/step - loss: 0.0130 - accuracy: 0.9954 - val_loss: 0.0360 - val_accuracy: 0.9915\n",
            "Epoch 15/40\n",
            "211/211 [==============================] - ETA: 0s - loss: 0.0112 - accuracy: 0.9961\n",
            "Epoch 15: loss improved from 0.01300 to 0.01116, saving model to checkpoint-15.h5\n",
            "211/211 [==============================] - 40s 187ms/step - loss: 0.0112 - accuracy: 0.9961 - val_loss: 0.0343 - val_accuracy: 0.9920\n",
            "Epoch 16/40\n",
            "211/211 [==============================] - ETA: 0s - loss: 0.0099 - accuracy: 0.9965\n",
            "Epoch 16: loss improved from 0.01116 to 0.00989, saving model to checkpoint-16.h5\n",
            "211/211 [==============================] - 39s 187ms/step - loss: 0.0099 - accuracy: 0.9965 - val_loss: 0.0402 - val_accuracy: 0.9900\n",
            "Epoch 17/40\n",
            "211/211 [==============================] - ETA: 0s - loss: 0.0111 - accuracy: 0.9962\n",
            "Epoch 17: loss did not improve from 0.00989\n",
            "211/211 [==============================] - 40s 187ms/step - loss: 0.0111 - accuracy: 0.9962 - val_loss: 0.0337 - val_accuracy: 0.9925\n",
            "Epoch 18/40\n",
            "211/211 [==============================] - ETA: 0s - loss: 0.0095 - accuracy: 0.9969\n",
            "Epoch 18: loss improved from 0.00989 to 0.00948, saving model to checkpoint-18.h5\n",
            "211/211 [==============================] - 40s 188ms/step - loss: 0.0095 - accuracy: 0.9969 - val_loss: 0.0371 - val_accuracy: 0.9923\n",
            "Epoch 19/40\n",
            "211/211 [==============================] - ETA: 0s - loss: 0.0082 - accuracy: 0.9972\n",
            "Epoch 19: loss improved from 0.00948 to 0.00818, saving model to checkpoint-19.h5\n",
            "211/211 [==============================] - 40s 187ms/step - loss: 0.0082 - accuracy: 0.9972 - val_loss: 0.0367 - val_accuracy: 0.9937\n",
            "Epoch 20/40\n",
            "211/211 [==============================] - ETA: 0s - loss: 0.0077 - accuracy: 0.9973\n",
            "Epoch 20: loss improved from 0.00818 to 0.00772, saving model to checkpoint-20.h5\n",
            "211/211 [==============================] - 40s 187ms/step - loss: 0.0077 - accuracy: 0.9973 - val_loss: 0.0408 - val_accuracy: 0.9910\n",
            "Epoch 21/40\n",
            "211/211 [==============================] - ETA: 0s - loss: 0.0063 - accuracy: 0.9979\n",
            "Epoch 21: loss improved from 0.00772 to 0.00626, saving model to checkpoint-21.h5\n",
            "211/211 [==============================] - 40s 188ms/step - loss: 0.0063 - accuracy: 0.9979 - val_loss: 0.0413 - val_accuracy: 0.9922\n",
            "Epoch 22/40\n",
            "211/211 [==============================] - ETA: 0s - loss: 0.0067 - accuracy: 0.9977\n",
            "Epoch 22: loss did not improve from 0.00626\n",
            "211/211 [==============================] - 39s 187ms/step - loss: 0.0067 - accuracy: 0.9977 - val_loss: 0.0443 - val_accuracy: 0.9917\n",
            "Epoch 23/40\n",
            "211/211 [==============================] - ETA: 0s - loss: 0.0063 - accuracy: 0.9977\n",
            "Epoch 23: loss did not improve from 0.00626\n",
            "211/211 [==============================] - 40s 188ms/step - loss: 0.0063 - accuracy: 0.9977 - val_loss: 0.0453 - val_accuracy: 0.9917\n",
            "Epoch 24/40\n",
            "211/211 [==============================] - ETA: 0s - loss: 0.0057 - accuracy: 0.9980\n",
            "Epoch 24: loss improved from 0.00626 to 0.00568, saving model to checkpoint-24.h5\n",
            "211/211 [==============================] - 40s 189ms/step - loss: 0.0057 - accuracy: 0.9980 - val_loss: 0.0365 - val_accuracy: 0.9927\n",
            "Epoch 25/40\n",
            "211/211 [==============================] - ETA: 0s - loss: 0.0049 - accuracy: 0.9982\n",
            "Epoch 25: loss improved from 0.00568 to 0.00492, saving model to checkpoint-25.h5\n",
            "211/211 [==============================] - 40s 188ms/step - loss: 0.0049 - accuracy: 0.9982 - val_loss: 0.0413 - val_accuracy: 0.9922\n",
            "Epoch 26/40\n",
            "211/211 [==============================] - ETA: 0s - loss: 0.0065 - accuracy: 0.9976\n",
            "Epoch 26: loss did not improve from 0.00492\n",
            "211/211 [==============================] - 40s 187ms/step - loss: 0.0065 - accuracy: 0.9976 - val_loss: 0.0452 - val_accuracy: 0.9907\n",
            "Epoch 27/40\n",
            "211/211 [==============================] - ETA: 0s - loss: 0.0054 - accuracy: 0.9982\n",
            "Epoch 27: loss did not improve from 0.00492\n",
            "211/211 [==============================] - 40s 187ms/step - loss: 0.0054 - accuracy: 0.9982 - val_loss: 0.0434 - val_accuracy: 0.9910\n",
            "Epoch 28/40\n",
            "211/211 [==============================] - ETA: 0s - loss: 0.0055 - accuracy: 0.9982\n",
            "Epoch 28: loss did not improve from 0.00492\n",
            "211/211 [==============================] - 40s 188ms/step - loss: 0.0055 - accuracy: 0.9982 - val_loss: 0.0482 - val_accuracy: 0.9908\n",
            "Epoch 29/40\n",
            "211/211 [==============================] - ETA: 0s - loss: 0.0045 - accuracy: 0.9984\n",
            "Epoch 29: loss improved from 0.00492 to 0.00446, saving model to checkpoint-29.h5\n",
            "211/211 [==============================] - 40s 190ms/step - loss: 0.0045 - accuracy: 0.9984 - val_loss: 0.0412 - val_accuracy: 0.9920\n",
            "Epoch 30/40\n",
            "211/211 [==============================] - ETA: 0s - loss: 0.0043 - accuracy: 0.9986\n",
            "Epoch 30: loss improved from 0.00446 to 0.00429, saving model to checkpoint-30.h5\n",
            "211/211 [==============================] - 40s 189ms/step - loss: 0.0043 - accuracy: 0.9986 - val_loss: 0.0447 - val_accuracy: 0.9915\n",
            "Epoch 31/40\n",
            "211/211 [==============================] - ETA: 0s - loss: 0.0045 - accuracy: 0.9986\n",
            "Epoch 31: loss did not improve from 0.00429\n",
            "211/211 [==============================] - 40s 189ms/step - loss: 0.0045 - accuracy: 0.9986 - val_loss: 0.0441 - val_accuracy: 0.9922\n",
            "Epoch 32/40\n",
            "211/211 [==============================] - ETA: 0s - loss: 0.0043 - accuracy: 0.9986\n",
            "Epoch 32: loss did not improve from 0.00429\n",
            "211/211 [==============================] - 40s 188ms/step - loss: 0.0043 - accuracy: 0.9986 - val_loss: 0.0387 - val_accuracy: 0.9922\n",
            "Epoch 33/40\n",
            "211/211 [==============================] - ETA: 0s - loss: 0.0040 - accuracy: 0.9986\n",
            "Epoch 33: loss improved from 0.00429 to 0.00398, saving model to checkpoint-33.h5\n",
            "211/211 [==============================] - 40s 189ms/step - loss: 0.0040 - accuracy: 0.9986 - val_loss: 0.0479 - val_accuracy: 0.9927\n",
            "Epoch 34/40\n",
            "211/211 [==============================] - ETA: 0s - loss: 0.0050 - accuracy: 0.9982\n",
            "Epoch 34: loss did not improve from 0.00398\n",
            "211/211 [==============================] - 39s 187ms/step - loss: 0.0050 - accuracy: 0.9982 - val_loss: 0.0433 - val_accuracy: 0.9920\n",
            "Epoch 35/40\n",
            "211/211 [==============================] - ETA: 0s - loss: 0.0039 - accuracy: 0.9984\n",
            "Epoch 35: loss improved from 0.00398 to 0.00390, saving model to checkpoint-35.h5\n",
            "211/211 [==============================] - 40s 187ms/step - loss: 0.0039 - accuracy: 0.9984 - val_loss: 0.0472 - val_accuracy: 0.9922\n",
            "Epoch 36/40\n",
            "211/211 [==============================] - ETA: 0s - loss: 0.0040 - accuracy: 0.9987\n",
            "Epoch 36: loss did not improve from 0.00390\n",
            "211/211 [==============================] - 40s 188ms/step - loss: 0.0040 - accuracy: 0.9987 - val_loss: 0.0542 - val_accuracy: 0.9912\n",
            "Epoch 37/40\n",
            "211/211 [==============================] - ETA: 0s - loss: 0.0037 - accuracy: 0.9987\n",
            "Epoch 37: loss improved from 0.00390 to 0.00366, saving model to checkpoint-37.h5\n",
            "211/211 [==============================] - 40s 188ms/step - loss: 0.0037 - accuracy: 0.9987 - val_loss: 0.0471 - val_accuracy: 0.9925\n",
            "Epoch 38/40\n",
            "211/211 [==============================] - ETA: 0s - loss: 0.0035 - accuracy: 0.9989\n",
            "Epoch 38: loss improved from 0.00366 to 0.00347, saving model to checkpoint-38.h5\n",
            "211/211 [==============================] - 40s 189ms/step - loss: 0.0035 - accuracy: 0.9989 - val_loss: 0.0481 - val_accuracy: 0.9918\n",
            "Epoch 39/40\n",
            "211/211 [==============================] - ETA: 0s - loss: 0.0027 - accuracy: 0.9991\n",
            "Epoch 39: loss improved from 0.00347 to 0.00271, saving model to checkpoint-39.h5\n",
            "211/211 [==============================] - 40s 188ms/step - loss: 0.0027 - accuracy: 0.9991 - val_loss: 0.0430 - val_accuracy: 0.9933\n",
            "Epoch 40/40\n",
            "211/211 [==============================] - ETA: 0s - loss: 0.0033 - accuracy: 0.9990\n",
            "Epoch 40: loss did not improve from 0.00271\n",
            "211/211 [==============================] - 40s 189ms/step - loss: 0.0033 - accuracy: 0.9990 - val_loss: 0.0518 - val_accuracy: 0.9920\n",
            "\n",
            "Summary:\n",
            "\n",
            "Modelo:  [256, 40, 0.1]\n",
            "\n",
            "Time to Fit:  1587.4335360527039\n",
            "Test loss: 0.03718797117471695\n",
            "Test accuracy: 0.9925000071525574\n",
            "Score: [0.03718797117471695, 0.9925000071525574]\n",
            "Salvando o modelo:  model-2.h5\n",
            "\n",
            "\n",
            "\n",
            "\n",
            "-------------------------new hiperparameter iteration---------------------------------------------\n",
            "Model: \"sequential_7\"\n",
            "_________________________________________________________________\n",
            " Layer (type)                Output Shape              Param #   \n",
            "=================================================================\n",
            " conv2d_14 (Conv2D)          (None, 26, 26, 32)        320       \n",
            "                                                                 \n",
            " max_pooling2d_14 (MaxPoolin  (None, 13, 13, 32)       0         \n",
            " g2D)                                                            \n",
            "                                                                 \n",
            " conv2d_15 (Conv2D)          (None, 11, 11, 64)        18496     \n",
            "                                                                 \n",
            " max_pooling2d_15 (MaxPoolin  (None, 5, 5, 64)         0         \n",
            " g2D)                                                            \n",
            "                                                                 \n",
            " flatten_7 (Flatten)         (None, 1600)              0         \n",
            "                                                                 \n",
            " dense_14 (Dense)            (None, 128)               204928    \n",
            "                                                                 \n",
            " dropout_7 (Dropout)         (None, 128)               0         \n",
            "                                                                 \n",
            " dense_15 (Dense)            (None, 10)                1290      \n",
            "                                                                 \n",
            "=================================================================\n",
            "Total params: 225,034\n",
            "Trainable params: 225,034\n",
            "Non-trainable params: 0\n",
            "_________________________________________________________________\n",
            "Epoch 1/30\n",
            "211/211 [==============================] - ETA: 0s - loss: 0.3713 - accuracy: 0.8915\n",
            "Epoch 1: loss improved from inf to 0.37134, saving model to checkpoint-1.h5\n",
            "211/211 [==============================] - 41s 191ms/step - loss: 0.3713 - accuracy: 0.8915 - val_loss: 0.0733 - val_accuracy: 0.9780\n",
            "Epoch 2/30\n",
            "211/211 [==============================] - ETA: 0s - loss: 0.0868 - accuracy: 0.9732\n",
            "Epoch 2: loss improved from 0.37134 to 0.08680, saving model to checkpoint-2.h5\n",
            "211/211 [==============================] - 40s 191ms/step - loss: 0.0868 - accuracy: 0.9732 - val_loss: 0.0474 - val_accuracy: 0.9878\n",
            "Epoch 3/30\n",
            "211/211 [==============================] - ETA: 0s - loss: 0.0606 - accuracy: 0.9815\n",
            "Epoch 3: loss improved from 0.08680 to 0.06057, saving model to checkpoint-3.h5\n",
            "211/211 [==============================] - 40s 190ms/step - loss: 0.0606 - accuracy: 0.9815 - val_loss: 0.0414 - val_accuracy: 0.9905\n",
            "Epoch 4/30\n",
            "211/211 [==============================] - ETA: 0s - loss: 0.0479 - accuracy: 0.9852\n",
            "Epoch 4: loss improved from 0.06057 to 0.04786, saving model to checkpoint-4.h5\n",
            "211/211 [==============================] - 40s 189ms/step - loss: 0.0479 - accuracy: 0.9852 - val_loss: 0.0339 - val_accuracy: 0.9903\n",
            "Epoch 5/30\n",
            "211/211 [==============================] - ETA: 0s - loss: 0.0397 - accuracy: 0.9882\n",
            "Epoch 5: loss improved from 0.04786 to 0.03973, saving model to checkpoint-5.h5\n",
            "211/211 [==============================] - 40s 189ms/step - loss: 0.0397 - accuracy: 0.9882 - val_loss: 0.0375 - val_accuracy: 0.9888\n",
            "Epoch 6/30\n",
            "211/211 [==============================] - ETA: 0s - loss: 0.0326 - accuracy: 0.9899\n",
            "Epoch 6: loss improved from 0.03973 to 0.03257, saving model to checkpoint-6.h5\n",
            "211/211 [==============================] - 40s 189ms/step - loss: 0.0326 - accuracy: 0.9899 - val_loss: 0.0379 - val_accuracy: 0.9905\n",
            "Epoch 7/30\n",
            "211/211 [==============================] - ETA: 0s - loss: 0.0284 - accuracy: 0.9911\n",
            "Epoch 7: loss improved from 0.03257 to 0.02836, saving model to checkpoint-7.h5\n",
            "211/211 [==============================] - 40s 188ms/step - loss: 0.0284 - accuracy: 0.9911 - val_loss: 0.0342 - val_accuracy: 0.9908\n",
            "Epoch 8/30\n",
            "211/211 [==============================] - ETA: 0s - loss: 0.0254 - accuracy: 0.9924\n",
            "Epoch 8: loss improved from 0.02836 to 0.02544, saving model to checkpoint-8.h5\n",
            "211/211 [==============================] - 40s 189ms/step - loss: 0.0254 - accuracy: 0.9924 - val_loss: 0.0314 - val_accuracy: 0.9912\n",
            "Epoch 9/30\n",
            "211/211 [==============================] - ETA: 0s - loss: 0.0214 - accuracy: 0.9930\n",
            "Epoch 9: loss improved from 0.02544 to 0.02137, saving model to checkpoint-9.h5\n",
            "211/211 [==============================] - 40s 188ms/step - loss: 0.0214 - accuracy: 0.9930 - val_loss: 0.0312 - val_accuracy: 0.9915\n",
            "Epoch 10/30\n",
            "211/211 [==============================] - ETA: 0s - loss: 0.0176 - accuracy: 0.9946\n",
            "Epoch 10: loss improved from 0.02137 to 0.01764, saving model to checkpoint-10.h5\n",
            "211/211 [==============================] - 40s 188ms/step - loss: 0.0176 - accuracy: 0.9946 - val_loss: 0.0307 - val_accuracy: 0.9910\n",
            "Epoch 11/30\n",
            "211/211 [==============================] - ETA: 0s - loss: 0.0159 - accuracy: 0.9947\n",
            "Epoch 11: loss improved from 0.01764 to 0.01593, saving model to checkpoint-11.h5\n",
            "211/211 [==============================] - 40s 188ms/step - loss: 0.0159 - accuracy: 0.9947 - val_loss: 0.0313 - val_accuracy: 0.9928\n",
            "Epoch 12/30\n",
            "211/211 [==============================] - ETA: 0s - loss: 0.0152 - accuracy: 0.9951\n",
            "Epoch 12: loss improved from 0.01593 to 0.01516, saving model to checkpoint-12.h5\n",
            "211/211 [==============================] - 40s 188ms/step - loss: 0.0152 - accuracy: 0.9951 - val_loss: 0.0315 - val_accuracy: 0.9913\n",
            "Epoch 13/30\n",
            "211/211 [==============================] - ETA: 0s - loss: 0.0128 - accuracy: 0.9958\n",
            "Epoch 13: loss improved from 0.01516 to 0.01280, saving model to checkpoint-13.h5\n",
            "211/211 [==============================] - 39s 187ms/step - loss: 0.0128 - accuracy: 0.9958 - val_loss: 0.0335 - val_accuracy: 0.9913\n",
            "Epoch 14/30\n",
            "211/211 [==============================] - ETA: 0s - loss: 0.0117 - accuracy: 0.9963\n",
            "Epoch 14: loss improved from 0.01280 to 0.01173, saving model to checkpoint-14.h5\n",
            "211/211 [==============================] - 40s 188ms/step - loss: 0.0117 - accuracy: 0.9963 - val_loss: 0.0358 - val_accuracy: 0.9913\n",
            "Epoch 15/30\n",
            "211/211 [==============================] - ETA: 0s - loss: 0.0098 - accuracy: 0.9967\n",
            "Epoch 15: loss improved from 0.01173 to 0.00981, saving model to checkpoint-15.h5\n",
            "211/211 [==============================] - 39s 187ms/step - loss: 0.0098 - accuracy: 0.9967 - val_loss: 0.0332 - val_accuracy: 0.9918\n",
            "Epoch 16/30\n",
            "211/211 [==============================] - ETA: 0s - loss: 0.0094 - accuracy: 0.9966\n",
            "Epoch 16: loss improved from 0.00981 to 0.00939, saving model to checkpoint-16.h5\n",
            "211/211 [==============================] - 40s 188ms/step - loss: 0.0094 - accuracy: 0.9966 - val_loss: 0.0424 - val_accuracy: 0.9897\n",
            "Epoch 17/30\n",
            "211/211 [==============================] - ETA: 0s - loss: 0.0091 - accuracy: 0.9969\n",
            "Epoch 17: loss improved from 0.00939 to 0.00912, saving model to checkpoint-17.h5\n",
            "211/211 [==============================] - 39s 187ms/step - loss: 0.0091 - accuracy: 0.9969 - val_loss: 0.0342 - val_accuracy: 0.9913\n",
            "Epoch 18/30\n",
            "211/211 [==============================] - ETA: 0s - loss: 0.0079 - accuracy: 0.9974\n",
            "Epoch 18: loss improved from 0.00912 to 0.00792, saving model to checkpoint-18.h5\n",
            "211/211 [==============================] - 40s 188ms/step - loss: 0.0079 - accuracy: 0.9974 - val_loss: 0.0394 - val_accuracy: 0.9915\n",
            "Epoch 19/30\n",
            "211/211 [==============================] - ETA: 0s - loss: 0.0071 - accuracy: 0.9977\n",
            "Epoch 19: loss improved from 0.00792 to 0.00707, saving model to checkpoint-19.h5\n",
            "211/211 [==============================] - 40s 187ms/step - loss: 0.0071 - accuracy: 0.9977 - val_loss: 0.0292 - val_accuracy: 0.9927\n",
            "Epoch 20/30\n",
            "211/211 [==============================] - ETA: 0s - loss: 0.0068 - accuracy: 0.9976\n",
            "Epoch 20: loss improved from 0.00707 to 0.00682, saving model to checkpoint-20.h5\n",
            "211/211 [==============================] - 40s 189ms/step - loss: 0.0068 - accuracy: 0.9976 - val_loss: 0.0326 - val_accuracy: 0.9922\n",
            "Epoch 21/30\n",
            "211/211 [==============================] - ETA: 0s - loss: 0.0070 - accuracy: 0.9978\n",
            "Epoch 21: loss did not improve from 0.00682\n",
            "211/211 [==============================] - 40s 188ms/step - loss: 0.0070 - accuracy: 0.9978 - val_loss: 0.0326 - val_accuracy: 0.9923\n",
            "Epoch 22/30\n",
            "211/211 [==============================] - ETA: 0s - loss: 0.0063 - accuracy: 0.9977\n",
            "Epoch 22: loss improved from 0.00682 to 0.00632, saving model to checkpoint-22.h5\n",
            "211/211 [==============================] - 40s 189ms/step - loss: 0.0063 - accuracy: 0.9977 - val_loss: 0.0408 - val_accuracy: 0.9928\n",
            "Epoch 23/30\n",
            "211/211 [==============================] - ETA: 0s - loss: 0.0068 - accuracy: 0.9977\n",
            "Epoch 23: loss did not improve from 0.00632\n",
            "211/211 [==============================] - 40s 188ms/step - loss: 0.0068 - accuracy: 0.9977 - val_loss: 0.0339 - val_accuracy: 0.9928\n",
            "Epoch 24/30\n",
            "211/211 [==============================] - ETA: 0s - loss: 0.0057 - accuracy: 0.9979\n",
            "Epoch 24: loss improved from 0.00632 to 0.00572, saving model to checkpoint-24.h5\n",
            "211/211 [==============================] - 40s 188ms/step - loss: 0.0057 - accuracy: 0.9979 - val_loss: 0.0367 - val_accuracy: 0.9938\n",
            "Epoch 25/30\n",
            "211/211 [==============================] - ETA: 0s - loss: 0.0060 - accuracy: 0.9980\n",
            "Epoch 25: loss did not improve from 0.00572\n",
            "211/211 [==============================] - 40s 188ms/step - loss: 0.0060 - accuracy: 0.9980 - val_loss: 0.0357 - val_accuracy: 0.9932\n",
            "Epoch 26/30\n",
            "211/211 [==============================] - ETA: 0s - loss: 0.0045 - accuracy: 0.9985\n",
            "Epoch 26: loss improved from 0.00572 to 0.00454, saving model to checkpoint-26.h5\n",
            "211/211 [==============================] - 40s 188ms/step - loss: 0.0045 - accuracy: 0.9985 - val_loss: 0.0340 - val_accuracy: 0.9928\n",
            "Epoch 27/30\n",
            "211/211 [==============================] - ETA: 0s - loss: 0.0051 - accuracy: 0.9983\n",
            "Epoch 27: loss did not improve from 0.00454\n",
            "211/211 [==============================] - 40s 189ms/step - loss: 0.0051 - accuracy: 0.9983 - val_loss: 0.0385 - val_accuracy: 0.9920\n",
            "Epoch 28/30\n",
            "211/211 [==============================] - ETA: 0s - loss: 0.0052 - accuracy: 0.9982\n",
            "Epoch 28: loss did not improve from 0.00454\n",
            "211/211 [==============================] - 40s 187ms/step - loss: 0.0052 - accuracy: 0.9982 - val_loss: 0.0396 - val_accuracy: 0.9922\n",
            "Epoch 29/30\n",
            "211/211 [==============================] - ETA: 0s - loss: 0.0044 - accuracy: 0.9985\n",
            "Epoch 29: loss improved from 0.00454 to 0.00437, saving model to checkpoint-29.h5\n",
            "211/211 [==============================] - 39s 186ms/step - loss: 0.0044 - accuracy: 0.9985 - val_loss: 0.0490 - val_accuracy: 0.9902\n",
            "Epoch 30/30\n",
            "211/211 [==============================] - ETA: 0s - loss: 0.0046 - accuracy: 0.9985\n",
            "Epoch 30: loss did not improve from 0.00437\n",
            "211/211 [==============================] - 40s 190ms/step - loss: 0.0046 - accuracy: 0.9985 - val_loss: 0.0408 - val_accuracy: 0.9922\n",
            "\n",
            "Summary:\n",
            "\n",
            "Modelo:  [256, 30, 0.1]\n",
            "\n",
            "Time to Fit:  1222.6656317710876\n",
            "Test loss: 0.03576934337615967\n",
            "Test accuracy: 0.9921000003814697\n",
            "Score: [0.03576934337615967, 0.9921000003814697]\n",
            "Salvando o modelo:  model-3.h5\n",
            "\n",
            "\n",
            "\n",
            "\n"
          ]
        },
        {
          "output_type": "display_data",
          "data": {
            "text/plain": [
              "<Figure size 720x720 with 2 Axes>"
            ],
            "image/png": "[encoded data removed]"
          },
          "metadata": {
            "needs_background": "light"
          }
        },
        {
          "output_type": "display_data",
          "data": {
            "text/plain": [
              "<Figure size 720x720 with 2 Axes>"
            ],
            "image/png": "[encoded data removed]"
          },
          "metadata": {
            "needs_background": "light"
          }
        },
        {
          "output_type": "display_data",
          "data": {
            "text/plain": [
              "<Figure size 720x720 with 2 Axes>"
            ],
            "image/png": "[encoded data removed]"
          },
          "metadata": {
            "needs_background": "light"
          }
        },
        {
          "output_type": "display_data",
          "data": {
            "text/plain": [
              "<Figure size 720x720 with 2 Axes>"
            ],
            "image/png": "[encoded data removed]"
          },
          "metadata": {
            "needs_background": "light"
          }
        }
      ],
      "source": [
        "# executa o modelo para a lista de hiperparâmetros definida em cfg_list\n",
        "scores = grid_search(cfg_list)"
      ]
    },
    {
      "cell_type": "code",
      "execution_count": null,
      "metadata": {
        "id": "LvAcPxsQ7ehK",
        "colab": {
          "base_uri": "https://localhost:8080/"
        },
        "outputId": "18f9dcc5-d27a-4d02-ed56-353f1ae90e23"
      },
      "outputs": [
        {
          "output_type": "execute_result",
          "data": {
            "text/plain": [
              "[(0.03360705077648163, 0.992900013923645),\n",
              " (0.03576934337615967, 0.9921000003814697),\n",
              " (0.03718797117471695, 0.9925000071525574),\n",
              " (0.04120932146906853, 0.9932000041007996)]"
            ]
          },
          "metadata": {},
          "execution_count": 41
        }
      ],
      "source": [
        "# exibe a lista de acuracia ordenada pela maior (melhor)\n",
        "sorted(scores, key=lambda tup: tup[0])"
      ]
    },
    {
      "cell_type": "code",
      "execution_count": null,
      "metadata": {
        "id": "sxTukwNQAwOq",
        "colab": {
          "base_uri": "https://localhost:8080/",
          "height": 170
        },
        "outputId": "b3fa10b3-ebe9-4fd1-b3dc-c1e34ab19d28"
      },
      "outputs": [
        {
          "output_type": "execute_result",
          "data": {
            "text/plain": [
              "   Id Modelo      Loss  Accuracy  Batch size  Epocs  Validation split\n",
              "0          0  0.041209    0.9932         128     40               0.1\n",
              "1          1  0.033607    0.9929         128     30               0.1\n",
              "2          2  0.037188    0.9925         256     40               0.1\n",
              "3          3  0.035769    0.9921         256     30               0.1"
            ],
            "text/html": [
              "\n",
              "  <div id=\"df-f4730187-e905-4fc7-9232-cda6b417df37\">\n",
              "    <div class=\"colab-df-container\">\n",
              "      <div>\n",
              "<style scoped>\n",
              "    .dataframe tbody tr th:only-of-type {\n",
              "        vertical-align: middle;\n",
              "    }\n",
              "\n",
              "    .dataframe tbody tr th {\n",
              "        vertical-align: top;\n",
              "    }\n",
              "\n",
              "    .dataframe thead th {\n",
              "        text-align: right;\n",
              "    }\n",
              "</style>\n",
              "<table border=\"1\" class=\"dataframe\">\n",
              "  <thead>\n",
              "    <tr style=\"text-align: right;\">\n",
              "      <th></th>\n",
              "      <th>Id Modelo</th>\n",
              "      <th>Loss</th>\n",
              "      <th>Accuracy</th>\n",
              "      <th>Batch size</th>\n",
              "      <th>Epocs</th>\n",
              "      <th>Validation split</th>\n",
              "    </tr>\n",
              "  </thead>\n",
              "  <tbody>\n",
              "    <tr>\n",
              "      <th>0</th>\n",
              "      <td>0</td>\n",
              "      <td>0.041209</td>\n",
              "      <td>0.9932</td>\n",
              "      <td>128</td>\n",
              "      <td>40</td>\n",
              "      <td>0.1</td>\n",
              "    </tr>\n",
              "    <tr>\n",
              "      <th>1</th>\n",
              "      <td>1</td>\n",
              "      <td>0.033607</td>\n",
              "      <td>0.9929</td>\n",
              "      <td>128</td>\n",
              "      <td>30</td>\n",
              "      <td>0.1</td>\n",
              "    </tr>\n",
              "    <tr>\n",
              "      <th>2</th>\n",
              "      <td>2</td>\n",
              "      <td>0.037188</td>\n",
              "      <td>0.9925</td>\n",
              "      <td>256</td>\n",
              "      <td>40</td>\n",
              "      <td>0.1</td>\n",
              "    </tr>\n",
              "    <tr>\n",
              "      <th>3</th>\n",
              "      <td>3</td>\n",
              "      <td>0.035769</td>\n",
              "      <td>0.9921</td>\n",
              "      <td>256</td>\n",
              "      <td>30</td>\n",
              "      <td>0.1</td>\n",
              "    </tr>\n",
              "  </tbody>\n",
              "</table>\n",
              "</div>\n",
              "      <button class=\"colab-df-convert\" onclick=\"convertToInteractive('df-f4730187-e905-4fc7-9232-cda6b417df37')\"\n",
              "              title=\"Convert this dataframe to an interactive table.\"\n",
              "              style=\"display:none;\">\n",
              "        \n",
              "  <svg xmlns=\"http://www.w3.org/2000/svg\" height=\"24px\"viewBox=\"0 0 24 24\"\n",
              "       width=\"24px\">\n",
              "    <path d=\"M0 0h24v24H0V0z\" fill=\"none\"/>\n",
              "    <path d=\"M18.56 5.44l.94 2.06.94-2.06 2.06-.94-2.06-.94-.94-2.06-.94 2.06-2.06.94zm-11 1L8.5 8.5l.94-2.06 2.06-.94-2.06-.94L8.5 2.5l-.94 2.06-2.06.94zm10 10l.94 2.06.94-2.06 2.06-.94-2.06-.94-.94-2.06-.94 2.06-2.06.94z\"/><path d=\"M17.41 7.96l-1.37-1.37c-.4-.4-.92-.59-1.43-.59-.52 0-1.04.2-1.43.59L10.3 9.45l-7.72 7.72c-.78.78-.78 2.05 0 2.83L4 21.41c.39.39.9.59 1.41.59.51 0 1.02-.2 1.41-.59l7.78-7.78 2.81-2.81c.8-.78.8-2.07 0-2.86zM5.41 20L4 18.59l7.72-7.72 1.47 1.35L5.41 20z\"/>\n",
              "  </svg>\n",
              "      </button>\n",
              "      \n",
              "  <style>\n",
              "    .colab-df-container {\n",
              "      display:flex;\n",
              "      flex-wrap:wrap;\n",
              "      gap: 12px;\n",
              "    }\n",
              "\n",
              "    .colab-df-convert {\n",
              "      background-color: #E8F0FE;\n",
              "      border: none;\n",
              "      border-radius: 50%;\n",
              "      cursor: pointer;\n",
              "      display: none;\n",
              "      fill: #1967D2;\n",
              "      height: 32px;\n",
              "      padding: 0 0 0 0;\n",
              "      width: 32px;\n",
              "    }\n",
              "\n",
              "    .colab-df-convert:hover {\n",
              "      background-color: #E2EBFA;\n",
              "      box-shadow: 0px 1px 2px rgba(60, 64, 67, 0.3), 0px 1px 3px 1px rgba(60, 64, 67, 0.15);\n",
              "      fill: #174EA6;\n",
              "    }\n",
              "\n",
              "    [theme=dark] .colab-df-convert {\n",
              "      background-color: #3B4455;\n",
              "      fill: #D2E3FC;\n",
              "    }\n",
              "\n",
              "    [theme=dark] .colab-df-convert:hover {\n",
              "      background-color: #434B5C;\n",
              "      box-shadow: 0px 1px 3px 1px rgba(0, 0, 0, 0.15);\n",
              "      filter: drop-shadow(0px 1px 2px rgba(0, 0, 0, 0.3));\n",
              "      fill: #FFFFFF;\n",
              "    }\n",
              "  </style>\n",
              "\n",
              "      <script>\n",
              "        const buttonEl =\n",
              "          document.querySelector('#df-f4730187-e905-4fc7-9232-cda6b417df37 button.colab-df-convert');\n",
              "        buttonEl.style.display =\n",
              "          google.colab.kernel.accessAllowed ? 'block' : 'none';\n",
              "\n",
              "        async function convertToInteractive(key) {\n",
              "          const element = document.querySelector('#df-f4730187-e905-4fc7-9232-cda6b417df37');\n",
              "          const dataTable =\n",
              "            await google.colab.kernel.invokeFunction('convertToInteractive',\n",
              "                                                     [key], {});\n",
              "          if (!dataTable) return;\n",
              "\n",
              "          const docLinkHtml = 'Like what you see? Visit the ' +\n",
              "            '<a target=\"_blank\" href=https://colab.research.google.com/notebooks/data_table.ipynb>data table notebook</a>'\n",
              "            + ' to learn more about interactive tables.';\n",
              "          element.innerHTML = '';\n",
              "          dataTable['output_type'] = 'display_data';\n",
              "          await google.colab.output.renderOutput(dataTable, element);\n",
              "          const docLink = document.createElement('div');\n",
              "          docLink.innerHTML = docLinkHtml;\n",
              "          element.appendChild(docLink);\n",
              "        }\n",
              "      </script>\n",
              "    </div>\n",
              "  </div>\n",
              "  "
            ]
          },
          "metadata": {},
          "execution_count": 42
        }
      ],
      "source": [
        "# cria um dataframe para registro do score de todos os modelos testados para futuro registro e comparação\n",
        "import pandas as pd\n",
        "lmodelo = []\n",
        "lloss = []\n",
        "laccuracy = []\n",
        "lbatch_size = []                  # foram feitos testes com 128 e 256\n",
        "lepochs = []                        # foram feitos testes com 15, 25, 50, 60, 75 e 100\n",
        "lvalidation_split = [] \n",
        "\n",
        "dict = {}\n",
        "\n",
        "for i in range(len(scores)):\n",
        "  lmodelo.append(i)\n",
        "  lloss.append(float(scores[i][0])) \n",
        "  laccuracy.append(float(scores[i][1]))\n",
        "  lbatch_size .append(cfg_list[i][0])\n",
        "  lepochs.append(cfg_list[i][1])\n",
        "  lvalidation_split.append(cfg_list[i][2])\n",
        "dict = {'Id Modelo':lmodelo,'Loss':lloss,'Accuracy':laccuracy,'Batch size':lbatch_size,'Epocs':lepochs,'Validation split':lvalidation_split}\n",
        "df = pd.DataFrame(dict).sort_values(['Accuracy','Loss'],ascending=[False,True]).reset_index(drop=True)\n",
        "df"
      ]
    },
    {
      "cell_type": "markdown",
      "source": [
        "# Refazendo a predição para o conjunto de teste com o melhor modelo"
      ],
      "metadata": {
        "id": "_hcv1ZQEo_sx"
      }
    },
    {
      "cell_type": "code",
      "execution_count": null,
      "metadata": {
        "id": "Pzcrk1PaVrgu",
        "colab": {
          "base_uri": "https://localhost:8080/"
        },
        "outputId": "7a28ee0c-a6b0-422d-96fa-bde6d064e2f8"
      },
      "outputs": [
        {
          "output_type": "stream",
          "name": "stdout",
          "text": [
            "Model: \"sequential_4\"\n",
            "_________________________________________________________________\n",
            " Layer (type)                Output Shape              Param #   \n",
            "=================================================================\n",
            " conv2d_8 (Conv2D)           (None, 26, 26, 32)        320       \n",
            "                                                                 \n",
            " max_pooling2d_8 (MaxPooling  (None, 13, 13, 32)       0         \n",
            " 2D)                                                             \n",
            "                                                                 \n",
            " conv2d_9 (Conv2D)           (None, 11, 11, 64)        18496     \n",
            "                                                                 \n",
            " max_pooling2d_9 (MaxPooling  (None, 5, 5, 64)         0         \n",
            " 2D)                                                             \n",
            "                                                                 \n",
            " flatten_4 (Flatten)         (None, 1600)              0         \n",
            "                                                                 \n",
            " dense_8 (Dense)             (None, 128)               204928    \n",
            "                                                                 \n",
            " dropout_4 (Dropout)         (None, 128)               0         \n",
            "                                                                 \n",
            " dense_9 (Dense)             (None, 10)                1290      \n",
            "                                                                 \n",
            "=================================================================\n",
            "Total params: 225,034\n",
            "Trainable params: 225,034\n",
            "Non-trainable params: 0\n",
            "_________________________________________________________________\n"
          ]
        }
      ],
      "source": [
        "# Carrega o melhor modelo (considerado o com maior acurácia e menor loss)\n",
        "id_best_model = df.iloc[0,0]\n",
        "filepath = f'model-{id_best_model}.h5'\n",
        "best_model = tensorflow.keras.models.load_model(\n",
        "    filepath, custom_objects=None, compile=True, options=None)\n",
        "\n",
        "best_model.summary()"
      ]
    },
    {
      "cell_type": "markdown",
      "source": [
        "# Predict e exibindo 15 registros aleatórios"
      ],
      "metadata": {
        "id": "OP1kqjP7BL3N"
      }
    },
    {
      "cell_type": "code",
      "source": [
        "y_predict = best_model.predict(x_test)"
      ],
      "metadata": {
        "id": "XZVP7QxKJz4g"
      },
      "execution_count": null,
      "outputs": []
    },
    {
      "cell_type": "code",
      "source": [
        "plt.figure(figsize=(15, 15))\n",
        "for i in range(15):\n",
        "    plt.subplot(1, 15, i + 1)\n",
        "    #plt.subplot(6, 6, i + 1)\n",
        "    plt.xticks([])\n",
        "    plt.yticks([])\n",
        "    plt.grid(False)\n",
        "    j = random.randint(1, len(x_test))\n",
        "    plt.imshow(x_test[j].reshape((28,28)))\n",
        "    label_index = np.argmax(y_predict[j])     # argmax do elemento escolhido em y_predict\n",
        "    plt.title(class_names[label_index])\n",
        "plt.show()"
      ],
      "metadata": {
        "id": "RUbtaYiYMG7I",
        "colab": {
          "base_uri": "https://localhost:8080/",
          "height": 97
        },
        "outputId": "dc5c2f64-7252-441e-aa77-e8539414cd8a"
      },
      "execution_count": null,
      "outputs": [
        {
          "output_type": "display_data",
          "data": {
            "text/plain": [
              "<Figure size 1080x1080 with 15 Axes>"
            ],
            "image/png": "[encoded data removed]"
          },
          "metadata": {}
        }
      ]
    }
  ],
  "metadata": {
    "accelerator": "GPU",
    "colab": {
      "collapsed_sections": [
        "psNYcdBrdqa3",
        "_hcv1ZQEo_sx",
        "OP1kqjP7BL3N"
      ],
      "name": "Flavio_Adam_mnist_convnet.ipynb",
      "provenance": []
    },
    "kernelspec": {
      "display_name": "Python 3",
      "language": "python",
      "name": "python3"
    },
    "language_info": {
      "codemirror_mode": {
        "name": "ipython",
        "version": 3
      },
      "file_extension": ".py",
      "mimetype": "text/x-python",
      "name": "python",
      "nbconvert_exporter": "python",
      "pygments_lexer": "ipython3",
      "version": "3.7.0"
    }
  },
  "nbformat": 4,
  "nbformat_minor": 0
}